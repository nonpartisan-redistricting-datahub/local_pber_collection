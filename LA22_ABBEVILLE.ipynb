{
 "cells": [
  {
   "cell_type": "markdown",
   "id": "2316ed04",
   "metadata": {},
   "source": [
    "## Abbeville, LA 2022 City Council and Mayoral Election Results and Boundaries"
   ]
  },
  {
   "cell_type": "markdown",
   "id": "9a55f61b",
   "metadata": {},
   "source": [
    "### Sections\n",
    "- <a href=\"#join\">Read in Input Files and Join</a><br>\n",
    "- <a href=\"#shp\">Create Ward Boundaries</a><br>\n",
    "- <a href=\"#maup\">Join with Election Returns</a><br>\n",
    "- <a href=\"#exp\">Export Cleaned Datasets</a><br>\n",
    "\n",
    "#### Sources\n",
    "\n",
    "- [Louisiana Secretary of State - Abbeville, LA 2022 Municipal Election Returns](https://voterportal.sos.la.gov/static/2022-03-26/resultsRace/57)) \n",
    "- [Abbeville, LA City Council Districts KML](https://www.google.com/maps/d/viewer?mid=1xOlAo0KxOxlGTTVqt9B8kMp7FcTw5fqB&ll=29.977346522059307%2C-92.1217195&z=14)\n",
    "- [RDH - Louisiana 2022 General Election Precinct-Level Results and Boundaries](https://redistrictingdatahub.org/dataset/louisiana-2022-general-election-precinct-level-results/)"
   ]
  },
  {
   "cell_type": "code",
   "execution_count": 1,
   "id": "786c464d",
   "metadata": {},
   "outputs": [],
   "source": [
    "import pandas as pd\n",
    "import geopandas as gp\n",
    "import os\n",
    "import numpy as np\n",
    "import matplotlib.pyplot as plt\n",
    "pd.set_option('display.max_rows', 1000)\n",
    "pd.set_option('display.max_columns', 1000)"
   ]
  },
  {
   "cell_type": "markdown",
   "id": "b88e14ca",
   "metadata": {},
   "source": [
    "######  RDH Function to Allocate Early Votes"
   ]
  },
  {
   "cell_type": "code",
   "execution_count": 2,
   "id": "106cc67a",
   "metadata": {},
   "outputs": [],
   "source": [
    "def allocate_absentee(df_receiving_votes,df_allocating,column_list,col_allocating,allocating_to_all_empty_precs=False):\n",
    "    \"\"\"Allocates votes proportionally to precincts, usually by share of precinct-reported vote\n",
    "\n",
    "    Args:\n",
    "      df_receiving_votes: DataFrame with precinct-level votes\n",
    "      df_allocating: DataFrame with the votes to allocate\n",
    "      column_list: List of races that votes are being allocated for\n",
    "      col_allocating: String referring to what level the allocation occurs at (most often county)\n",
    "      allocating_to_all_empty_precs: Boolean for special case where all votes in df_receiving_votes are 0\n",
    "\n",
    "    Returns:\n",
    "      The precinct-level votes dataframe (df_receiving_votes) with the allocated votes\n",
    "    \"\"\"\n",
    "    \n",
    "    #Fill any n/a values with 0\n",
    "    df_receiving_votes = df_receiving_votes.fillna(0)\n",
    "    #Grab the original columns, so we can filter back down to them later\n",
    "    original_cols = list(df_receiving_votes.columns)\n",
    "    \n",
    "    #Add in the \"Total Votes column\"\n",
    "    if (allocating_to_all_empty_precs):\n",
    "        #In cases where every vote is 0, need to set the Total_Votes equal to 1 for proportional allocation\n",
    "        df_receiving_votes.loc[:,\"Total_Votes\"]=1\n",
    "    else:\n",
    "        df_receiving_votes.loc[:,\"Total_Votes\"]=0\n",
    "        for race in column_list:\n",
    "            df_receiving_votes.loc[:,\"Total_Votes\"]+=df_receiving_votes.loc[:,race]\n",
    "    \n",
    "    #Create the needed dataframes\n",
    "    precinct_specific_totals = pd.DataFrame(df_receiving_votes.groupby([col_allocating]).sum(numeric_only=True))\n",
    "    precinct_specific_totals.reset_index(drop=False,inplace=True)\n",
    "    to_dole_out_totals = pd.DataFrame(df_allocating.groupby([col_allocating]).sum())\n",
    "    to_dole_out_totals.reset_index(drop=False,inplace=True)\n",
    "    \n",
    "    #Add in total sum check\n",
    "    sum_dataframe = pd.DataFrame(columns=precinct_specific_totals.columns)\n",
    "    for i in column_list:\n",
    "        total_votes = precinct_specific_totals.loc[:,i].sum()+to_dole_out_totals.loc[:,i].sum()\n",
    "        sum_dataframe.at[0,i]=total_votes.astype(int)\n",
    "    \n",
    "    #Check the allocating to empty precincts code\n",
    "    if (allocating_to_all_empty_precs):\n",
    "        for i in column_list:\n",
    "            if(sum(precinct_specific_totals[i])!=0):\n",
    "                print(\"Allocating to all empty precincts parameter incorrect\")\n",
    "                break\n",
    "    \n",
    "    #Print out any instances where the allocation, as written, won't work\n",
    "    special_allocation_needed = []\n",
    "    for index, row in precinct_specific_totals.iterrows():\n",
    "        for race in column_list:\n",
    "            if (row[race]==0):\n",
    "                race_district = row[col_allocating]\n",
    "                if race_district in to_dole_out_totals[col_allocating].unique():\n",
    "                    to_allocate = int(to_dole_out_totals.loc[to_dole_out_totals[col_allocating]==race_district][race])\n",
    "                    if (to_allocate != 0):\n",
    "                        special_allocation_needed.append([race_district,race])\n",
    "                        if(row[\"Total_Votes\"]==0):\n",
    "                            precinct_specific_totals.loc[index,\"Total_Votes\"]=1\n",
    "                            col_val = row[col_allocating]\n",
    "                            df_receiving_votes.loc[df_receiving_votes[col_allocating]==col_val,\"Total_Votes\"]=1\n",
    "                            special_allocation_needed.append([race_district,race])\n",
    "    if(len(special_allocation_needed) > 0):\n",
    "        print(\"Special allocation used for\", special_allocation_needed)\n",
    "\n",
    "    #Create some new columns for each of these races to deal with the allocation\n",
    "    for race in column_list:\n",
    "        add_var = race+\"_add\"\n",
    "        rem_var = race+\"_rem\"\n",
    "        floor_var = race+\"_floor\"\n",
    "        df_receiving_votes.loc[:,add_var]=0.0\n",
    "        df_receiving_votes.loc[:,rem_var]=0.0\n",
    "        df_receiving_votes.loc[:,floor_var]=0.0\n",
    "\n",
    "    #Iterate over the rows\n",
    "    #Note this function iterates over the dataframe two times so the rounded vote totals match the totals to allocate\n",
    "    for index, row in df_receiving_votes.iterrows():\n",
    "        if row[col_allocating] in to_dole_out_totals[col_allocating].unique():\n",
    "            for race in column_list:\n",
    "                add_var = race+\"_add\"\n",
    "                rem_var = race+\"_rem\"\n",
    "                floor_var = race+\"_floor\"\n",
    "                #Grab the district\n",
    "                county_id = row[col_allocating]\n",
    "                if [county_id,race] in special_allocation_needed:\n",
    "                    #Get the denominator for the allocation - the summed \"total votes\" for precincts in that grouping\n",
    "                    denom = precinct_specific_totals.loc[precinct_specific_totals[col_allocating]==county_id][\"Total_Votes\"]\n",
    "                    #Get one of the numerators, how many districtwide votes to allocate\n",
    "                    numer = to_dole_out_totals.loc[to_dole_out_totals[col_allocating]==county_id][race]\n",
    "                    #Get the \"total votes\" for this particular precinct\n",
    "                    val = df_receiving_votes.at[index,\"Total_Votes\"]\n",
    "                    #Get the vote share, the precincts % of total precinct votes in the district times votes to allocate\n",
    "                else:\n",
    "                    #Get the denominator for the allocation (the precinct vote totals)\n",
    "                    denom = precinct_specific_totals.loc[precinct_specific_totals[col_allocating]==county_id][race]\n",
    "                    #Get one of the numerators, how many districtwide votes to allocate\n",
    "                    numer = to_dole_out_totals.loc[to_dole_out_totals[col_allocating]==county_id][race]\n",
    "                    #Get the vote totals for this race in this precinct\n",
    "                    val = df_receiving_votes.at[index,race]\n",
    "                    #Get the vote share, the precincts % of total precinct votes in the district times votes to allocate\n",
    "                if ((float(denom)==0)):\n",
    "                    vote_share = 0\n",
    "                else:\n",
    "                    vote_share = (float(val)/float(denom))*float(numer)\n",
    "                df_receiving_votes.at[index,add_var] = vote_share\n",
    "                #Take the decimal remainder of the allocation\n",
    "                df_receiving_votes.at[index,rem_var] = vote_share%1\n",
    "                #Take the floor of the allocation\n",
    "                df_receiving_votes.at[index,floor_var] = np.floor(vote_share)\n",
    "\n",
    "    #After the first pass through, get the sums of the races by district to assist in the rounding            \n",
    "    first_allocation = pd.DataFrame(df_receiving_votes.groupby([col_allocating]).sum(numeric_only=True))\n",
    "\n",
    "    #Now we want to iterate district by district to work on rounding\n",
    "    county_list = list(to_dole_out_totals[col_allocating].unique()) \n",
    "\n",
    "    #Iterate over the district\n",
    "    for county in county_list:\n",
    "        for race in column_list:\n",
    "            add_var = race+\"_add\"\n",
    "            rem_var = race+\"_rem\"\n",
    "            floor_var = race+\"_floor\"\n",
    "            #County how many votes still need to be allocated (because we took the floor of all the initial allocations)\n",
    "            to_go = int(np.round((int(to_dole_out_totals.loc[to_dole_out_totals[col_allocating]==county][race])-first_allocation.loc[first_allocation.index==county,floor_var])))\n",
    "            #Grab the n precincts with the highest remainders and round these up, where n is the # of votes that still need to be allocated\n",
    "            for index in df_receiving_votes.loc[df_receiving_votes[col_allocating]==county][rem_var].nlargest(to_go).index:\n",
    "                df_receiving_votes.at[index,add_var] = np.ceil(df_receiving_votes.at[index,add_var])\n",
    "\n",
    "    #Iterate over every race again\n",
    "    for race in column_list:\n",
    "        add_var = race+\"_add\"\n",
    "        #Round every allocation down to not add fractional votes\n",
    "        df_receiving_votes.loc[:,add_var]=np.floor(df_receiving_votes.loc[:,add_var])\n",
    "        df_receiving_votes.loc[:,race]+=df_receiving_votes.loc[:,add_var]\n",
    "        df_receiving_votes.loc[:,race] = df_receiving_votes.loc[:,race].astype(int)\n",
    "        #Check to make sure all the votes have been allocated\n",
    "        if ((sum_dataframe.loc[:,race].sum()-df_receiving_votes.loc[:,race].sum()!=0)):\n",
    "            print(\"Some issue in allocating votes for:\", i)\n",
    "            \n",
    "    #Filter down to original columns\n",
    "    df_receiving_votes = df_receiving_votes[original_cols]\n",
    "\n",
    "    return df_receiving_votes"
   ]
  },
  {
   "cell_type": "markdown",
   "id": "c322eddd",
   "metadata": {},
   "source": [
    "<p><a name=\"join\"></a></p>\n",
    "\n",
    "### Read in input files"
   ]
  },
  {
   "cell_type": "markdown",
   "id": "78b93aab",
   "metadata": {},
   "source": [
    "Election returns were transcribed from Louisiana SOS website to machine readable format, and checked for accuracy."
   ]
  },
  {
   "cell_type": "code",
   "execution_count": 3,
   "id": "bd61378d",
   "metadata": {
    "scrolled": true
   },
   "outputs": [
    {
     "data": {
      "text/html": [
       "<div>\n",
       "<style scoped>\n",
       "    .dataframe tbody tr th:only-of-type {\n",
       "        vertical-align: middle;\n",
       "    }\n",
       "\n",
       "    .dataframe tbody tr th {\n",
       "        vertical-align: top;\n",
       "    }\n",
       "\n",
       "    .dataframe thead th {\n",
       "        text-align: right;\n",
       "    }\n",
       "</style>\n",
       "<table border=\"1\" class=\"dataframe\">\n",
       "  <thead>\n",
       "    <tr style=\"text-align: right;\">\n",
       "      <th></th>\n",
       "      <th>Precinct</th>\n",
       "      <th>District</th>\n",
       "      <th>G22MYRRPLA</th>\n",
       "      <th>G22MYRNWHI</th>\n",
       "      <th>G22CTCDCAM</th>\n",
       "      <th>G22CTCDDAR</th>\n",
       "      <th>G22CTCDPOT</th>\n",
       "      <th>GCTCARGAR</th>\n",
       "      <th>GCTCARHAR</th>\n",
       "      <th>GCTCCIBRO</th>\n",
       "      <th>GCTCCRTRA</th>\n",
       "      <th>GCTCDRBRO</th>\n",
       "      <th>GCTCDDGRE</th>\n",
       "      <th>GCTCDDLAN</th>\n",
       "      <th>MNCIPAL</th>\n",
       "    </tr>\n",
       "  </thead>\n",
       "  <tbody>\n",
       "    <tr>\n",
       "      <th>0</th>\n",
       "      <td>00 28</td>\n",
       "      <td>A</td>\n",
       "      <td>27</td>\n",
       "      <td>24</td>\n",
       "      <td>32</td>\n",
       "      <td>12</td>\n",
       "      <td>4</td>\n",
       "      <td>18</td>\n",
       "      <td>33</td>\n",
       "      <td>0</td>\n",
       "      <td>0</td>\n",
       "      <td>0</td>\n",
       "      <td>0</td>\n",
       "      <td>0</td>\n",
       "      <td>ABBEVILLE</td>\n",
       "    </tr>\n",
       "    <tr>\n",
       "      <th>1</th>\n",
       "      <td>00 29</td>\n",
       "      <td>A</td>\n",
       "      <td>92</td>\n",
       "      <td>80</td>\n",
       "      <td>64</td>\n",
       "      <td>81</td>\n",
       "      <td>14</td>\n",
       "      <td>77</td>\n",
       "      <td>93</td>\n",
       "      <td>0</td>\n",
       "      <td>0</td>\n",
       "      <td>0</td>\n",
       "      <td>0</td>\n",
       "      <td>0</td>\n",
       "      <td>ABBEVILLE</td>\n",
       "    </tr>\n",
       "    <tr>\n",
       "      <th>2</th>\n",
       "      <td>00 32B</td>\n",
       "      <td>A</td>\n",
       "      <td>27</td>\n",
       "      <td>37</td>\n",
       "      <td>34</td>\n",
       "      <td>23</td>\n",
       "      <td>8</td>\n",
       "      <td>32</td>\n",
       "      <td>31</td>\n",
       "      <td>0</td>\n",
       "      <td>0</td>\n",
       "      <td>0</td>\n",
       "      <td>0</td>\n",
       "      <td>0</td>\n",
       "      <td>ABBEVILLE</td>\n",
       "    </tr>\n",
       "    <tr>\n",
       "      <th>3</th>\n",
       "      <td>00 34</td>\n",
       "      <td>D</td>\n",
       "      <td>80</td>\n",
       "      <td>52</td>\n",
       "      <td>77</td>\n",
       "      <td>49</td>\n",
       "      <td>1</td>\n",
       "      <td>0</td>\n",
       "      <td>0</td>\n",
       "      <td>0</td>\n",
       "      <td>0</td>\n",
       "      <td>20</td>\n",
       "      <td>0</td>\n",
       "      <td>2</td>\n",
       "      <td>ABBEVILLE</td>\n",
       "    </tr>\n",
       "    <tr>\n",
       "      <th>4</th>\n",
       "      <td>00 34A</td>\n",
       "      <td>A</td>\n",
       "      <td>26</td>\n",
       "      <td>29</td>\n",
       "      <td>21</td>\n",
       "      <td>26</td>\n",
       "      <td>10</td>\n",
       "      <td>9</td>\n",
       "      <td>11</td>\n",
       "      <td>0</td>\n",
       "      <td>0</td>\n",
       "      <td>0</td>\n",
       "      <td>0</td>\n",
       "      <td>0</td>\n",
       "      <td>ABBEVILLE</td>\n",
       "    </tr>\n",
       "    <tr>\n",
       "      <th>5</th>\n",
       "      <td>00 35</td>\n",
       "      <td>C</td>\n",
       "      <td>59</td>\n",
       "      <td>108</td>\n",
       "      <td>90</td>\n",
       "      <td>51</td>\n",
       "      <td>11</td>\n",
       "      <td>0</td>\n",
       "      <td>0</td>\n",
       "      <td>113</td>\n",
       "      <td>51</td>\n",
       "      <td>0</td>\n",
       "      <td>0</td>\n",
       "      <td>0</td>\n",
       "      <td>ABBEVILLE</td>\n",
       "    </tr>\n",
       "    <tr>\n",
       "      <th>6</th>\n",
       "      <td>00 36A-1</td>\n",
       "      <td>A/C/D</td>\n",
       "      <td>30</td>\n",
       "      <td>23</td>\n",
       "      <td>32</td>\n",
       "      <td>17</td>\n",
       "      <td>7</td>\n",
       "      <td>1</td>\n",
       "      <td>3</td>\n",
       "      <td>24</td>\n",
       "      <td>13</td>\n",
       "      <td>5</td>\n",
       "      <td>0</td>\n",
       "      <td>3</td>\n",
       "      <td>ABBEVILLE</td>\n",
       "    </tr>\n",
       "    <tr>\n",
       "      <th>7</th>\n",
       "      <td>00 37</td>\n",
       "      <td>C/D</td>\n",
       "      <td>68</td>\n",
       "      <td>137</td>\n",
       "      <td>115</td>\n",
       "      <td>69</td>\n",
       "      <td>25</td>\n",
       "      <td>0</td>\n",
       "      <td>0</td>\n",
       "      <td>12</td>\n",
       "      <td>1</td>\n",
       "      <td>142</td>\n",
       "      <td>7</td>\n",
       "      <td>45</td>\n",
       "      <td>ABBEVILLE</td>\n",
       "    </tr>\n",
       "    <tr>\n",
       "      <th>8</th>\n",
       "      <td>00 38</td>\n",
       "      <td>D</td>\n",
       "      <td>24</td>\n",
       "      <td>95</td>\n",
       "      <td>61</td>\n",
       "      <td>52</td>\n",
       "      <td>12</td>\n",
       "      <td>0</td>\n",
       "      <td>0</td>\n",
       "      <td>0</td>\n",
       "      <td>0</td>\n",
       "      <td>78</td>\n",
       "      <td>4</td>\n",
       "      <td>41</td>\n",
       "      <td>ABBEVILLE</td>\n",
       "    </tr>\n",
       "    <tr>\n",
       "      <th>9</th>\n",
       "      <td>00 39</td>\n",
       "      <td>C/D</td>\n",
       "      <td>43</td>\n",
       "      <td>56</td>\n",
       "      <td>45</td>\n",
       "      <td>50</td>\n",
       "      <td>7</td>\n",
       "      <td>0</td>\n",
       "      <td>0</td>\n",
       "      <td>11</td>\n",
       "      <td>9</td>\n",
       "      <td>36</td>\n",
       "      <td>14</td>\n",
       "      <td>29</td>\n",
       "      <td>ABBEVILLE</td>\n",
       "    </tr>\n",
       "    <tr>\n",
       "      <th>10</th>\n",
       "      <td>00 40</td>\n",
       "      <td>C</td>\n",
       "      <td>61</td>\n",
       "      <td>70</td>\n",
       "      <td>66</td>\n",
       "      <td>48</td>\n",
       "      <td>13</td>\n",
       "      <td>0</td>\n",
       "      <td>0</td>\n",
       "      <td>86</td>\n",
       "      <td>45</td>\n",
       "      <td>0</td>\n",
       "      <td>0</td>\n",
       "      <td>0</td>\n",
       "      <td>ABBEVILLE</td>\n",
       "    </tr>\n",
       "    <tr>\n",
       "      <th>11</th>\n",
       "      <td>00 42A</td>\n",
       "      <td>0</td>\n",
       "      <td>4</td>\n",
       "      <td>3</td>\n",
       "      <td>1</td>\n",
       "      <td>4</td>\n",
       "      <td>0</td>\n",
       "      <td>0</td>\n",
       "      <td>0</td>\n",
       "      <td>0</td>\n",
       "      <td>0</td>\n",
       "      <td>0</td>\n",
       "      <td>0</td>\n",
       "      <td>0</td>\n",
       "      <td>ABBEVILLE</td>\n",
       "    </tr>\n",
       "    <tr>\n",
       "      <th>12</th>\n",
       "      <td>00 46A</td>\n",
       "      <td>A</td>\n",
       "      <td>20</td>\n",
       "      <td>37</td>\n",
       "      <td>31</td>\n",
       "      <td>18</td>\n",
       "      <td>4</td>\n",
       "      <td>36</td>\n",
       "      <td>21</td>\n",
       "      <td>0</td>\n",
       "      <td>0</td>\n",
       "      <td>0</td>\n",
       "      <td>0</td>\n",
       "      <td>0</td>\n",
       "      <td>ABBEVILLE</td>\n",
       "    </tr>\n",
       "    <tr>\n",
       "      <th>13</th>\n",
       "      <td>00 46B-1</td>\n",
       "      <td>0</td>\n",
       "      <td>0</td>\n",
       "      <td>0</td>\n",
       "      <td>0</td>\n",
       "      <td>0</td>\n",
       "      <td>0</td>\n",
       "      <td>0</td>\n",
       "      <td>0</td>\n",
       "      <td>0</td>\n",
       "      <td>0</td>\n",
       "      <td>0</td>\n",
       "      <td>0</td>\n",
       "      <td>0</td>\n",
       "      <td>ABBEVILLE</td>\n",
       "    </tr>\n",
       "    <tr>\n",
       "      <th>14</th>\n",
       "      <td>00 46B-2</td>\n",
       "      <td>0</td>\n",
       "      <td>5</td>\n",
       "      <td>8</td>\n",
       "      <td>5</td>\n",
       "      <td>9</td>\n",
       "      <td>0</td>\n",
       "      <td>0</td>\n",
       "      <td>0</td>\n",
       "      <td>0</td>\n",
       "      <td>0</td>\n",
       "      <td>0</td>\n",
       "      <td>0</td>\n",
       "      <td>0</td>\n",
       "      <td>ABBEVILLE</td>\n",
       "    </tr>\n",
       "    <tr>\n",
       "      <th>15</th>\n",
       "      <td>00 46B-3</td>\n",
       "      <td>A</td>\n",
       "      <td>1</td>\n",
       "      <td>8</td>\n",
       "      <td>1</td>\n",
       "      <td>7</td>\n",
       "      <td>2</td>\n",
       "      <td>0</td>\n",
       "      <td>0</td>\n",
       "      <td>0</td>\n",
       "      <td>0</td>\n",
       "      <td>0</td>\n",
       "      <td>0</td>\n",
       "      <td>0</td>\n",
       "      <td>ABBEVILLE</td>\n",
       "    </tr>\n",
       "    <tr>\n",
       "      <th>16</th>\n",
       "      <td>00 46B-4</td>\n",
       "      <td>0</td>\n",
       "      <td>17</td>\n",
       "      <td>40</td>\n",
       "      <td>24</td>\n",
       "      <td>20</td>\n",
       "      <td>14</td>\n",
       "      <td>0</td>\n",
       "      <td>0</td>\n",
       "      <td>0</td>\n",
       "      <td>0</td>\n",
       "      <td>0</td>\n",
       "      <td>0</td>\n",
       "      <td>0</td>\n",
       "      <td>ABBEVILLE</td>\n",
       "    </tr>\n",
       "    <tr>\n",
       "      <th>17</th>\n",
       "      <td>Early</td>\n",
       "      <td>0</td>\n",
       "      <td>319</td>\n",
       "      <td>496</td>\n",
       "      <td>446</td>\n",
       "      <td>264</td>\n",
       "      <td>79</td>\n",
       "      <td>107</td>\n",
       "      <td>121</td>\n",
       "      <td>161</td>\n",
       "      <td>44</td>\n",
       "      <td>171</td>\n",
       "      <td>14</td>\n",
       "      <td>46</td>\n",
       "      <td>ABBEVILLE</td>\n",
       "    </tr>\n",
       "    <tr>\n",
       "      <th>18</th>\n",
       "      <td>Total</td>\n",
       "      <td>0</td>\n",
       "      <td>903</td>\n",
       "      <td>1303</td>\n",
       "      <td>1145</td>\n",
       "      <td>800</td>\n",
       "      <td>211</td>\n",
       "      <td>280</td>\n",
       "      <td>313</td>\n",
       "      <td>407</td>\n",
       "      <td>163</td>\n",
       "      <td>452</td>\n",
       "      <td>39</td>\n",
       "      <td>166</td>\n",
       "      <td>ABBEVILLE</td>\n",
       "    </tr>\n",
       "  </tbody>\n",
       "</table>\n",
       "</div>"
      ],
      "text/plain": [
       "    Precinct District  G22MYRRPLA  G22MYRNWHI  G22CTCDCAM  G22CTCDDAR  \\\n",
       "0      00 28        A          27          24          32          12   \n",
       "1      00 29        A          92          80          64          81   \n",
       "2     00 32B        A          27          37          34          23   \n",
       "3      00 34        D          80          52          77          49   \n",
       "4     00 34A        A          26          29          21          26   \n",
       "5      00 35        C          59         108          90          51   \n",
       "6   00 36A-1    A/C/D          30          23          32          17   \n",
       "7      00 37      C/D          68         137         115          69   \n",
       "8      00 38        D          24          95          61          52   \n",
       "9      00 39      C/D          43          56          45          50   \n",
       "10     00 40        C          61          70          66          48   \n",
       "11    00 42A        0           4           3           1           4   \n",
       "12    00 46A        A          20          37          31          18   \n",
       "13  00 46B-1        0           0           0           0           0   \n",
       "14  00 46B-2        0           5           8           5           9   \n",
       "15  00 46B-3        A           1           8           1           7   \n",
       "16  00 46B-4        0          17          40          24          20   \n",
       "17     Early        0         319         496         446         264   \n",
       "18     Total        0         903        1303        1145         800   \n",
       "\n",
       "    G22CTCDPOT  GCTCARGAR  GCTCARHAR  GCTCCIBRO  GCTCCRTRA  GCTCDRBRO  \\\n",
       "0            4         18         33          0          0          0   \n",
       "1           14         77         93          0          0          0   \n",
       "2            8         32         31          0          0          0   \n",
       "3            1          0          0          0          0         20   \n",
       "4           10          9         11          0          0          0   \n",
       "5           11          0          0        113         51          0   \n",
       "6            7          1          3         24         13          5   \n",
       "7           25          0          0         12          1        142   \n",
       "8           12          0          0          0          0         78   \n",
       "9            7          0          0         11          9         36   \n",
       "10          13          0          0         86         45          0   \n",
       "11           0          0          0          0          0          0   \n",
       "12           4         36         21          0          0          0   \n",
       "13           0          0          0          0          0          0   \n",
       "14           0          0          0          0          0          0   \n",
       "15           2          0          0          0          0          0   \n",
       "16          14          0          0          0          0          0   \n",
       "17          79        107        121        161         44        171   \n",
       "18         211        280        313        407        163        452   \n",
       "\n",
       "    GCTCDDGRE  GCTCDDLAN    MNCIPAL  \n",
       "0           0          0  ABBEVILLE  \n",
       "1           0          0  ABBEVILLE  \n",
       "2           0          0  ABBEVILLE  \n",
       "3           0          2  ABBEVILLE  \n",
       "4           0          0  ABBEVILLE  \n",
       "5           0          0  ABBEVILLE  \n",
       "6           0          3  ABBEVILLE  \n",
       "7           7         45  ABBEVILLE  \n",
       "8           4         41  ABBEVILLE  \n",
       "9          14         29  ABBEVILLE  \n",
       "10          0          0  ABBEVILLE  \n",
       "11          0          0  ABBEVILLE  \n",
       "12          0          0  ABBEVILLE  \n",
       "13          0          0  ABBEVILLE  \n",
       "14          0          0  ABBEVILLE  \n",
       "15          0          0  ABBEVILLE  \n",
       "16          0          0  ABBEVILLE  \n",
       "17         14         46  ABBEVILLE  \n",
       "18         39        166  ABBEVILLE  "
      ]
     },
     "execution_count": 3,
     "metadata": {},
     "output_type": "execute_result"
    }
   ],
   "source": [
    "#Election Returns by precinct\n",
    "er_raw = pd.read_csv(\"./raw-from-source/LA22_ABBEVILLE_ER.csv\").fillna(0)\n",
    "# Add in Municipality column\n",
    "er_raw['MNCIPAL'] = 'ABBEVILLE'\n",
    "er_raw"
   ]
  },
  {
   "cell_type": "code",
   "execution_count": 4,
   "id": "ccd92de3",
   "metadata": {},
   "outputs": [
    {
     "data": {
      "text/plain": [
       "['G22MYRRPLA',\n",
       " 'G22MYRNWHI',\n",
       " 'G22CTCDCAM',\n",
       " 'G22CTCDDAR',\n",
       " 'G22CTCDPOT',\n",
       " 'GCTCARGAR',\n",
       " 'GCTCARHAR',\n",
       " 'GCTCCIBRO',\n",
       " 'GCTCCRTRA',\n",
       " 'GCTCDRBRO',\n",
       " 'GCTCDDGRE',\n",
       " 'GCTCDDLAN']"
      ]
     },
     "execution_count": 4,
     "metadata": {},
     "output_type": "execute_result"
    }
   ],
   "source": [
    "vote_cols = list(er_raw.columns[2:-1])\n",
    "vote_cols"
   ]
  },
  {
   "cell_type": "code",
   "execution_count": 5,
   "id": "0fddaf99",
   "metadata": {},
   "outputs": [],
   "source": [
    "er_raw[vote_cols] = er_raw[vote_cols].astype(int)"
   ]
  },
  {
   "cell_type": "code",
   "execution_count": 6,
   "id": "7e9e6e65",
   "metadata": {},
   "outputs": [
    {
     "data": {
      "text/html": [
       "<div>\n",
       "<style scoped>\n",
       "    .dataframe tbody tr th:only-of-type {\n",
       "        vertical-align: middle;\n",
       "    }\n",
       "\n",
       "    .dataframe tbody tr th {\n",
       "        vertical-align: top;\n",
       "    }\n",
       "\n",
       "    .dataframe thead th {\n",
       "        text-align: right;\n",
       "    }\n",
       "</style>\n",
       "<table border=\"1\" class=\"dataframe\">\n",
       "  <thead>\n",
       "    <tr style=\"text-align: right;\">\n",
       "      <th></th>\n",
       "      <th>Precinct</th>\n",
       "      <th>District</th>\n",
       "      <th>G22MYRRPLA</th>\n",
       "      <th>G22MYRNWHI</th>\n",
       "      <th>G22CTCDCAM</th>\n",
       "      <th>G22CTCDDAR</th>\n",
       "      <th>G22CTCDPOT</th>\n",
       "      <th>GCTCARGAR</th>\n",
       "      <th>GCTCARHAR</th>\n",
       "      <th>GCTCCIBRO</th>\n",
       "      <th>GCTCCRTRA</th>\n",
       "      <th>GCTCDRBRO</th>\n",
       "      <th>GCTCDDGRE</th>\n",
       "      <th>GCTCDDLAN</th>\n",
       "      <th>MNCIPAL</th>\n",
       "    </tr>\n",
       "  </thead>\n",
       "  <tbody>\n",
       "    <tr>\n",
       "      <th>17</th>\n",
       "      <td>Early</td>\n",
       "      <td>0</td>\n",
       "      <td>319</td>\n",
       "      <td>496</td>\n",
       "      <td>446</td>\n",
       "      <td>264</td>\n",
       "      <td>79</td>\n",
       "      <td>107</td>\n",
       "      <td>121</td>\n",
       "      <td>161</td>\n",
       "      <td>44</td>\n",
       "      <td>171</td>\n",
       "      <td>14</td>\n",
       "      <td>46</td>\n",
       "      <td>ABBEVILLE</td>\n",
       "    </tr>\n",
       "  </tbody>\n",
       "</table>\n",
       "</div>"
      ],
      "text/plain": [
       "   Precinct District  G22MYRRPLA  G22MYRNWHI  G22CTCDCAM  G22CTCDDAR  \\\n",
       "17    Early        0         319         496         446         264   \n",
       "\n",
       "    G22CTCDPOT  GCTCARGAR  GCTCARHAR  GCTCCIBRO  GCTCCRTRA  GCTCDRBRO  \\\n",
       "17          79        107        121        161         44        171   \n",
       "\n",
       "    GCTCDDGRE  GCTCDDLAN    MNCIPAL  \n",
       "17         14         46  ABBEVILLE  "
      ]
     },
     "execution_count": 6,
     "metadata": {},
     "output_type": "execute_result"
    }
   ],
   "source": [
    "er_rec = er_raw.iloc[:-2]\n",
    "er_alloc = er_raw.iloc[-2:-1]\n",
    "er_total = er_raw.iloc[-1:]\n",
    "er_alloc"
   ]
  },
  {
   "cell_type": "markdown",
   "id": "2fb08fc9",
   "metadata": {},
   "source": [
    "##### Vote Allocation for Early Votes"
   ]
  },
  {
   "cell_type": "code",
   "execution_count": 7,
   "id": "8caf1fea",
   "metadata": {},
   "outputs": [],
   "source": [
    "er_final = allocate_absentee(er_rec,er_alloc,vote_cols,\"MNCIPAL\",allocating_to_all_empty_precs=False)"
   ]
  },
  {
   "cell_type": "markdown",
   "id": "dcf5cc15",
   "metadata": {},
   "source": [
    "### Vote Totals Check"
   ]
  },
  {
   "cell_type": "code",
   "execution_count": 8,
   "id": "43a8d24b",
   "metadata": {},
   "outputs": [
    {
     "data": {
      "text/plain": [
       "G22MYRRPLA     903\n",
       "G22MYRNWHI    1303\n",
       "G22CTCDCAM    1145\n",
       "G22CTCDDAR     800\n",
       "G22CTCDPOT     211\n",
       "GCTCARGAR      280\n",
       "GCTCARHAR      313\n",
       "GCTCCIBRO      407\n",
       "GCTCCRTRA      163\n",
       "GCTCDRBRO      452\n",
       "GCTCDDGRE       39\n",
       "GCTCDDLAN      166\n",
       "dtype: int64"
      ]
     },
     "execution_count": 8,
     "metadata": {},
     "output_type": "execute_result"
    }
   ],
   "source": [
    "er_final[vote_cols].sum()"
   ]
  },
  {
   "cell_type": "code",
   "execution_count": 9,
   "id": "9e82ead7",
   "metadata": {},
   "outputs": [
    {
     "data": {
      "text/html": [
       "<div>\n",
       "<style scoped>\n",
       "    .dataframe tbody tr th:only-of-type {\n",
       "        vertical-align: middle;\n",
       "    }\n",
       "\n",
       "    .dataframe tbody tr th {\n",
       "        vertical-align: top;\n",
       "    }\n",
       "\n",
       "    .dataframe thead th {\n",
       "        text-align: right;\n",
       "    }\n",
       "</style>\n",
       "<table border=\"1\" class=\"dataframe\">\n",
       "  <thead>\n",
       "    <tr style=\"text-align: right;\">\n",
       "      <th></th>\n",
       "      <th>Precinct</th>\n",
       "      <th>District</th>\n",
       "      <th>G22MYRRPLA</th>\n",
       "      <th>G22MYRNWHI</th>\n",
       "      <th>G22CTCDCAM</th>\n",
       "      <th>G22CTCDDAR</th>\n",
       "      <th>G22CTCDPOT</th>\n",
       "      <th>GCTCARGAR</th>\n",
       "      <th>GCTCARHAR</th>\n",
       "      <th>GCTCCIBRO</th>\n",
       "      <th>GCTCCRTRA</th>\n",
       "      <th>GCTCDRBRO</th>\n",
       "      <th>GCTCDDGRE</th>\n",
       "      <th>GCTCDDLAN</th>\n",
       "      <th>MNCIPAL</th>\n",
       "    </tr>\n",
       "  </thead>\n",
       "  <tbody>\n",
       "    <tr>\n",
       "      <th>18</th>\n",
       "      <td>Total</td>\n",
       "      <td>0</td>\n",
       "      <td>903</td>\n",
       "      <td>1303</td>\n",
       "      <td>1145</td>\n",
       "      <td>800</td>\n",
       "      <td>211</td>\n",
       "      <td>280</td>\n",
       "      <td>313</td>\n",
       "      <td>407</td>\n",
       "      <td>163</td>\n",
       "      <td>452</td>\n",
       "      <td>39</td>\n",
       "      <td>166</td>\n",
       "      <td>ABBEVILLE</td>\n",
       "    </tr>\n",
       "  </tbody>\n",
       "</table>\n",
       "</div>"
      ],
      "text/plain": [
       "   Precinct District  G22MYRRPLA  G22MYRNWHI  G22CTCDCAM  G22CTCDDAR  \\\n",
       "18    Total        0         903        1303        1145         800   \n",
       "\n",
       "    G22CTCDPOT  GCTCARGAR  GCTCARHAR  GCTCCIBRO  GCTCCRTRA  GCTCDRBRO  \\\n",
       "18         211        280        313        407        163        452   \n",
       "\n",
       "    GCTCDDGRE  GCTCDDLAN    MNCIPAL  \n",
       "18         39        166  ABBEVILLE  "
      ]
     },
     "execution_count": 9,
     "metadata": {},
     "output_type": "execute_result"
    }
   ],
   "source": [
    "er_total"
   ]
  },
  {
   "cell_type": "markdown",
   "id": "ad28f1a1",
   "metadata": {},
   "source": [
    "## LA22_ABBEVILLE_DIST\n",
    "\n",
    "Raw KML file was read in to QGIS, and unincorporated islands were removed from two district shapes - Districts A and D"
   ]
  },
  {
   "cell_type": "code",
   "execution_count": 10,
   "id": "f247eda7",
   "metadata": {},
   "outputs": [],
   "source": [
    "# Read the edited geojsons in\n",
    "dist_a = gp.read_file(\"./raw-from-source/DIST_A_EDIT.geojson\")   \n",
    "dist_b = gp.read_file(\"./raw-from-source/DIST_B.geojson\") \n",
    "dist_c = gp.read_file(\"./raw-from-source/DIST_C.geojson\") \n",
    "dist_d = gp.read_file(\"./raw-from-source/DIST_D_EDIT.geojson\") "
   ]
  },
  {
   "cell_type": "code",
   "execution_count": 11,
   "id": "47dc3939",
   "metadata": {},
   "outputs": [],
   "source": [
    "#combine\n",
    "shp_raw = gp.GeoDataFrame(pd.concat([dist_a, dist_b, dist_c, dist_d], ignore_index=True), crs=dist_a.crs)"
   ]
  },
  {
   "cell_type": "code",
   "execution_count": 12,
   "id": "f5a6d0cd",
   "metadata": {},
   "outputs": [],
   "source": [
    "unique_id = ['ABBEVILLE_CITYCOUNC_A', 'ABBEVILLE_CITYCOUNC_B', 'ABBEVILLE_CITYCOUNC_C', 'ABBEVILLE_CITYCOUNC_D']"
   ]
  },
  {
   "cell_type": "code",
   "execution_count": 13,
   "id": "f3711c9c",
   "metadata": {},
   "outputs": [],
   "source": [
    "#Add unique ID col\n",
    "shp_raw['UNIQUE_ID'] = unique_id\n",
    "#subset\n",
    "shp_dist = shp_raw[['UNIQUE_ID', 'geometry']]"
   ]
  },
  {
   "cell_type": "code",
   "execution_count": 14,
   "id": "7a4e62aa",
   "metadata": {},
   "outputs": [
    {
     "data": {
      "text/html": [
       "<div>\n",
       "<style scoped>\n",
       "    .dataframe tbody tr th:only-of-type {\n",
       "        vertical-align: middle;\n",
       "    }\n",
       "\n",
       "    .dataframe tbody tr th {\n",
       "        vertical-align: top;\n",
       "    }\n",
       "\n",
       "    .dataframe thead th {\n",
       "        text-align: right;\n",
       "    }\n",
       "</style>\n",
       "<table border=\"1\" class=\"dataframe\">\n",
       "  <thead>\n",
       "    <tr style=\"text-align: right;\">\n",
       "      <th></th>\n",
       "      <th>UNIQUE_ID</th>\n",
       "      <th>geometry</th>\n",
       "    </tr>\n",
       "  </thead>\n",
       "  <tbody>\n",
       "    <tr>\n",
       "      <th>0</th>\n",
       "      <td>ABBEVILLE_CITYCOUNC_A</td>\n",
       "      <td>MULTIPOLYGON Z (((-92.12449 29.97980 0.00000, ...</td>\n",
       "    </tr>\n",
       "    <tr>\n",
       "      <th>1</th>\n",
       "      <td>ABBEVILLE_CITYCOUNC_B</td>\n",
       "      <td>POLYGON Z ((-92.07829 29.96562 0.00000, -92.07...</td>\n",
       "    </tr>\n",
       "    <tr>\n",
       "      <th>2</th>\n",
       "      <td>ABBEVILLE_CITYCOUNC_C</td>\n",
       "      <td>POLYGON Z ((-92.13667 29.97661 0.00000, -92.13...</td>\n",
       "    </tr>\n",
       "    <tr>\n",
       "      <th>3</th>\n",
       "      <td>ABBEVILLE_CITYCOUNC_D</td>\n",
       "      <td>MULTIPOLYGON Z (((-92.13780 29.96532 0.00000, ...</td>\n",
       "    </tr>\n",
       "  </tbody>\n",
       "</table>\n",
       "</div>"
      ],
      "text/plain": [
       "               UNIQUE_ID                                           geometry\n",
       "0  ABBEVILLE_CITYCOUNC_A  MULTIPOLYGON Z (((-92.12449 29.97980 0.00000, ...\n",
       "1  ABBEVILLE_CITYCOUNC_B  POLYGON Z ((-92.07829 29.96562 0.00000, -92.07...\n",
       "2  ABBEVILLE_CITYCOUNC_C  POLYGON Z ((-92.13667 29.97661 0.00000, -92.13...\n",
       "3  ABBEVILLE_CITYCOUNC_D  MULTIPOLYGON Z (((-92.13780 29.96532 0.00000, ..."
      ]
     },
     "execution_count": 14,
     "metadata": {},
     "output_type": "execute_result"
    }
   ],
   "source": [
    "#Check\n",
    "shp_dist"
   ]
  },
  {
   "cell_type": "code",
   "execution_count": 15,
   "id": "a90f7db6",
   "metadata": {},
   "outputs": [
    {
     "data": {
      "text/plain": [
       "<AxesSubplot:>"
      ]
     },
     "execution_count": 15,
     "metadata": {},
     "output_type": "execute_result"
    },
    {
     "data": {
      "image/png": "[encoded data removed]",
      "text/plain": [
       "<Figure size 432x288 with 1 Axes>"
      ]
     },
     "metadata": {
      "needs_background": "light"
     },
     "output_type": "display_data"
    }
   ],
   "source": [
    "shp_dist.plot()"
   ]
  },
  {
   "cell_type": "markdown",
   "id": "984cceff",
   "metadata": {},
   "source": [
    "### Read in Precinct-Level Shapefile"
   ]
  },
  {
   "cell_type": "code",
   "execution_count": 16,
   "id": "b5310e1d",
   "metadata": {
    "scrolled": false
   },
   "outputs": [],
   "source": [
    "# Read the shapefile in\n",
    "la22 = gp.read_file(\"./raw-from-source/la_gen_2022_prec.shp\")\n",
    "verm22 = la22[la22['Parish'] == 'Vermilion'][['UNIQUE_ID', 'Precinct', 'geometry']]"
   ]
  },
  {
   "cell_type": "code",
   "execution_count": 17,
   "id": "203764b8",
   "metadata": {},
   "outputs": [
    {
     "data": {
      "text/plain": [
       "array(['00 01', '00 02', '00 05A', '00 06', '00 07A-1', '00 07B',\n",
       "       '00 08B', '00 09', '00 10A', '00 11', '00 12', '00 14', '00 16',\n",
       "       '00 18', '00 19A', '00 19A-1', '00 19B', '00 20A-2', '00 20B-1',\n",
       "       '00 21', '00 21A', '00 23', '00 24', '00 25', '00 25A', '00 26',\n",
       "       '00 26A', '00 28', '00 29', '00 32B', '00 34', '00 34A', '00 35',\n",
       "       '00 36A-1', '00 37', '00 38', '00 39', '00 40', '00 41', '00 42A',\n",
       "       '00 42B', '00 44', '00 45A', '00 46A', '00 46B-1', '00 46B-2',\n",
       "       '00 46B-3', '00 46B-4', '00 49B-1', '00 49B-2', '00 50A', '00 51',\n",
       "       '00 53', '00 57A', '00 57B'], dtype=object)"
      ]
     },
     "execution_count": 17,
     "metadata": {},
     "output_type": "execute_result"
    }
   ],
   "source": [
    "verm22.Precinct.unique()"
   ]
  },
  {
   "cell_type": "code",
   "execution_count": 18,
   "id": "fe1f1c14",
   "metadata": {},
   "outputs": [],
   "source": [
    "prec_list = ['00 28', '00 29', '00 32B', '00 34', '00 34A', '00 35',\n",
    "       '00 36A-1', '00 37', '00 38', '00 39', '00 40','00 42A','00 46A', '00 46B-1', '00 46B-2',\n",
    "       '00 46B-3', '00 46B-4']"
   ]
  },
  {
   "cell_type": "code",
   "execution_count": 19,
   "id": "7e727e64",
   "metadata": {},
   "outputs": [],
   "source": [
    "abb_precs = verm22[verm22['Precinct'].isin(prec_list)]\n",
    "#abb_precs.to_file(\"./abb_22_precs.geojson\")"
   ]
  },
  {
   "cell_type": "code",
   "execution_count": 20,
   "id": "df75174c",
   "metadata": {
    "scrolled": true
   },
   "outputs": [
    {
     "data": {
      "text/plain": [
       "<AxesSubplot:>"
      ]
     },
     "execution_count": 20,
     "metadata": {},
     "output_type": "execute_result"
    },
    {
     "data": {
      "image/png": "[encoded data removed]",
      "text/plain": [
       "<Figure size 432x288 with 1 Axes>"
      ]
     },
     "metadata": {
      "needs_background": "light"
     },
     "output_type": "display_data"
    }
   ],
   "source": [
    "abb_precs.plot()"
   ]
  },
  {
   "cell_type": "markdown",
   "id": "b98874af",
   "metadata": {},
   "source": [
    "### Clip Precincts to City Boundaries"
   ]
  },
  {
   "cell_type": "code",
   "execution_count": 21,
   "id": "b41c9542",
   "metadata": {},
   "outputs": [
    {
     "data": {
      "text/plain": [
       "<Geographic 2D CRS: EPSG:4269>\n",
       "Name: NAD83\n",
       "Axis Info [ellipsoidal]:\n",
       "- Lat[north]: Geodetic latitude (degree)\n",
       "- Lon[east]: Geodetic longitude (degree)\n",
       "Area of Use:\n",
       "- name: North America - onshore and offshore: Canada - Alberta; British Columbia; Manitoba; New Brunswick; Newfoundland and Labrador; Northwest Territories; Nova Scotia; Nunavut; Ontario; Prince Edward Island; Quebec; Saskatchewan; Yukon. Puerto Rico. United States (USA) - Alabama; Alaska; Arizona; Arkansas; California; Colorado; Connecticut; Delaware; Florida; Georgia; Hawaii; Idaho; Illinois; Indiana; Iowa; Kansas; Kentucky; Louisiana; Maine; Maryland; Massachusetts; Michigan; Minnesota; Mississippi; Missouri; Montana; Nebraska; Nevada; New Hampshire; New Jersey; New Mexico; New York; North Carolina; North Dakota; Ohio; Oklahoma; Oregon; Pennsylvania; Rhode Island; South Carolina; South Dakota; Tennessee; Texas; Utah; Vermont; Virginia; Washington; West Virginia; Wisconsin; Wyoming. US Virgin Islands. British Virgin Islands.\n",
       "- bounds: (167.65, 14.92, -47.74, 86.46)\n",
       "Datum: North American Datum 1983\n",
       "- Ellipsoid: GRS 1980\n",
       "- Prime Meridian: Greenwich"
      ]
     },
     "execution_count": 21,
     "metadata": {},
     "output_type": "execute_result"
    }
   ],
   "source": [
    "#check CRS of 2022 precincts file\n",
    "abb_precs.crs"
   ]
  },
  {
   "cell_type": "code",
   "execution_count": 22,
   "id": "ba0efc7b",
   "metadata": {},
   "outputs": [],
   "source": [
    "#match crs\n",
    "shp_dist = shp_dist.to_crs(4269)"
   ]
  },
  {
   "cell_type": "code",
   "execution_count": 23,
   "id": "3443d653",
   "metadata": {},
   "outputs": [],
   "source": [
    "#clip to boundaries of city\n",
    "abb_precs_clip = gp.clip(abb_precs, shp_dist)"
   ]
  },
  {
   "cell_type": "code",
   "execution_count": 24,
   "id": "a8376da8",
   "metadata": {},
   "outputs": [
    {
     "data": {
      "text/plain": [
       "<AxesSubplot:>"
      ]
     },
     "execution_count": 24,
     "metadata": {},
     "output_type": "execute_result"
    },
    {
     "data": {
      "image/png": "[encoded data removed]",
      "text/plain": [
       "<Figure size 432x288 with 1 Axes>"
      ]
     },
     "metadata": {
      "needs_background": "light"
     },
     "output_type": "display_data"
    }
   ],
   "source": [
    "abb_precs_clip.plot()"
   ]
  },
  {
   "cell_type": "markdown",
   "id": "fbf81e2e",
   "metadata": {},
   "source": [
    "### Merge with Election Returns"
   ]
  },
  {
   "cell_type": "code",
   "execution_count": 25,
   "id": "8152dbb5",
   "metadata": {},
   "outputs": [],
   "source": [
    "# merge\n",
    "abb_pber = er_rec.merge(abb_precs_clip, on='Precinct', how = 'right', indicator=True)"
   ]
  },
  {
   "cell_type": "code",
   "execution_count": 26,
   "id": "7fcc5736",
   "metadata": {
    "scrolled": true
   },
   "outputs": [
    {
     "data": {
      "text/plain": [
       "both          17\n",
       "left_only      0\n",
       "right_only     0\n",
       "Name: _merge, dtype: int64"
      ]
     },
     "execution_count": 26,
     "metadata": {},
     "output_type": "execute_result"
    }
   ],
   "source": [
    "#check indicator to see if merge was successful\n",
    "abb_pber._merge.value_counts()"
   ]
  },
  {
   "cell_type": "code",
   "execution_count": 27,
   "id": "3df20a0d",
   "metadata": {},
   "outputs": [],
   "source": [
    "#Drop merge column, drop district column\n",
    "abb_pber.drop(labels = ['_merge', 'District'], axis = 1, inplace = True)"
   ]
  },
  {
   "cell_type": "code",
   "execution_count": 28,
   "id": "bb9fa8a3",
   "metadata": {},
   "outputs": [],
   "source": [
    "#Capitalize Precinct column\n",
    "abb_pber.rename(columns={'Precinct': 'PRECINCT'}, inplace=True)\n",
    "#Redo UNIQUE_ID column\n",
    "abb_pber['UNIQUE_ID'] = abb_pber['MNCIPAL'] + '-:-' + abb_pber['PRECINCT']\n",
    "#Rearrange columns\n",
    "abb_pber_final = abb_pber[['UNIQUE_ID', 'MNCIPAL', 'PRECINCT'] + vote_cols + ['geometry']]\n"
   ]
  },
  {
   "cell_type": "code",
   "execution_count": 29,
   "id": "b9133bbb",
   "metadata": {},
   "outputs": [
    {
     "data": {
      "text/html": [
       "<div>\n",
       "<style scoped>\n",
       "    .dataframe tbody tr th:only-of-type {\n",
       "        vertical-align: middle;\n",
       "    }\n",
       "\n",
       "    .dataframe tbody tr th {\n",
       "        vertical-align: top;\n",
       "    }\n",
       "\n",
       "    .dataframe thead th {\n",
       "        text-align: right;\n",
       "    }\n",
       "</style>\n",
       "<table border=\"1\" class=\"dataframe\">\n",
       "  <thead>\n",
       "    <tr style=\"text-align: right;\">\n",
       "      <th></th>\n",
       "      <th>UNIQUE_ID</th>\n",
       "      <th>MNCIPAL</th>\n",
       "      <th>PRECINCT</th>\n",
       "      <th>G22MYRRPLA</th>\n",
       "      <th>G22MYRNWHI</th>\n",
       "      <th>G22CTCDCAM</th>\n",
       "      <th>G22CTCDDAR</th>\n",
       "      <th>G22CTCDPOT</th>\n",
       "      <th>GCTCARGAR</th>\n",
       "      <th>GCTCARHAR</th>\n",
       "      <th>GCTCCIBRO</th>\n",
       "      <th>GCTCCRTRA</th>\n",
       "      <th>GCTCDRBRO</th>\n",
       "      <th>GCTCDDGRE</th>\n",
       "      <th>GCTCDDLAN</th>\n",
       "      <th>geometry</th>\n",
       "    </tr>\n",
       "  </thead>\n",
       "  <tbody>\n",
       "    <tr>\n",
       "      <th>0</th>\n",
       "      <td>ABBEVILLE-:-00 42A</td>\n",
       "      <td>ABBEVILLE</td>\n",
       "      <td>00 42A</td>\n",
       "      <td>4</td>\n",
       "      <td>3</td>\n",
       "      <td>1</td>\n",
       "      <td>4</td>\n",
       "      <td>0</td>\n",
       "      <td>0</td>\n",
       "      <td>0</td>\n",
       "      <td>0</td>\n",
       "      <td>0</td>\n",
       "      <td>0</td>\n",
       "      <td>0</td>\n",
       "      <td>0</td>\n",
       "      <td>MULTIPOLYGON Z (((-92.11646 29.96805 0.00000, ...</td>\n",
       "    </tr>\n",
       "    <tr>\n",
       "      <th>1</th>\n",
       "      <td>ABBEVILLE-:-00 39</td>\n",
       "      <td>ABBEVILLE</td>\n",
       "      <td>00 39</td>\n",
       "      <td>43</td>\n",
       "      <td>56</td>\n",
       "      <td>45</td>\n",
       "      <td>50</td>\n",
       "      <td>7</td>\n",
       "      <td>0</td>\n",
       "      <td>0</td>\n",
       "      <td>11</td>\n",
       "      <td>9</td>\n",
       "      <td>36</td>\n",
       "      <td>14</td>\n",
       "      <td>29</td>\n",
       "      <td>POLYGON Z ((-92.12605 29.97149 0.00000, -92.12...</td>\n",
       "    </tr>\n",
       "    <tr>\n",
       "      <th>2</th>\n",
       "      <td>ABBEVILLE-:-00 34</td>\n",
       "      <td>ABBEVILLE</td>\n",
       "      <td>00 34</td>\n",
       "      <td>80</td>\n",
       "      <td>52</td>\n",
       "      <td>77</td>\n",
       "      <td>49</td>\n",
       "      <td>1</td>\n",
       "      <td>0</td>\n",
       "      <td>0</td>\n",
       "      <td>0</td>\n",
       "      <td>0</td>\n",
       "      <td>20</td>\n",
       "      <td>0</td>\n",
       "      <td>2</td>\n",
       "      <td>POLYGON Z ((-92.12428 29.98059 0.00000, -92.12...</td>\n",
       "    </tr>\n",
       "    <tr>\n",
       "      <th>3</th>\n",
       "      <td>ABBEVILLE-:-00 34A</td>\n",
       "      <td>ABBEVILLE</td>\n",
       "      <td>00 34A</td>\n",
       "      <td>26</td>\n",
       "      <td>29</td>\n",
       "      <td>21</td>\n",
       "      <td>26</td>\n",
       "      <td>10</td>\n",
       "      <td>9</td>\n",
       "      <td>11</td>\n",
       "      <td>0</td>\n",
       "      <td>0</td>\n",
       "      <td>0</td>\n",
       "      <td>0</td>\n",
       "      <td>0</td>\n",
       "      <td>MULTIPOLYGON Z (((-92.12527 29.97541 0.00000, ...</td>\n",
       "    </tr>\n",
       "    <tr>\n",
       "      <th>4</th>\n",
       "      <td>ABBEVILLE-:-00 46B-3</td>\n",
       "      <td>ABBEVILLE</td>\n",
       "      <td>00 46B-3</td>\n",
       "      <td>1</td>\n",
       "      <td>8</td>\n",
       "      <td>1</td>\n",
       "      <td>7</td>\n",
       "      <td>2</td>\n",
       "      <td>0</td>\n",
       "      <td>0</td>\n",
       "      <td>0</td>\n",
       "      <td>0</td>\n",
       "      <td>0</td>\n",
       "      <td>0</td>\n",
       "      <td>0</td>\n",
       "      <td>MULTIPOLYGON Z (((-92.11121 29.98290 0.00000, ...</td>\n",
       "    </tr>\n",
       "  </tbody>\n",
       "</table>\n",
       "</div>"
      ],
      "text/plain": [
       "              UNIQUE_ID    MNCIPAL  PRECINCT  G22MYRRPLA  G22MYRNWHI  \\\n",
       "0    ABBEVILLE-:-00 42A  ABBEVILLE    00 42A           4           3   \n",
       "1     ABBEVILLE-:-00 39  ABBEVILLE     00 39          43          56   \n",
       "2     ABBEVILLE-:-00 34  ABBEVILLE     00 34          80          52   \n",
       "3    ABBEVILLE-:-00 34A  ABBEVILLE    00 34A          26          29   \n",
       "4  ABBEVILLE-:-00 46B-3  ABBEVILLE  00 46B-3           1           8   \n",
       "\n",
       "   G22CTCDCAM  G22CTCDDAR  G22CTCDPOT  GCTCARGAR  GCTCARHAR  GCTCCIBRO  \\\n",
       "0           1           4           0          0          0          0   \n",
       "1          45          50           7          0          0         11   \n",
       "2          77          49           1          0          0          0   \n",
       "3          21          26          10          9         11          0   \n",
       "4           1           7           2          0          0          0   \n",
       "\n",
       "   GCTCCRTRA  GCTCDRBRO  GCTCDDGRE  GCTCDDLAN  \\\n",
       "0          0          0          0          0   \n",
       "1          9         36         14         29   \n",
       "2          0         20          0          2   \n",
       "3          0          0          0          0   \n",
       "4          0          0          0          0   \n",
       "\n",
       "                                            geometry  \n",
       "0  MULTIPOLYGON Z (((-92.11646 29.96805 0.00000, ...  \n",
       "1  POLYGON Z ((-92.12605 29.97149 0.00000, -92.12...  \n",
       "2  POLYGON Z ((-92.12428 29.98059 0.00000, -92.12...  \n",
       "3  MULTIPOLYGON Z (((-92.12527 29.97541 0.00000, ...  \n",
       "4  MULTIPOLYGON Z (((-92.11121 29.98290 0.00000, ...  "
      ]
     },
     "execution_count": 29,
     "metadata": {},
     "output_type": "execute_result"
    }
   ],
   "source": [
    "abb_pber_final.head()"
   ]
  },
  {
   "cell_type": "code",
   "execution_count": 30,
   "id": "7e641274",
   "metadata": {},
   "outputs": [
    {
     "data": {
      "text/plain": [
       "geopandas.geodataframe.GeoDataFrame"
      ]
     },
     "execution_count": 30,
     "metadata": {},
     "output_type": "execute_result"
    }
   ],
   "source": [
    "#Geodf\n",
    "abb_pber_final = gp.GeoDataFrame(abb_pber_final, geometry='geometry')\n",
    "#check\n",
    "type(abb_pber_final)"
   ]
  },
  {
   "cell_type": "code",
   "execution_count": 31,
   "id": "bf880d5e",
   "metadata": {
    "scrolled": false
   },
   "outputs": [
    {
     "data": {
      "text/plain": [
       "<AxesSubplot:>"
      ]
     },
     "execution_count": 31,
     "metadata": {},
     "output_type": "execute_result"
    },
    {
     "data": {
      "image/png": "[encoded data removed]",
      "text/plain": [
       "<Figure size 432x288 with 1 Axes>"
      ]
     },
     "metadata": {
      "needs_background": "light"
     },
     "output_type": "display_data"
    }
   ],
   "source": [
    "abb_pber_final.plot()"
   ]
  },
  {
   "cell_type": "markdown",
   "id": "c1948c5c",
   "metadata": {},
   "source": [
    "<p><a name=\"exp\"></a></p>\n",
    "\n",
    "### Export Cleaned Datasets"
   ]
  },
  {
   "cell_type": "code",
   "execution_count": 32,
   "id": "53251f5f",
   "metadata": {},
   "outputs": [],
   "source": [
    "if not os.path.exists(\"./LA22_ABBEVILLE_PBER/LA22_ABBEVILLE_PBER\"):\n",
    "    os.mkdir(\"./LA22_ABBEVILLE_PBER/LA22_ABBEVILLE_PBER\")\n",
    "\n",
    "shp_dist.to_file(\"./LA22_ABBEVILLE_PBER/LA22_ABBEVILLE_PBER/LA22_ABBEVILLE_DIST.shp\")    \n",
    "abb_pber_final.to_file(\"./LA22_ABBEVILLE_PBER/LA22_ABBEVILLE_PBER/LA22_ABBEVILLE_PBER.shp\")"
   ]
  },
  {
   "cell_type": "code",
   "execution_count": 33,
   "id": "c862a66b",
   "metadata": {},
   "outputs": [],
   "source": [
    "def check_file(path):\n",
    "    if \".csv\" in path:\n",
    "        file_type = \".csv\"\n",
    "        load = pd.read_csv(path)\n",
    "    elif \".shp\" in path:\n",
    "        file_type = \".shp\"\n",
    "        load = gp.read_file(path)\n",
    "        assert(os.path.exists(path[0:-4] + \".cpg\"))\n",
    "        assert(os.path.exists(path[0:-4] + \".dbf\"))\n",
    "        assert(os.path.exists(path[0:-4] + \".prj\"))\n",
    "        assert(os.path.exists(path[0:-4] + \".shx\"))\n",
    "    else:\n",
    "        raise ValueError (\"Other function needed to load non .csv or .shp\")\n",
    "    run_checks(load, path, file_type)\n",
    "    \n",
    "def run_checks(file, path, file_type):\n",
    "    if \"/Users\" in path:\n",
    "        path = path.replace(\"/Users\",\"\")\n",
    "    path_name = path.replace(\"/\",\"-\")\n",
    "    \n",
    "        \n",
    "    with open(\"./FILE_CHECK\" + path_name + \".txt\",\"w\") as t:\n",
    "        t.write(\"***RDH FILE CHECKER***\\n\")\n",
    "        t.write(\"Checking file located at \" + path+\"\\n\")\n",
    "        t.write(\"\\n\")\n",
    "        t.write(\"\\n\")        \n",
    "        \n",
    "        t.write(\"***N/A VALUES***\\n\")\n",
    "        if(file.isna().any().sum() != 0):\n",
    "            t.write(\"N/A values in the following columns\\n\")\n",
    "            for col in file.columns:\n",
    "                num_nas = file[col].isna().sum()\n",
    "                string_nans = file[file[col]==\"nan\"].shape[0]\n",
    "                if file[col].isna().any().sum():\n",
    "                    t.write(\"\\t\"+col+\" - \"+ str(num_nas) +\" row(s)\\n\")\n",
    "                elif  string_nans > 0:\n",
    "                    t.write(\"\\t\"+col+\" - \"+ str(string_nans) +\" row(s)\\n\")\n",
    "\n",
    "        else:\n",
    "            t.write(\"Do not appear to be N/A values\")\n",
    "        t.write(\"\\n\")\n",
    "        t.write(\"\\n\")\n",
    "        \n",
    "        t.write(\"***File Size***\\n\")\n",
    "        t.write(\"File contains \" + str(file.shape[0]) + \" row(s)\\n\")\n",
    "        t.write(\"File contains \" + str(file.shape[1]) + \" column(s)\\n\")\n",
    "        t.write(\"\\n\")\n",
    "        t.write(\"\\n\")\n",
    "        \n",
    "        if file_type == \".shp\":\n",
    "            t.write(\"***Invalid Geometries***\\n\")\n",
    "            t.write(\"File contains \" + str(file[~file[\"geometry\"].is_valid].shape[0]) + \" invalid GEOM row(s)\\n\")\n",
    "            t.write(\"File contains \" + str(file[file[\"geometry\"].is_valid].shape[0]) + \" valid GEOM row(s)\\n\")\n",
    "            t.write(\"\\n\")\n",
    "            t.write(\"\\n\")\n",
    "\n",
    "        t.write(\"***COLUMN NAMES***\\n\")\n",
    "        t.write(str(list(file.columns)))\n",
    "        t.write(\"\\n\")\n",
    "        t.write(\"\\n\")\n",
    "        \n",
    "        t.write(\"***COLUMN NAME LENGTHS***\\n\")\n",
    "        long_col_name_list = [i for i in file.columns if len(i) > 10]\n",
    "        if len(long_col_name_list) > 0:\n",
    "            t.write(\"The following columns are longer than 10 characters:\" + str(long_col_name_list)+\"\\n\")\n",
    "        else:\n",
    "            t.write(\"No column names are longer than 10 characters\\n\")\n",
    "        t.write(\"\\n\")\n",
    "        t.write(\"\\n\")\n",
    "\n",
    "        t.write(\"***FULL FILE SUMMARY***\\n\")\n",
    "        t.write(str(file.describe())+\"\\n\")\n",
    "        t.write(\"\\n\")\n",
    "        t.write(\"\\n\")\n",
    "\n",
    "        t.write(\"***MAX VALUE FOR EVERY DATA COLUMN***\\n\")\n",
    "        t.write(str(file.max()) + \"\\n\")\n",
    "        t.write(\"\\n\")\n",
    "        t.write(\"\\n\")\n",
    "\n",
    "        t.write(\"***MIN VALUE FOR EVERY DATA COLUMN***\\n\")\n",
    "        t.write(str(file.min()) + \"\\n\")\n",
    "        t.write(\"\\n\")\n",
    "        \n",
    "        t.write(\"***NUMERIC COLUMN SUMS***\\n\")\n",
    "        t.write(str(file.sum(numeric_only=True))+\"\\n\")\n",
    "        t.write(\"\\n\")\n",
    "        t.write(\"\\n\")\n",
    "\n",
    "        t.write(\"***COLUMNS AND DUPLICATE VALUES***\\n\")\n",
    "        for col in list(file.columns):\n",
    "            if col != \"geometry\":\n",
    "                if max(file[col].value_counts(dropna = False))==1:\n",
    "                    t.write(\"NO: Column \" + col + \" DOES NOT HAVE duplicate values\\n\")\n",
    "                elif max(file[col].value_counts(dropna = False))>1:\n",
    "                    t.write(\"YES: Column \" + col+ \" HAS duplicate values\\n\")\n",
    "        t.write(\"\\n\")\n"
   ]
  },
  {
   "cell_type": "code",
   "execution_count": 34,
   "id": "5d889325",
   "metadata": {},
   "outputs": [],
   "source": [
    "check_file(\"./LA22_ABBEVILLE_PBER/LA22_ABBEVILLE_PBER/LA22_ABBEVILLE_PBER.shp\")"
   ]
  }
 ],
 "metadata": {
  "kernelspec": {
   "display_name": "Python 3",
   "language": "python",
   "name": "python3"
  },
  "language_info": {
   "codemirror_mode": {
    "name": "ipython",
    "version": 3
   },
   "file_extension": ".py",
   "mimetype": "text/x-python",
   "name": "python",
   "nbconvert_exporter": "python",
   "pygments_lexer": "ipython3",
   "version": "3.8.8"
  }
 },
 "nbformat": 4,
 "nbformat_minor": 5
}
