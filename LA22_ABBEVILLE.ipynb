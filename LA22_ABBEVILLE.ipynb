{
 "cells": [
  {
   "cell_type": "markdown",
   "id": "2316ed04",
   "metadata": {},
   "source": [
    "## Abbeville, LA 2022 City Council and Mayoral Election Results and Boundaries"
   ]
  },
  {
   "cell_type": "markdown",
   "id": "9a55f61b",
   "metadata": {},
   "source": [
    "### Sections\n",
    "- <a href=\"#join\">Read in Input Files and Join</a><br>\n",
    "- <a href=\"#shp\">Create Ward Boundaries</a><br>\n",
    "- <a href=\"#maup\">Join with Election Returns</a><br>\n",
    "- <a href=\"#exp\">Export Cleaned Datasets</a><br>\n",
    "\n",
    "#### Sources\n",
    "\n",
    "- [Louisiana Secretary of State - Abbeville, LA 2022 Municipal Election Returns](https://voterportal.sos.la.gov/static/2022-03-26/resultsRace/57)) \n",
    "- [Abbeville, LA City Council Districts KML](https://www.google.com/maps/d/viewer?mid=1xOlAo0KxOxlGTTVqt9B8kMp7FcTw5fqB&ll=29.977346522059307%2C-92.1217195&z=14)"
   ]
  },
  {
   "cell_type": "code",
   "execution_count": 1,
   "id": "786c464d",
   "metadata": {},
   "outputs": [],
   "source": [
    "import pandas as pd\n",
    "import geopandas as gp\n",
    "import os\n",
    "import numpy as np\n",
    "import matplotlib.pyplot as plt\n",
    "pd.set_option('display.max_rows', 1000)\n",
    "pd.set_option('display.max_columns', 1000)"
   ]
  },
  {
   "cell_type": "markdown",
   "id": "c322eddd",
   "metadata": {},
   "source": [
    "<p><a name=\"join\"></a></p>\n",
    "\n",
    "### Read in input files"
   ]
  },
  {
   "cell_type": "markdown",
   "id": "78b93aab",
   "metadata": {},
   "source": [
    "Election returns were transcribed from Louisiana SOS website to machine readable format, and checked for accuracy."
   ]
  },
  {
   "cell_type": "code",
   "execution_count": 2,
   "id": "9ce77391",
   "metadata": {},
   "outputs": [
    {
     "data": {
      "text/html": [
       "<div>\n",
       "<style scoped>\n",
       "    .dataframe tbody tr th:only-of-type {\n",
       "        vertical-align: middle;\n",
       "    }\n",
       "\n",
       "    .dataframe tbody tr th {\n",
       "        vertical-align: top;\n",
       "    }\n",
       "\n",
       "    .dataframe thead th {\n",
       "        text-align: right;\n",
       "    }\n",
       "</style>\n",
       "<table border=\"1\" class=\"dataframe\">\n",
       "  <thead>\n",
       "    <tr style=\"text-align: right;\">\n",
       "      <th></th>\n",
       "      <th>UNIQUE_ID</th>\n",
       "      <th>MNCIPAL</th>\n",
       "      <th>DISTRICT</th>\n",
       "      <th>G22MYRRPLA</th>\n",
       "      <th>G22MYRNWHI</th>\n",
       "      <th>G22CTCDCAM</th>\n",
       "      <th>G22CTCDDAR</th>\n",
       "      <th>G22CTCDPOT</th>\n",
       "      <th>GCTCARGAR</th>\n",
       "      <th>GCTCARHAR</th>\n",
       "      <th>GCTCCIBRO</th>\n",
       "      <th>GCTCCRTRA</th>\n",
       "      <th>GCTCDRBRO</th>\n",
       "      <th>GCTCDDGRE</th>\n",
       "      <th>GCTCDDLAN</th>\n",
       "    </tr>\n",
       "  </thead>\n",
       "  <tbody>\n",
       "    <tr>\n",
       "      <th>0</th>\n",
       "      <td>ABBEVILLE_CITYCOUNC_A</td>\n",
       "      <td>ABBEVILLE</td>\n",
       "      <td>A</td>\n",
       "      <td>0</td>\n",
       "      <td>0</td>\n",
       "      <td>0</td>\n",
       "      <td>0</td>\n",
       "      <td>0</td>\n",
       "      <td>280</td>\n",
       "      <td>313</td>\n",
       "      <td>0</td>\n",
       "      <td>0</td>\n",
       "      <td>0</td>\n",
       "      <td>0</td>\n",
       "      <td>0</td>\n",
       "    </tr>\n",
       "    <tr>\n",
       "      <th>1</th>\n",
       "      <td>ABBEVILLE_CITYCOUNC_B</td>\n",
       "      <td>ABBEVILLE</td>\n",
       "      <td>B</td>\n",
       "      <td>0</td>\n",
       "      <td>0</td>\n",
       "      <td>0</td>\n",
       "      <td>0</td>\n",
       "      <td>0</td>\n",
       "      <td>0</td>\n",
       "      <td>0</td>\n",
       "      <td>0</td>\n",
       "      <td>0</td>\n",
       "      <td>0</td>\n",
       "      <td>0</td>\n",
       "      <td>0</td>\n",
       "    </tr>\n",
       "    <tr>\n",
       "      <th>2</th>\n",
       "      <td>ABBEVILLE_CITYCOUNC_C</td>\n",
       "      <td>ABBEVILLE</td>\n",
       "      <td>C</td>\n",
       "      <td>0</td>\n",
       "      <td>0</td>\n",
       "      <td>0</td>\n",
       "      <td>0</td>\n",
       "      <td>0</td>\n",
       "      <td>0</td>\n",
       "      <td>0</td>\n",
       "      <td>407</td>\n",
       "      <td>163</td>\n",
       "      <td>0</td>\n",
       "      <td>0</td>\n",
       "      <td>0</td>\n",
       "    </tr>\n",
       "    <tr>\n",
       "      <th>3</th>\n",
       "      <td>ABBEVILLE_CITYCOUNC_D</td>\n",
       "      <td>ABBEVILLE</td>\n",
       "      <td>D</td>\n",
       "      <td>0</td>\n",
       "      <td>0</td>\n",
       "      <td>0</td>\n",
       "      <td>0</td>\n",
       "      <td>0</td>\n",
       "      <td>0</td>\n",
       "      <td>0</td>\n",
       "      <td>0</td>\n",
       "      <td>0</td>\n",
       "      <td>452</td>\n",
       "      <td>39</td>\n",
       "      <td>166</td>\n",
       "    </tr>\n",
       "    <tr>\n",
       "      <th>4</th>\n",
       "      <td>ABBEVILLE_CITYCOUNC_ALG</td>\n",
       "      <td>ABBEVILLE</td>\n",
       "      <td>ALG</td>\n",
       "      <td>903</td>\n",
       "      <td>1303</td>\n",
       "      <td>1145</td>\n",
       "      <td>800</td>\n",
       "      <td>211</td>\n",
       "      <td>0</td>\n",
       "      <td>0</td>\n",
       "      <td>0</td>\n",
       "      <td>0</td>\n",
       "      <td>0</td>\n",
       "      <td>0</td>\n",
       "      <td>0</td>\n",
       "    </tr>\n",
       "  </tbody>\n",
       "</table>\n",
       "</div>"
      ],
      "text/plain": [
       "                 UNIQUE_ID    MNCIPAL DISTRICT  G22MYRRPLA  G22MYRNWHI  \\\n",
       "0    ABBEVILLE_CITYCOUNC_A  ABBEVILLE        A           0           0   \n",
       "1    ABBEVILLE_CITYCOUNC_B  ABBEVILLE        B           0           0   \n",
       "2    ABBEVILLE_CITYCOUNC_C  ABBEVILLE        C           0           0   \n",
       "3    ABBEVILLE_CITYCOUNC_D  ABBEVILLE        D           0           0   \n",
       "4  ABBEVILLE_CITYCOUNC_ALG  ABBEVILLE      ALG         903        1303   \n",
       "\n",
       "   G22CTCDCAM  G22CTCDDAR  G22CTCDPOT  GCTCARGAR  GCTCARHAR  GCTCCIBRO  \\\n",
       "0           0           0           0        280        313          0   \n",
       "1           0           0           0          0          0          0   \n",
       "2           0           0           0          0          0        407   \n",
       "3           0           0           0          0          0          0   \n",
       "4        1145         800         211          0          0          0   \n",
       "\n",
       "   GCTCCRTRA  GCTCDRBRO  GCTCDDGRE  GCTCDDLAN  \n",
       "0          0          0          0          0  \n",
       "1          0          0          0          0  \n",
       "2        163          0          0          0  \n",
       "3          0        452         39        166  \n",
       "4          0          0          0          0  "
      ]
     },
     "execution_count": 2,
     "metadata": {},
     "output_type": "execute_result"
    }
   ],
   "source": [
    "#Election Returns\n",
    "er_raw = pd.read_csv(\"./raw-from-source/LA22_ABBEVILLE_ER_PROC.csv\")\n",
    "er_raw"
   ]
  },
  {
   "cell_type": "code",
   "execution_count": 3,
   "id": "8134f68c",
   "metadata": {},
   "outputs": [
    {
     "data": {
      "text/html": [
       "<div>\n",
       "<style scoped>\n",
       "    .dataframe tbody tr th:only-of-type {\n",
       "        vertical-align: middle;\n",
       "    }\n",
       "\n",
       "    .dataframe tbody tr th {\n",
       "        vertical-align: top;\n",
       "    }\n",
       "\n",
       "    .dataframe thead th {\n",
       "        text-align: right;\n",
       "    }\n",
       "</style>\n",
       "<table border=\"1\" class=\"dataframe\">\n",
       "  <thead>\n",
       "    <tr style=\"text-align: right;\">\n",
       "      <th></th>\n",
       "      <th>UNIQUE_ID</th>\n",
       "      <th>MNCIPAL</th>\n",
       "      <th>DISTRICT</th>\n",
       "      <th>G22MYRRPLA</th>\n",
       "      <th>G22MYRNWHI</th>\n",
       "      <th>G22CTCDCAM</th>\n",
       "      <th>G22CTCDDAR</th>\n",
       "      <th>G22CTCDPOT</th>\n",
       "      <th>GCTCARGAR</th>\n",
       "      <th>GCTCARHAR</th>\n",
       "      <th>GCTCCIBRO</th>\n",
       "      <th>GCTCCRTRA</th>\n",
       "      <th>GCTCDRBRO</th>\n",
       "      <th>GCTCDDGRE</th>\n",
       "      <th>GCTCDDLAN</th>\n",
       "    </tr>\n",
       "  </thead>\n",
       "  <tbody>\n",
       "    <tr>\n",
       "      <th>4</th>\n",
       "      <td>ABBEVILLE_CITYCOUNC_ALG</td>\n",
       "      <td>ABBEVILLE</td>\n",
       "      <td>ALG</td>\n",
       "      <td>903</td>\n",
       "      <td>1303</td>\n",
       "      <td>1145</td>\n",
       "      <td>800</td>\n",
       "      <td>211</td>\n",
       "      <td>0</td>\n",
       "      <td>0</td>\n",
       "      <td>0</td>\n",
       "      <td>0</td>\n",
       "      <td>0</td>\n",
       "      <td>0</td>\n",
       "      <td>0</td>\n",
       "    </tr>\n",
       "  </tbody>\n",
       "</table>\n",
       "</div>"
      ],
      "text/plain": [
       "                 UNIQUE_ID    MNCIPAL DISTRICT  G22MYRRPLA  G22MYRNWHI  \\\n",
       "4  ABBEVILLE_CITYCOUNC_ALG  ABBEVILLE      ALG         903        1303   \n",
       "\n",
       "   G22CTCDCAM  G22CTCDDAR  G22CTCDPOT  GCTCARGAR  GCTCARHAR  GCTCCIBRO  \\\n",
       "4        1145         800         211          0          0          0   \n",
       "\n",
       "   GCTCCRTRA  GCTCDRBRO  GCTCDDGRE  GCTCDDLAN  \n",
       "4          0          0          0          0  "
      ]
     },
     "execution_count": 3,
     "metadata": {},
     "output_type": "execute_result"
    }
   ],
   "source": [
    "er_alg = er_raw.iloc[-1:]\n",
    "er_alg"
   ]
  },
  {
   "cell_type": "code",
   "execution_count": 4,
   "id": "d0cd164c",
   "metadata": {},
   "outputs": [
    {
     "data": {
      "text/html": [
       "<div>\n",
       "<style scoped>\n",
       "    .dataframe tbody tr th:only-of-type {\n",
       "        vertical-align: middle;\n",
       "    }\n",
       "\n",
       "    .dataframe tbody tr th {\n",
       "        vertical-align: top;\n",
       "    }\n",
       "\n",
       "    .dataframe thead th {\n",
       "        text-align: right;\n",
       "    }\n",
       "</style>\n",
       "<table border=\"1\" class=\"dataframe\">\n",
       "  <thead>\n",
       "    <tr style=\"text-align: right;\">\n",
       "      <th></th>\n",
       "      <th>UNIQUE_ID</th>\n",
       "      <th>MNCIPAL</th>\n",
       "      <th>DISTRICT</th>\n",
       "      <th>G22MYRRPLA</th>\n",
       "      <th>G22MYRNWHI</th>\n",
       "      <th>G22CTCDCAM</th>\n",
       "      <th>G22CTCDDAR</th>\n",
       "      <th>G22CTCDPOT</th>\n",
       "      <th>GCTCARGAR</th>\n",
       "      <th>GCTCARHAR</th>\n",
       "      <th>GCTCCIBRO</th>\n",
       "      <th>GCTCCRTRA</th>\n",
       "      <th>GCTCDRBRO</th>\n",
       "      <th>GCTCDDGRE</th>\n",
       "      <th>GCTCDDLAN</th>\n",
       "    </tr>\n",
       "  </thead>\n",
       "  <tbody>\n",
       "    <tr>\n",
       "      <th>0</th>\n",
       "      <td>ABBEVILLE_CITYCOUNC_A</td>\n",
       "      <td>ABBEVILLE</td>\n",
       "      <td>A</td>\n",
       "      <td>0</td>\n",
       "      <td>0</td>\n",
       "      <td>0</td>\n",
       "      <td>0</td>\n",
       "      <td>0</td>\n",
       "      <td>280</td>\n",
       "      <td>313</td>\n",
       "      <td>0</td>\n",
       "      <td>0</td>\n",
       "      <td>0</td>\n",
       "      <td>0</td>\n",
       "      <td>0</td>\n",
       "    </tr>\n",
       "    <tr>\n",
       "      <th>1</th>\n",
       "      <td>ABBEVILLE_CITYCOUNC_B</td>\n",
       "      <td>ABBEVILLE</td>\n",
       "      <td>B</td>\n",
       "      <td>0</td>\n",
       "      <td>0</td>\n",
       "      <td>0</td>\n",
       "      <td>0</td>\n",
       "      <td>0</td>\n",
       "      <td>0</td>\n",
       "      <td>0</td>\n",
       "      <td>0</td>\n",
       "      <td>0</td>\n",
       "      <td>0</td>\n",
       "      <td>0</td>\n",
       "      <td>0</td>\n",
       "    </tr>\n",
       "    <tr>\n",
       "      <th>2</th>\n",
       "      <td>ABBEVILLE_CITYCOUNC_C</td>\n",
       "      <td>ABBEVILLE</td>\n",
       "      <td>C</td>\n",
       "      <td>0</td>\n",
       "      <td>0</td>\n",
       "      <td>0</td>\n",
       "      <td>0</td>\n",
       "      <td>0</td>\n",
       "      <td>0</td>\n",
       "      <td>0</td>\n",
       "      <td>407</td>\n",
       "      <td>163</td>\n",
       "      <td>0</td>\n",
       "      <td>0</td>\n",
       "      <td>0</td>\n",
       "    </tr>\n",
       "    <tr>\n",
       "      <th>3</th>\n",
       "      <td>ABBEVILLE_CITYCOUNC_D</td>\n",
       "      <td>ABBEVILLE</td>\n",
       "      <td>D</td>\n",
       "      <td>0</td>\n",
       "      <td>0</td>\n",
       "      <td>0</td>\n",
       "      <td>0</td>\n",
       "      <td>0</td>\n",
       "      <td>0</td>\n",
       "      <td>0</td>\n",
       "      <td>0</td>\n",
       "      <td>0</td>\n",
       "      <td>452</td>\n",
       "      <td>39</td>\n",
       "      <td>166</td>\n",
       "    </tr>\n",
       "  </tbody>\n",
       "</table>\n",
       "</div>"
      ],
      "text/plain": [
       "               UNIQUE_ID    MNCIPAL DISTRICT  G22MYRRPLA  G22MYRNWHI  \\\n",
       "0  ABBEVILLE_CITYCOUNC_A  ABBEVILLE        A           0           0   \n",
       "1  ABBEVILLE_CITYCOUNC_B  ABBEVILLE        B           0           0   \n",
       "2  ABBEVILLE_CITYCOUNC_C  ABBEVILLE        C           0           0   \n",
       "3  ABBEVILLE_CITYCOUNC_D  ABBEVILLE        D           0           0   \n",
       "\n",
       "   G22CTCDCAM  G22CTCDDAR  G22CTCDPOT  GCTCARGAR  GCTCARHAR  GCTCCIBRO  \\\n",
       "0           0           0           0        280        313          0   \n",
       "1           0           0           0          0          0          0   \n",
       "2           0           0           0          0          0        407   \n",
       "3           0           0           0          0          0          0   \n",
       "\n",
       "   GCTCCRTRA  GCTCDRBRO  GCTCDDGRE  GCTCDDLAN  \n",
       "0          0          0          0          0  \n",
       "1          0          0          0          0  \n",
       "2        163          0          0          0  \n",
       "3          0        452         39        166  "
      ]
     },
     "execution_count": 4,
     "metadata": {},
     "output_type": "execute_result"
    }
   ],
   "source": [
    "er_dist = er_raw.iloc[:-1]\n",
    "er_dist"
   ]
  },
  {
   "cell_type": "markdown",
   "id": "ad28f1a1",
   "metadata": {},
   "source": [
    "## Shapefile\n",
    "\n",
    "Raw KML file was read in to QGIS, and unincorporated islands were removed from two district shapes - Districts A and D"
   ]
  },
  {
   "cell_type": "code",
   "execution_count": 5,
   "id": "f247eda7",
   "metadata": {},
   "outputs": [],
   "source": [
    "# Read the edited geojsons in\n",
    "dist_a = gp.read_file(\"./raw-from-source/DIST_A_EDIT.geojson\")   \n",
    "dist_b = gp.read_file(\"./raw-from-source/DIST_B.geojson\") \n",
    "dist_c = gp.read_file(\"./raw-from-source/DIST_C.geojson\") \n",
    "dist_d = gp.read_file(\"./raw-from-source/DIST_D_EDIT.geojson\") "
   ]
  },
  {
   "cell_type": "code",
   "execution_count": 6,
   "id": "47dc3939",
   "metadata": {},
   "outputs": [],
   "source": [
    "#combine\n",
    "shp_raw = gp.GeoDataFrame(pd.concat([dist_a, dist_b, dist_c, dist_d], ignore_index=True), crs=dist_a.crs)"
   ]
  },
  {
   "cell_type": "code",
   "execution_count": 7,
   "id": "f3711c9c",
   "metadata": {},
   "outputs": [],
   "source": [
    "#Add unique ID col\n",
    "shp_raw['UNIQUE_ID'] = er_dist['UNIQUE_ID']\n",
    "#subset\n",
    "shp_dist = shp_raw[['UNIQUE_ID', 'geometry']]"
   ]
  },
  {
   "cell_type": "code",
   "execution_count": 8,
   "id": "7a4e62aa",
   "metadata": {},
   "outputs": [
    {
     "data": {
      "text/html": [
       "<div>\n",
       "<style scoped>\n",
       "    .dataframe tbody tr th:only-of-type {\n",
       "        vertical-align: middle;\n",
       "    }\n",
       "\n",
       "    .dataframe tbody tr th {\n",
       "        vertical-align: top;\n",
       "    }\n",
       "\n",
       "    .dataframe thead th {\n",
       "        text-align: right;\n",
       "    }\n",
       "</style>\n",
       "<table border=\"1\" class=\"dataframe\">\n",
       "  <thead>\n",
       "    <tr style=\"text-align: right;\">\n",
       "      <th></th>\n",
       "      <th>UNIQUE_ID</th>\n",
       "      <th>geometry</th>\n",
       "    </tr>\n",
       "  </thead>\n",
       "  <tbody>\n",
       "    <tr>\n",
       "      <th>0</th>\n",
       "      <td>ABBEVILLE_CITYCOUNC_A</td>\n",
       "      <td>MULTIPOLYGON Z (((-92.12449 29.97980 0.00000, ...</td>\n",
       "    </tr>\n",
       "    <tr>\n",
       "      <th>1</th>\n",
       "      <td>ABBEVILLE_CITYCOUNC_B</td>\n",
       "      <td>POLYGON Z ((-92.07829 29.96562 0.00000, -92.07...</td>\n",
       "    </tr>\n",
       "    <tr>\n",
       "      <th>2</th>\n",
       "      <td>ABBEVILLE_CITYCOUNC_C</td>\n",
       "      <td>POLYGON Z ((-92.13667 29.97661 0.00000, -92.13...</td>\n",
       "    </tr>\n",
       "    <tr>\n",
       "      <th>3</th>\n",
       "      <td>ABBEVILLE_CITYCOUNC_D</td>\n",
       "      <td>MULTIPOLYGON Z (((-92.13780 29.96532 0.00000, ...</td>\n",
       "    </tr>\n",
       "  </tbody>\n",
       "</table>\n",
       "</div>"
      ],
      "text/plain": [
       "               UNIQUE_ID                                           geometry\n",
       "0  ABBEVILLE_CITYCOUNC_A  MULTIPOLYGON Z (((-92.12449 29.97980 0.00000, ...\n",
       "1  ABBEVILLE_CITYCOUNC_B  POLYGON Z ((-92.07829 29.96562 0.00000, -92.07...\n",
       "2  ABBEVILLE_CITYCOUNC_C  POLYGON Z ((-92.13667 29.97661 0.00000, -92.13...\n",
       "3  ABBEVILLE_CITYCOUNC_D  MULTIPOLYGON Z (((-92.13780 29.96532 0.00000, ..."
      ]
     },
     "execution_count": 8,
     "metadata": {},
     "output_type": "execute_result"
    }
   ],
   "source": [
    "#Check\n",
    "shp_dist"
   ]
  },
  {
   "cell_type": "code",
   "execution_count": 9,
   "id": "a90f7db6",
   "metadata": {},
   "outputs": [
    {
     "data": {
      "text/plain": [
       "<AxesSubplot:>"
      ]
     },
     "execution_count": 9,
     "metadata": {},
     "output_type": "execute_result"
    },
    {
     "data": {
      "image/png": "[encoded data removed]",
      "text/plain": [
       "<Figure size 432x288 with 1 Axes>"
      ]
     },
     "metadata": {
      "needs_background": "light"
     },
     "output_type": "display_data"
    }
   ],
   "source": [
    "shp_dist.plot()"
   ]
  },
  {
   "cell_type": "markdown",
   "id": "4762f191",
   "metadata": {},
   "source": [
    "Dissolve for at large races"
   ]
  },
  {
   "cell_type": "code",
   "execution_count": 10,
   "id": "4a59fd69",
   "metadata": {},
   "outputs": [],
   "source": [
    "#dissolve\n",
    "shp_alg_raw = shp_dist.dissolve()\n",
    "#rename columns\n",
    "shp_alg = shp_alg_raw[['UNIQUE_ID', 'geometry']]\n",
    "shp_alg['UNIQUE_ID'] = 'ABBEVILLE_CITYCOUNC_ALG'"
   ]
  },
  {
   "cell_type": "code",
   "execution_count": 11,
   "id": "61025a54",
   "metadata": {},
   "outputs": [
    {
     "data": {
      "text/html": [
       "<div>\n",
       "<style scoped>\n",
       "    .dataframe tbody tr th:only-of-type {\n",
       "        vertical-align: middle;\n",
       "    }\n",
       "\n",
       "    .dataframe tbody tr th {\n",
       "        vertical-align: top;\n",
       "    }\n",
       "\n",
       "    .dataframe thead th {\n",
       "        text-align: right;\n",
       "    }\n",
       "</style>\n",
       "<table border=\"1\" class=\"dataframe\">\n",
       "  <thead>\n",
       "    <tr style=\"text-align: right;\">\n",
       "      <th></th>\n",
       "      <th>UNIQUE_ID</th>\n",
       "      <th>geometry</th>\n",
       "    </tr>\n",
       "  </thead>\n",
       "  <tbody>\n",
       "    <tr>\n",
       "      <th>0</th>\n",
       "      <td>ABBEVILLE_CITYCOUNC_ALG</td>\n",
       "      <td>POLYGON Z ((-92.10686 29.96695 0.00000, -92.11...</td>\n",
       "    </tr>\n",
       "  </tbody>\n",
       "</table>\n",
       "</div>"
      ],
      "text/plain": [
       "                 UNIQUE_ID                                           geometry\n",
       "0  ABBEVILLE_CITYCOUNC_ALG  POLYGON Z ((-92.10686 29.96695 0.00000, -92.11..."
      ]
     },
     "execution_count": 11,
     "metadata": {},
     "output_type": "execute_result"
    }
   ],
   "source": [
    "#check\n",
    "shp_alg"
   ]
  },
  {
   "cell_type": "code",
   "execution_count": 12,
   "id": "bd246117",
   "metadata": {},
   "outputs": [
    {
     "data": {
      "text/plain": [
       "<AxesSubplot:>"
      ]
     },
     "execution_count": 12,
     "metadata": {},
     "output_type": "execute_result"
    },
    {
     "data": {
      "image/png": "[encoded data removed]",
      "text/plain": [
       "<Figure size 432x288 with 1 Axes>"
      ]
     },
     "metadata": {
      "needs_background": "light"
     },
     "output_type": "display_data"
    }
   ],
   "source": [
    "shp_alg.plot()"
   ]
  },
  {
   "cell_type": "markdown",
   "id": "984cceff",
   "metadata": {},
   "source": [
    "### Join with At Large Election Returns"
   ]
  },
  {
   "cell_type": "code",
   "execution_count": 13,
   "id": "8152dbb5",
   "metadata": {},
   "outputs": [],
   "source": [
    "# merge\n",
    "abb_alg_pber = er_alg.merge(shp_alg, on='UNIQUE_ID', how = 'right', indicator=True)"
   ]
  },
  {
   "cell_type": "code",
   "execution_count": 14,
   "id": "7fcc5736",
   "metadata": {
    "scrolled": true
   },
   "outputs": [
    {
     "data": {
      "text/plain": [
       "both          1\n",
       "left_only     0\n",
       "right_only    0\n",
       "Name: _merge, dtype: int64"
      ]
     },
     "execution_count": 14,
     "metadata": {},
     "output_type": "execute_result"
    }
   ],
   "source": [
    "#check indicator to see if merge was successful\n",
    "abb_alg_pber._merge.value_counts()"
   ]
  },
  {
   "cell_type": "code",
   "execution_count": 15,
   "id": "3df20a0d",
   "metadata": {},
   "outputs": [],
   "source": [
    "#Drop merge column\n",
    "abb_alg_pber.drop(labels = ['_merge'], axis = 1, inplace = True)"
   ]
  },
  {
   "cell_type": "code",
   "execution_count": 16,
   "id": "7e641274",
   "metadata": {},
   "outputs": [
    {
     "data": {
      "text/plain": [
       "geopandas.geodataframe.GeoDataFrame"
      ]
     },
     "execution_count": 16,
     "metadata": {},
     "output_type": "execute_result"
    }
   ],
   "source": [
    "#Geodf\n",
    "abb_alg_pber = gp.GeoDataFrame(abb_alg_pber, geometry='geometry')\n",
    "#check\n",
    "type(abb_alg_pber)"
   ]
  },
  {
   "cell_type": "code",
   "execution_count": 17,
   "id": "bf880d5e",
   "metadata": {
    "scrolled": false
   },
   "outputs": [
    {
     "data": {
      "text/plain": [
       "<AxesSubplot:>"
      ]
     },
     "execution_count": 17,
     "metadata": {},
     "output_type": "execute_result"
    },
    {
     "data": {
      "image/png": "[encoded data removed]",
      "text/plain": [
       "<Figure size 432x288 with 1 Axes>"
      ]
     },
     "metadata": {
      "needs_background": "light"
     },
     "output_type": "display_data"
    }
   ],
   "source": [
    "abb_alg_pber.plot()"
   ]
  },
  {
   "cell_type": "code",
   "execution_count": 18,
   "id": "b5b7a6e7",
   "metadata": {
    "scrolled": true
   },
   "outputs": [
    {
     "data": {
      "text/html": [
       "<div>\n",
       "<style scoped>\n",
       "    .dataframe tbody tr th:only-of-type {\n",
       "        vertical-align: middle;\n",
       "    }\n",
       "\n",
       "    .dataframe tbody tr th {\n",
       "        vertical-align: top;\n",
       "    }\n",
       "\n",
       "    .dataframe thead th {\n",
       "        text-align: right;\n",
       "    }\n",
       "</style>\n",
       "<table border=\"1\" class=\"dataframe\">\n",
       "  <thead>\n",
       "    <tr style=\"text-align: right;\">\n",
       "      <th></th>\n",
       "      <th>UNIQUE_ID</th>\n",
       "      <th>MNCIPAL</th>\n",
       "      <th>DISTRICT</th>\n",
       "      <th>G22MYRRPLA</th>\n",
       "      <th>G22MYRNWHI</th>\n",
       "      <th>G22CTCDCAM</th>\n",
       "      <th>G22CTCDDAR</th>\n",
       "      <th>G22CTCDPOT</th>\n",
       "      <th>GCTCARGAR</th>\n",
       "      <th>GCTCARHAR</th>\n",
       "      <th>GCTCCIBRO</th>\n",
       "      <th>GCTCCRTRA</th>\n",
       "      <th>GCTCDRBRO</th>\n",
       "      <th>GCTCDDGRE</th>\n",
       "      <th>GCTCDDLAN</th>\n",
       "      <th>geometry</th>\n",
       "    </tr>\n",
       "  </thead>\n",
       "  <tbody>\n",
       "    <tr>\n",
       "      <th>0</th>\n",
       "      <td>ABBEVILLE_CITYCOUNC_ALG</td>\n",
       "      <td>ABBEVILLE</td>\n",
       "      <td>ALG</td>\n",
       "      <td>903</td>\n",
       "      <td>1303</td>\n",
       "      <td>1145</td>\n",
       "      <td>800</td>\n",
       "      <td>211</td>\n",
       "      <td>0</td>\n",
       "      <td>0</td>\n",
       "      <td>0</td>\n",
       "      <td>0</td>\n",
       "      <td>0</td>\n",
       "      <td>0</td>\n",
       "      <td>0</td>\n",
       "      <td>POLYGON Z ((-92.10686 29.96695 0.00000, -92.11...</td>\n",
       "    </tr>\n",
       "  </tbody>\n",
       "</table>\n",
       "</div>"
      ],
      "text/plain": [
       "                 UNIQUE_ID    MNCIPAL DISTRICT  G22MYRRPLA  G22MYRNWHI  \\\n",
       "0  ABBEVILLE_CITYCOUNC_ALG  ABBEVILLE      ALG         903        1303   \n",
       "\n",
       "   G22CTCDCAM  G22CTCDDAR  G22CTCDPOT  GCTCARGAR  GCTCARHAR  GCTCCIBRO  \\\n",
       "0        1145         800         211          0          0          0   \n",
       "\n",
       "   GCTCCRTRA  GCTCDRBRO  GCTCDDGRE  GCTCDDLAN  \\\n",
       "0          0          0          0          0   \n",
       "\n",
       "                                            geometry  \n",
       "0  POLYGON Z ((-92.10686 29.96695 0.00000, -92.11...  "
      ]
     },
     "execution_count": 18,
     "metadata": {},
     "output_type": "execute_result"
    }
   ],
   "source": [
    "abb_alg_pber"
   ]
  },
  {
   "cell_type": "markdown",
   "id": "497a124b",
   "metadata": {},
   "source": [
    "### Join with Districted Election Returns"
   ]
  },
  {
   "cell_type": "code",
   "execution_count": 19,
   "id": "80c6a92d",
   "metadata": {},
   "outputs": [
    {
     "data": {
      "text/plain": [
       "both          4\n",
       "left_only     0\n",
       "right_only    0\n",
       "Name: _merge, dtype: int64"
      ]
     },
     "execution_count": 19,
     "metadata": {},
     "output_type": "execute_result"
    }
   ],
   "source": [
    "# merge\n",
    "abb_dist_pber = er_dist.merge(shp_dist, on='UNIQUE_ID', how = 'right', indicator=True)\n",
    "#check indicator to see if merge was successful\n",
    "abb_dist_pber._merge.value_counts()"
   ]
  },
  {
   "cell_type": "code",
   "execution_count": 20,
   "id": "c04463dc",
   "metadata": {},
   "outputs": [],
   "source": [
    "#Drop merge column\n",
    "abb_dist_pber.drop(labels = ['_merge'], axis = 1, inplace = True)"
   ]
  },
  {
   "cell_type": "code",
   "execution_count": 21,
   "id": "ab301fe3",
   "metadata": {},
   "outputs": [
    {
     "data": {
      "text/plain": [
       "geopandas.geodataframe.GeoDataFrame"
      ]
     },
     "execution_count": 21,
     "metadata": {},
     "output_type": "execute_result"
    }
   ],
   "source": [
    "#Geodf\n",
    "abb_dist_pber = gp.GeoDataFrame(abb_dist_pber, geometry='geometry')\n",
    "#check\n",
    "type(abb_dist_pber)"
   ]
  },
  {
   "cell_type": "code",
   "execution_count": 22,
   "id": "eb5e1aac",
   "metadata": {},
   "outputs": [
    {
     "data": {
      "text/plain": [
       "<AxesSubplot:>"
      ]
     },
     "execution_count": 22,
     "metadata": {},
     "output_type": "execute_result"
    },
    {
     "data": {
      "image/png": "[encoded data removed]",
      "text/plain": [
       "<Figure size 432x288 with 1 Axes>"
      ]
     },
     "metadata": {
      "needs_background": "light"
     },
     "output_type": "display_data"
    }
   ],
   "source": [
    "#check\n",
    "abb_dist_pber.plot()"
   ]
  },
  {
   "cell_type": "code",
   "execution_count": 23,
   "id": "6193da8a",
   "metadata": {},
   "outputs": [
    {
     "data": {
      "text/html": [
       "<div>\n",
       "<style scoped>\n",
       "    .dataframe tbody tr th:only-of-type {\n",
       "        vertical-align: middle;\n",
       "    }\n",
       "\n",
       "    .dataframe tbody tr th {\n",
       "        vertical-align: top;\n",
       "    }\n",
       "\n",
       "    .dataframe thead th {\n",
       "        text-align: right;\n",
       "    }\n",
       "</style>\n",
       "<table border=\"1\" class=\"dataframe\">\n",
       "  <thead>\n",
       "    <tr style=\"text-align: right;\">\n",
       "      <th></th>\n",
       "      <th>UNIQUE_ID</th>\n",
       "      <th>MNCIPAL</th>\n",
       "      <th>DISTRICT</th>\n",
       "      <th>G22MYRRPLA</th>\n",
       "      <th>G22MYRNWHI</th>\n",
       "      <th>G22CTCDCAM</th>\n",
       "      <th>G22CTCDDAR</th>\n",
       "      <th>G22CTCDPOT</th>\n",
       "      <th>GCTCARGAR</th>\n",
       "      <th>GCTCARHAR</th>\n",
       "      <th>GCTCCIBRO</th>\n",
       "      <th>GCTCCRTRA</th>\n",
       "      <th>GCTCDRBRO</th>\n",
       "      <th>GCTCDDGRE</th>\n",
       "      <th>GCTCDDLAN</th>\n",
       "      <th>geometry</th>\n",
       "    </tr>\n",
       "  </thead>\n",
       "  <tbody>\n",
       "    <tr>\n",
       "      <th>0</th>\n",
       "      <td>ABBEVILLE_CITYCOUNC_A</td>\n",
       "      <td>ABBEVILLE</td>\n",
       "      <td>A</td>\n",
       "      <td>0</td>\n",
       "      <td>0</td>\n",
       "      <td>0</td>\n",
       "      <td>0</td>\n",
       "      <td>0</td>\n",
       "      <td>280</td>\n",
       "      <td>313</td>\n",
       "      <td>0</td>\n",
       "      <td>0</td>\n",
       "      <td>0</td>\n",
       "      <td>0</td>\n",
       "      <td>0</td>\n",
       "      <td>MULTIPOLYGON Z (((-92.12449 29.97980 0.00000, ...</td>\n",
       "    </tr>\n",
       "    <tr>\n",
       "      <th>1</th>\n",
       "      <td>ABBEVILLE_CITYCOUNC_B</td>\n",
       "      <td>ABBEVILLE</td>\n",
       "      <td>B</td>\n",
       "      <td>0</td>\n",
       "      <td>0</td>\n",
       "      <td>0</td>\n",
       "      <td>0</td>\n",
       "      <td>0</td>\n",
       "      <td>0</td>\n",
       "      <td>0</td>\n",
       "      <td>0</td>\n",
       "      <td>0</td>\n",
       "      <td>0</td>\n",
       "      <td>0</td>\n",
       "      <td>0</td>\n",
       "      <td>POLYGON Z ((-92.07829 29.96562 0.00000, -92.07...</td>\n",
       "    </tr>\n",
       "    <tr>\n",
       "      <th>2</th>\n",
       "      <td>ABBEVILLE_CITYCOUNC_C</td>\n",
       "      <td>ABBEVILLE</td>\n",
       "      <td>C</td>\n",
       "      <td>0</td>\n",
       "      <td>0</td>\n",
       "      <td>0</td>\n",
       "      <td>0</td>\n",
       "      <td>0</td>\n",
       "      <td>0</td>\n",
       "      <td>0</td>\n",
       "      <td>407</td>\n",
       "      <td>163</td>\n",
       "      <td>0</td>\n",
       "      <td>0</td>\n",
       "      <td>0</td>\n",
       "      <td>POLYGON Z ((-92.13667 29.97661 0.00000, -92.13...</td>\n",
       "    </tr>\n",
       "    <tr>\n",
       "      <th>3</th>\n",
       "      <td>ABBEVILLE_CITYCOUNC_D</td>\n",
       "      <td>ABBEVILLE</td>\n",
       "      <td>D</td>\n",
       "      <td>0</td>\n",
       "      <td>0</td>\n",
       "      <td>0</td>\n",
       "      <td>0</td>\n",
       "      <td>0</td>\n",
       "      <td>0</td>\n",
       "      <td>0</td>\n",
       "      <td>0</td>\n",
       "      <td>0</td>\n",
       "      <td>452</td>\n",
       "      <td>39</td>\n",
       "      <td>166</td>\n",
       "      <td>MULTIPOLYGON Z (((-92.13780 29.96532 0.00000, ...</td>\n",
       "    </tr>\n",
       "  </tbody>\n",
       "</table>\n",
       "</div>"
      ],
      "text/plain": [
       "               UNIQUE_ID    MNCIPAL DISTRICT  G22MYRRPLA  G22MYRNWHI  \\\n",
       "0  ABBEVILLE_CITYCOUNC_A  ABBEVILLE        A           0           0   \n",
       "1  ABBEVILLE_CITYCOUNC_B  ABBEVILLE        B           0           0   \n",
       "2  ABBEVILLE_CITYCOUNC_C  ABBEVILLE        C           0           0   \n",
       "3  ABBEVILLE_CITYCOUNC_D  ABBEVILLE        D           0           0   \n",
       "\n",
       "   G22CTCDCAM  G22CTCDDAR  G22CTCDPOT  GCTCARGAR  GCTCARHAR  GCTCCIBRO  \\\n",
       "0           0           0           0        280        313          0   \n",
       "1           0           0           0          0          0          0   \n",
       "2           0           0           0          0          0        407   \n",
       "3           0           0           0          0          0          0   \n",
       "\n",
       "   GCTCCRTRA  GCTCDRBRO  GCTCDDGRE  GCTCDDLAN  \\\n",
       "0          0          0          0          0   \n",
       "1          0          0          0          0   \n",
       "2        163          0          0          0   \n",
       "3          0        452         39        166   \n",
       "\n",
       "                                            geometry  \n",
       "0  MULTIPOLYGON Z (((-92.12449 29.97980 0.00000, ...  \n",
       "1  POLYGON Z ((-92.07829 29.96562 0.00000, -92.07...  \n",
       "2  POLYGON Z ((-92.13667 29.97661 0.00000, -92.13...  \n",
       "3  MULTIPOLYGON Z (((-92.13780 29.96532 0.00000, ...  "
      ]
     },
     "execution_count": 23,
     "metadata": {},
     "output_type": "execute_result"
    }
   ],
   "source": [
    "abb_dist_pber"
   ]
  },
  {
   "cell_type": "markdown",
   "id": "c1948c5c",
   "metadata": {},
   "source": [
    "<p><a name=\"exp\"></a></p>\n",
    "\n",
    "### Export Cleaned Datasets"
   ]
  },
  {
   "cell_type": "code",
   "execution_count": 24,
   "id": "53251f5f",
   "metadata": {},
   "outputs": [],
   "source": [
    "if not os.path.exists(\"./LA22_ABBEVILLE_PBER/LA22_ABBEVILLE_PBER\"):\n",
    "    os.mkdir(\"./LA22_ABBEVILLE_PBER/LA22_ABBEVILLE_PBER\")\n",
    "\n",
    "abb_dist_pber.to_file(\"./LA22_ABBEVILLE_PBER/LA22_ABBEVILLE_PBER/LA22_ABBEVILLE_DIST_PBER.shp\")\n",
    "abb_alg_pber.to_file(\"./LA22_ABBEVILLE_PBER/LA22_ABBEVILLE_PBER/LA22_ABBEVILLE_ALG_PBER.shp\")"
   ]
  },
  {
   "cell_type": "code",
   "execution_count": 25,
   "id": "c862a66b",
   "metadata": {},
   "outputs": [],
   "source": [
    "def check_file(path):\n",
    "    if \".csv\" in path:\n",
    "        file_type = \".csv\"\n",
    "        load = pd.read_csv(path)\n",
    "    elif \".shp\" in path:\n",
    "        file_type = \".shp\"\n",
    "        load = gp.read_file(path)\n",
    "        assert(os.path.exists(path[0:-4] + \".cpg\"))\n",
    "        assert(os.path.exists(path[0:-4] + \".dbf\"))\n",
    "        assert(os.path.exists(path[0:-4] + \".prj\"))\n",
    "        assert(os.path.exists(path[0:-4] + \".shx\"))\n",
    "    else:\n",
    "        raise ValueError (\"Other function needed to load non .csv or .shp\")\n",
    "    run_checks(load, path, file_type)\n",
    "    \n",
    "def run_checks(file, path, file_type):\n",
    "    if \"/Users\" in path:\n",
    "        path = path.replace(\"/Users\",\"\")\n",
    "    path_name = path.replace(\"/\",\"-\")\n",
    "    \n",
    "        \n",
    "    with open(\"./FILE_CHECK\" + path_name + \".txt\",\"w\") as t:\n",
    "        t.write(\"***RDH FILE CHECKER***\\n\")\n",
    "        t.write(\"Checking file located at \" + path+\"\\n\")\n",
    "        t.write(\"\\n\")\n",
    "        t.write(\"\\n\")        \n",
    "        \n",
    "        t.write(\"***N/A VALUES***\\n\")\n",
    "        if(file.isna().any().sum() != 0):\n",
    "            t.write(\"N/A values in the following columns\\n\")\n",
    "            for col in file.columns:\n",
    "                num_nas = file[col].isna().sum()\n",
    "                string_nans = file[file[col]==\"nan\"].shape[0]\n",
    "                if file[col].isna().any().sum():\n",
    "                    t.write(\"\\t\"+col+\" - \"+ str(num_nas) +\" row(s)\\n\")\n",
    "                elif  string_nans > 0:\n",
    "                    t.write(\"\\t\"+col+\" - \"+ str(string_nans) +\" row(s)\\n\")\n",
    "\n",
    "        else:\n",
    "            t.write(\"Do not appear to be N/A values\")\n",
    "        t.write(\"\\n\")\n",
    "        t.write(\"\\n\")\n",
    "        \n",
    "        t.write(\"***File Size***\\n\")\n",
    "        t.write(\"File contains \" + str(file.shape[0]) + \" row(s)\\n\")\n",
    "        t.write(\"File contains \" + str(file.shape[1]) + \" column(s)\\n\")\n",
    "        t.write(\"\\n\")\n",
    "        t.write(\"\\n\")\n",
    "        \n",
    "        if file_type == \".shp\":\n",
    "            t.write(\"***Invalid Geometries***\\n\")\n",
    "            t.write(\"File contains \" + str(file[~file[\"geometry\"].is_valid].shape[0]) + \" invalid GEOM row(s)\\n\")\n",
    "            t.write(\"File contains \" + str(file[file[\"geometry\"].is_valid].shape[0]) + \" valid GEOM row(s)\\n\")\n",
    "            t.write(\"\\n\")\n",
    "            t.write(\"\\n\")\n",
    "\n",
    "        t.write(\"***COLUMN NAMES***\\n\")\n",
    "        t.write(str(list(file.columns)))\n",
    "        t.write(\"\\n\")\n",
    "        t.write(\"\\n\")\n",
    "        \n",
    "        t.write(\"***COLUMN NAME LENGTHS***\\n\")\n",
    "        long_col_name_list = [i for i in file.columns if len(i) > 10]\n",
    "        if len(long_col_name_list) > 0:\n",
    "            t.write(\"The following columns are longer than 10 characters:\" + str(long_col_name_list)+\"\\n\")\n",
    "        else:\n",
    "            t.write(\"No column names are longer than 10 characters\\n\")\n",
    "        t.write(\"\\n\")\n",
    "        t.write(\"\\n\")\n",
    "\n",
    "        t.write(\"***FULL FILE SUMMARY***\\n\")\n",
    "        t.write(str(file.describe())+\"\\n\")\n",
    "        t.write(\"\\n\")\n",
    "        t.write(\"\\n\")\n",
    "\n",
    "        t.write(\"***MAX VALUE FOR EVERY DATA COLUMN***\\n\")\n",
    "        t.write(str(file.max()) + \"\\n\")\n",
    "        t.write(\"\\n\")\n",
    "        t.write(\"\\n\")\n",
    "\n",
    "        t.write(\"***MIN VALUE FOR EVERY DATA COLUMN***\\n\")\n",
    "        t.write(str(file.min()) + \"\\n\")\n",
    "        t.write(\"\\n\")\n",
    "        \n",
    "        t.write(\"***NUMERIC COLUMN SUMS***\\n\")\n",
    "        t.write(str(file.sum(numeric_only=True))+\"\\n\")\n",
    "        t.write(\"\\n\")\n",
    "        t.write(\"\\n\")\n",
    "\n",
    "        t.write(\"***COLUMNS AND DUPLICATE VALUES***\\n\")\n",
    "        for col in list(file.columns):\n",
    "            if col != \"geometry\":\n",
    "                if max(file[col].value_counts(dropna = False))==1:\n",
    "                    t.write(\"NO: Column \" + col + \" DOES NOT HAVE duplicate values\\n\")\n",
    "                elif max(file[col].value_counts(dropna = False))>1:\n",
    "                    t.write(\"YES: Column \" + col+ \" HAS duplicate values\\n\")\n",
    "        t.write(\"\\n\")\n"
   ]
  },
  {
   "cell_type": "code",
   "execution_count": 26,
   "id": "5d889325",
   "metadata": {},
   "outputs": [],
   "source": [
    "check_file(\"./LA22_ABBEVILLE_PBER/LA22_ABBEVILLE_PBER/LA22_ABBEVILLE_DIST_PBER.shp\")\n",
    "check_file(\"./LA22_ABBEVILLE_PBER/LA22_ABBEVILLE_PBER/LA22_ABBEVILLE_ALG_PBER.shp\")"
   ]
  }
 ],
 "metadata": {
  "kernelspec": {
   "display_name": "Python 3",
   "language": "python",
   "name": "python3"
  },
  "language_info": {
   "codemirror_mode": {
    "name": "ipython",
    "version": 3
   },
   "file_extension": ".py",
   "mimetype": "text/x-python",
   "name": "python",
   "nbconvert_exporter": "python",
   "pygments_lexer": "ipython3",
   "version": "3.8.8"
  }
 },
 "nbformat": 4,
 "nbformat_minor": 5
}
