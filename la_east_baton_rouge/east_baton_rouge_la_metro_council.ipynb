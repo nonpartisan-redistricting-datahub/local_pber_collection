{
 "cells": [
  {
   "cell_type": "code",
   "execution_count": null,
   "id": "8ae03d6e-bb65-4ea5-be17-d218eea2a350",
   "metadata": {},
   "outputs": [],
   "source": [
    "import pandas as pd\n",
    "import geopandas as gp \n"
   ]
  },
  {
   "cell_type": "markdown",
   "id": "fd79699c-5f83-491e-96e8-fbcb83ce1c72",
   "metadata": {},
   "source": [
    "KR1: Collect and process election results in 6 local jurisdictions. [AR, LF]\n",
    "\n",
    "KR2: Collect and publish candidate data in 6 local jurisdictions. [AR, LF]\n",
    "\n",
    "KR3: Collect, process, and publish 4 municipal boundaries. [AR] --- don't think LA needs to have \n",
    "\n",
    "KR4: Collect, process, join, and publish precinct boundaries with data in KR1. [AR, LF]\n",
    "\n",
    "\n",
    "# LA SOS \n",
    "\n",
    "## [LA Parish Government Structure](https://www.lpgov.org/page/ParishGovStructure)\n",
    "- parishes governed in most cases by police juries\n",
    "- parishes correspond to counties\n",
    "- police juries correspond to county boards or commissioners or similar local governing bodies\n",
    "\n",
    "ER: https://voterportal.sos.la.gov/static/2022-11-08\n",
    "\n",
    "Notes on local er: https://docs.google.com/document/d/1ypZxjj-StEgYkKsRU_Lr6k2iWL4cff2Xi1glJx3fU34/edit\n",
    "\n",
    "Q/A on local er: https://docs.google.com/document/d/1L2jAAwtTNougGnty3Kv-1QCpLhXA2xoIbbJ2m-ECqK4/edit\n",
    "\n",
    "\n",
    "-----\n",
    "\n",
    "Note the above is for the elections we are not looking for - additional offices\n",
    "\n",
    "We are interested in \"Metropolitan Council\"\n",
    "- legislative branch of City of Baton Rouge and Parish of East Baton Rouge\n",
    "- 12 members elected from single-member districts\n",
    "    - redistricting for these districts - last done 2022\n",
    "    - \"\"Unless a different period of time is specified by the constitution or by statute, the governing authority of each local governing body shall reapportion its voting districts by the end of the year following the year in which the population of this state is reported to the president of the United States for each decennial census.\"\"\n",
    "- elected for 4 year terms \n",
    "- Next election in 2024\n",
    "- sworn in Jan 2 following the election\n",
    "\n",
    "\n",
    "So, find election results from 2020 and precinct boundaries\n",
    "- do we already have PB from LA 2020? I believe so"
   ]
  },
  {
   "cell_type": "code",
   "execution_count": null,
   "id": "96976f26-710c-4181-aec2-09c220ec9dc1",
   "metadata": {},
   "outputs": [],
   "source": []
  }
 ],
 "metadata": {
  "kernelspec": {
   "display_name": "pdv_env",
   "language": "python",
   "name": "pdv_env"
  },
  "language_info": {
   "codemirror_mode": {
    "name": "ipython",
    "version": 3
   },
   "file_extension": ".py",
   "mimetype": "text/x-python",
   "name": "python",
   "nbconvert_exporter": "python",
   "pygments_lexer": "ipython3",
   "version": "3.9.4"
  }
 },
 "nbformat": 4,
 "nbformat_minor": 5
}
