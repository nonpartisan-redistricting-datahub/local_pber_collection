{
 "cells": [
  {
   "cell_type": "code",
   "execution_count": 1,
   "id": "8ae03d6e-bb65-4ea5-be17-d218eea2a350",
   "metadata": {},
   "outputs": [],
   "source": [
    "import pandas as pd\n",
    "import geopandas as gp \n"
   ]
  },
  {
   "cell_type": "markdown",
   "id": "fd79699c-5f83-491e-96e8-fbcb83ce1c72",
   "metadata": {},
   "source": [
    "KR1: Collect and process election results in 6 local jurisdictions. [AR, LF]\n",
    "\n",
    "KR2: Collect and publish candidate data in 6 local jurisdictions. [AR, LF]\n",
    "\n",
    "KR3: Collect, process, and publish 4 municipal boundaries. [AR] --- don't think LA needs to have \n",
    "\n",
    "KR4: Collect, process, join, and publish precinct boundaries with data in KR1. [AR, LF]\n",
    "\n",
    "\n",
    "# LA SOS \n",
    "\n",
    "## [LA Parish Government Structure](https://www.lpgov.org/page/ParishGovStructure)\n",
    "- parishes governed in most cases by police juries\n",
    "- parishes correspond to counties\n",
    "- police juries correspond to county boards or commissioners or similar local governing bodies\n",
    "\n",
    "ER: https://voterportal.sos.la.gov/static/2022-11-08\n",
    "\n",
    "Notes on local er: https://docs.google.com/document/d/1ypZxjj-StEgYkKsRU_Lr6k2iWL4cff2Xi1glJx3fU34/edit\n",
    "\n",
    "Q/A on local er: https://docs.google.com/document/d/1L2jAAwtTNougGnty3Kv-1QCpLhXA2xoIbbJ2m-ECqK4/edit\n",
    "\n",
    "\n",
    "-----\n",
    "\n",
    "Note the above is for the elections we are not looking for - additional offices\n",
    "\n",
    "We are interested in \"Metropolitan Council\"\n",
    "- legislative branch of City of Baton Rouge and Parish of East Baton Rouge\n",
    "- 12 members elected from single-member districts\n",
    "    - redistricting for these districts - last done 2022\n",
    "    - \"\"Unless a different period of time is specified by the constitution or by statute, the governing authority of each local governing body shall reapportion its voting districts by the end of the year following the year in which the population of this state is reported to the president of the United States for each decennial census.\"\"\n",
    "- elected for 4 year terms \n",
    "- Next election in 2024\n",
    "- sworn in Jan 2 following the election\n",
    "\n",
    "\n",
    "So, find election results from 2020 and precinct boundaries\n",
    "- do we already have PB from LA 2020? I believe so"
   ]
  },
  {
   "cell_type": "code",
   "execution_count": 2,
   "id": "96976f26-710c-4181-aec2-09c220ec9dc1",
   "metadata": {},
   "outputs": [
    {
     "name": "stderr",
     "output_type": "stream",
     "text": [
      "/Users/lilyfalk/anaconda3/envs/pdv_env/lib/python3.9/site-packages/openpyxl/styles/stylesheet.py:226: UserWarning: Workbook contains no default style, apply openpyxl's default\n",
      "  warn(\"Workbook contains no default style, apply openpyxl's default\")\n",
      "/Users/lilyfalk/anaconda3/envs/pdv_env/lib/python3.9/site-packages/openpyxl/styles/stylesheet.py:226: UserWarning: Workbook contains no default style, apply openpyxl's default\n",
      "  warn(\"Workbook contains no default style, apply openpyxl's default\")\n",
      "/Users/lilyfalk/anaconda3/envs/pdv_env/lib/python3.9/site-packages/openpyxl/styles/stylesheet.py:226: UserWarning: Workbook contains no default style, apply openpyxl's default\n",
      "  warn(\"Workbook contains no default style, apply openpyxl's default\")\n",
      "/Users/lilyfalk/anaconda3/envs/pdv_env/lib/python3.9/site-packages/openpyxl/styles/stylesheet.py:226: UserWarning: Workbook contains no default style, apply openpyxl's default\n",
      "  warn(\"Workbook contains no default style, apply openpyxl's default\")\n",
      "/Users/lilyfalk/anaconda3/envs/pdv_env/lib/python3.9/site-packages/openpyxl/styles/stylesheet.py:226: UserWarning: Workbook contains no default style, apply openpyxl's default\n",
      "  warn(\"Workbook contains no default style, apply openpyxl's default\")\n",
      "/Users/lilyfalk/anaconda3/envs/pdv_env/lib/python3.9/site-packages/openpyxl/styles/stylesheet.py:226: UserWarning: Workbook contains no default style, apply openpyxl's default\n",
      "  warn(\"Workbook contains no default style, apply openpyxl's default\")\n",
      "/Users/lilyfalk/anaconda3/envs/pdv_env/lib/python3.9/site-packages/openpyxl/styles/stylesheet.py:226: UserWarning: Workbook contains no default style, apply openpyxl's default\n",
      "  warn(\"Workbook contains no default style, apply openpyxl's default\")\n"
     ]
    }
   ],
   "source": [
    "#All results in list in sheet so easiest to manually find row breaks\n",
    "#Note need to remove \"Total Votes\" and establish how to allocate \"Early Voting\"\n",
    "#Mayor-President -- Metro Council, City of Baton Rouge\n",
    "mayor_pres = pd.read_excel(\"./Election+Results+(12-05-2020).xlsx\", sheet_name=\"East Baton Rouge\", header=6, index_col=0, nrows=332).rename_axis(\"prec\").reset_index()\n",
    "\n",
    "council_1 = pd.read_excel(\"./Election+Results+(12-05-2020).xlsx\", sheet_name=\"East Baton Rouge\", header=341, index_col=0, nrows=30).rename_axis(\"prec\").reset_index()\n",
    "council_4 = pd.read_excel(\"./Election+Results+(12-05-2020).xlsx\", sheet_name=\"East Baton Rouge\", header=374, index_col=0, nrows=31).rename_axis(\"prec\").reset_index()\n",
    "council_6 = pd.read_excel(\"./Election+Results+(12-05-2020).xlsx\", sheet_name=\"East Baton Rouge\", header=409, index_col=0, nrows=25).rename_axis(\"prec\").reset_index()\n",
    "council_7 = pd.read_excel(\"./Election+Results+(12-05-2020).xlsx\", sheet_name=\"East Baton Rouge\", header=438, index_col=0, nrows=32).rename_axis(\"prec\").reset_index()\n",
    "council_10 = pd.read_excel(\"./Election+Results+(12-05-2020).xlsx\", sheet_name=\"East Baton Rouge\", header=473, index_col=0, nrows=31).rename_axis(\"prec\").reset_index()\n",
    "council_12 = pd.read_excel(\"./Election+Results+(12-05-2020).xlsx\", sheet_name=\"East Baton Rouge\", header=507, index_col=0, nrows=31).rename_axis(\"prec\").reset_index()"
   ]
  },
  {
   "cell_type": "code",
   "execution_count": 87,
   "id": "0a835a26-3831-48d7-bcb5-b1de5e8e8acc",
   "metadata": {},
   "outputs": [
    {
     "data": {
      "text/plain": [
       "set()"
      ]
     },
     "execution_count": 87,
     "metadata": {},
     "output_type": "execute_result"
    }
   ],
   "source": [
    "set(council_1[\"prec\"])-set(mayor_pres[\"prec\"])"
   ]
  },
  {
   "cell_type": "code",
   "execution_count": 89,
   "id": "31df1ac6-d974-4794-b2ae-33be999f3e31",
   "metadata": {},
   "outputs": [
    {
     "data": {
      "text/plain": [
       "set()"
      ]
     },
     "execution_count": 89,
     "metadata": {},
     "output_type": "execute_result"
    }
   ],
   "source": [
    "set(council_4[\"prec\"])-set(mayor_pres[\"prec\"])"
   ]
  },
  {
   "cell_type": "code",
   "execution_count": 90,
   "id": "2a07a9f5-c8bf-4036-9199-d7307cf1be65",
   "metadata": {},
   "outputs": [
    {
     "data": {
      "text/plain": [
       "set()"
      ]
     },
     "execution_count": 90,
     "metadata": {},
     "output_type": "execute_result"
    }
   ],
   "source": [
    "set(council_6[\"prec\"])-set(mayor_pres[\"prec\"])"
   ]
  },
  {
   "cell_type": "code",
   "execution_count": 91,
   "id": "5090a7a7-a8c4-4919-bc67-0157e667ba39",
   "metadata": {},
   "outputs": [
    {
     "data": {
      "text/plain": [
       "set()"
      ]
     },
     "execution_count": 91,
     "metadata": {},
     "output_type": "execute_result"
    }
   ],
   "source": [
    "set(council_7[\"prec\"])-set(mayor_pres[\"prec\"])"
   ]
  },
  {
   "cell_type": "code",
   "execution_count": 92,
   "id": "87412d58-7535-4e27-a1c2-ba72c417ffc8",
   "metadata": {},
   "outputs": [
    {
     "data": {
      "text/plain": [
       "set()"
      ]
     },
     "execution_count": 92,
     "metadata": {},
     "output_type": "execute_result"
    }
   ],
   "source": [
    "set(council_10[\"prec\"])-set(mayor_pres[\"prec\"])"
   ]
  },
  {
   "cell_type": "code",
   "execution_count": 93,
   "id": "9ba1bdf7-91e4-4037-a4c5-9438875809b3",
   "metadata": {},
   "outputs": [
    {
     "data": {
      "text/plain": [
       "set()"
      ]
     },
     "execution_count": 93,
     "metadata": {},
     "output_type": "execute_result"
    }
   ],
   "source": [
    "set(council_12[\"prec\"])-set(mayor_pres[\"prec\"])"
   ]
  },
  {
   "cell_type": "markdown",
   "id": "70ebb1c7-a56b-4aae-bd82-dad80617a9e3",
   "metadata": {},
   "source": [
    "Below I have 6/12 district elections selected - what about the other half, did those elections occur at a different time?\n",
    "\n",
    "From Ballotpedia:\n",
    "\"Baton Rouge, Louisiana, held elections for mayor-president, twelve city council seats, six constables, six justices of the peace, fifteen 19th Judicial District judgeships, district attorney for the 19th Judicial District, two East Baton Rouge Parish Juvenile Court judgeships, and four East Baton Rouge Parish Family Court judgeships.\"\n",
    "\n",
    "\"This general election was cancelled\"\n",
    "- but why?\n",
    "- no opposition from other party, so winner of primary took office\n",
    "\n",
    "so are these 6 constables? no? where are other 6 city council seats? different parish?\n",
    "\n",
    "\n",
    "- either create dict for candidate names or read in with convention\n",
    "- read in the rest of the contests\n",
    "- read in 2020 precincts, check if match with ER?\n",
    "    - not a match as is, modification needed\n",
    "    - check if data directly from Census matches or reorganize IDs, confirm which parts match\n",
    "    - shouldn't be too bad overall in any case..."
   ]
  },
  {
   "cell_type": "code",
   "execution_count": 3,
   "id": "0ce02c67-a62e-4547-91d9-94878e60758d",
   "metadata": {},
   "outputs": [
    {
     "data": {
      "text/plain": [
       "331"
      ]
     },
     "execution_count": 3,
     "metadata": {},
     "output_type": "execute_result"
    }
   ],
   "source": [
    "mayor_pres[\"prec\"].nunique()"
   ]
  },
  {
   "cell_type": "code",
   "execution_count": 4,
   "id": "b8aed165-4a19-460c-b034-b8f0629da393",
   "metadata": {},
   "outputs": [
    {
     "data": {
      "text/plain": [
       "29"
      ]
     },
     "execution_count": 4,
     "metadata": {},
     "output_type": "execute_result"
    }
   ],
   "source": [
    "council_1[\"prec\"].nunique()"
   ]
  },
  {
   "cell_type": "code",
   "execution_count": 9,
   "id": "fb682c91-be6c-43d6-9759-255229803b94",
   "metadata": {
    "tags": []
   },
   "outputs": [
    {
     "data": {
      "text/plain": [
       "array(['Total Votes', '01 001', '01 002 A', '01 002 B', '01 003',\n",
       "       '01 004', '01 005 A', '01 005 B', '01 006', '01 007', '01 008',\n",
       "       '01 009', '01 010 A', '01 010 B', '01 011', '01 012 A', '01 012 B',\n",
       "       '01 013', '01 014 A', '01 014 B', '01 015 A', '01 015 B', '01 016',\n",
       "       '01 017', '01 018', '01 019', '01 020 A', '01 020 B', '01 021',\n",
       "       '01 022', '01 023', '01 024', '01 025', '01 026', '01 027',\n",
       "       '01 028', '01 029', '01 030', '01 031 A', '01 031 B', '01 032 A',\n",
       "       '01 032 B', '01 033', '01 034 A', '01 034 B', '01 035', '01 036',\n",
       "       '01 037 A', '01 037 B', '01 038 A', '01 038 B', '01 039', '01 040',\n",
       "       '01 041 A', '01 041 B', '01 042 A', '01 042 B', '01 043', '01 044',\n",
       "       '01 045', '01 046 A', '01 046 B', '01 047 A', '01 047 B',\n",
       "       '01 048 A', '01 048 B', '01 049 A', '01 049 B', '01 050', '01 051',\n",
       "       '01 052 A', '01 052 B', '01 053 A', '01 053 B', '01 054 A',\n",
       "       '01 054 B', '01 055 A', '01 055 B', '01 056 A', '01 056 B',\n",
       "       '01 057', '01 058 A', '01 058 B', '01 059', '01 060 A', '01 060 B',\n",
       "       '01 061', '01 062', '01 063 A', '01 063 B', '01 064', '01 065',\n",
       "       '01 066 A', '01 066 B', '01 067', '01 068', '01 069 A', '01 069 B',\n",
       "       '01 070 A', '01 070 B', '01 071 A', '01 071 B', '01 072 A',\n",
       "       '01 072 B', '01 073 A', '01 073 B', '01 074 A', '01 074 B',\n",
       "       '01 075 A', '01 075 B', '01 076', '01 077 A', '01 077 B',\n",
       "       '01 078 A', '01 078 B', '01 079', '01 080 A', '01 080 B',\n",
       "       '01 081 A', '01 081 B', '01 082 A', '01 082 B', '01 083 A',\n",
       "       '01 083 B', '01 084', '01 085 A', '01 085 B', '01 086 A',\n",
       "       '01 086 B', '01 087 A', '01 087 B', '01 088', '01 089', '01 090 A',\n",
       "       '01 090 B', '01 091 A', '01 091 B', '01 092 A', '01 092 B',\n",
       "       '01 093', '01 094', '01 095 A', '01 095 B', '01 097', '01 098 A',\n",
       "       '01 098 B', '01 099 A', '01 099 B', '01 100 A', '01 100 B',\n",
       "       '01 101 A', '01 101 B', '01 102', '01 103 A', '01 103 B',\n",
       "       '01 104 A', '01 104 B', '01 105', '01 107', '02 001 A', '02 001 B',\n",
       "       '02 002 A', '02 002 B', '02 003', '02 004', '02 005', '02 006 A',\n",
       "       '02 006 B', '02 007 A', '02 007 B', '02 008', '02 009 A',\n",
       "       '02 009 B', '02 010 A', '02 010 B', '02 011', '02 012 A',\n",
       "       '02 012 B', '02 013 A', '02 013 B', '02 014 A', '02 014 B',\n",
       "       '02 015', '02 016 A', '02 016 B', '02 017 A', '02 017 B',\n",
       "       '02 018 A', '02 018 B', '02 019', '02 020', '02 021', '02 022 A',\n",
       "       '02 022 B', '02 023 A', '02 023 B', '02 024', '02 025 A',\n",
       "       '02 025 B', '02 026', '02 027 A', '02 027 B', '02 028', '02 029',\n",
       "       '02 030 A', '02 030 B', '02 031', '02 032', '02 033', '02 034 A',\n",
       "       '02 034 B', '02 035', '02 036 A', '02 036 B', '02 037', '03 001 A',\n",
       "       '03 001 B', '03 002 A', '03 002 B', '03 003 A', '03 003 B',\n",
       "       '03 004 A', '03 004 B', '03 005', '03 006 A', '03 006 B',\n",
       "       '03 007 A', '03 007 B', '03 008 A', '03 008 B', '03 009 A',\n",
       "       '03 009 B', '03 010', '03 011', '03 012 A', '03 012 B', '03 013',\n",
       "       '03 014 A', '03 014 B', '03 015 A', '03 015 B', '03 016',\n",
       "       '03 017 A', '03 017 B', '03 018 A', '03 018 B', '03 019 A',\n",
       "       '03 019 B', '03 020 A', '03 020 B', '03 021 A', '03 021 B',\n",
       "       '03 022', '03 023 A', '03 023 B', '03 024 A', '03 024 B',\n",
       "       '03 025 A', '03 025 B', '03 026 A', '03 026 B', '03 027 A',\n",
       "       '03 027 B', '03 028 A', '03 028 B', '03 029 A', '03 029 B',\n",
       "       '03 030 A', '03 030 B', '03 031 A', '03 031 B', '03 032',\n",
       "       '03 033 A', '03 033 B', '03 034 A', '03 034 B', '03 035 A',\n",
       "       '03 035 B', '03 036', '03 037', '03 038 A', '03 038 B', '03 039',\n",
       "       '03 040 A', '03 040 B', '03 041 A', '03 041 B', '03 043 A',\n",
       "       '03 043 B', '03 044 A', '03 044 B', '03 045 A', '03 045 B',\n",
       "       '03 046', '03 047 A', '03 047 B', '03 048 A', '03 048 B',\n",
       "       '03 049 A', '03 049 B', '03 050 A', '03 050 B', '03 051',\n",
       "       '03 052 A', '03 052 B', '03 053 A', '03 053 B', '03 054',\n",
       "       '03 055 A', '03 055 B', '03 056', '03 057', '03 058', '03 059',\n",
       "       '03 060 A', '03 060 B', '03 061', '03 062', '03 063', '03 064',\n",
       "       '03 065', '03 066', '03 067', '03 068', '03 069 A', '03 069 B',\n",
       "       '03 070 A', '03 070 B', '03 071', '03 072', 'Early Voting '],\n",
       "      dtype=object)"
      ]
     },
     "execution_count": 9,
     "metadata": {},
     "output_type": "execute_result"
    }
   ],
   "source": [
    "mayor_pres[\"prec\"].unique()"
   ]
  },
  {
   "cell_type": "code",
   "execution_count": 43,
   "id": "5fabde44-2f02-4533-93b9-dad231b9411d",
   "metadata": {},
   "outputs": [
    {
     "data": {
      "text/plain": [
       "0         [Total, Votes]\n",
       "1              [01, 001]\n",
       "2           [01, 002, A]\n",
       "3           [01, 002, B]\n",
       "4              [01, 003]\n",
       "             ...        \n",
       "326         [03, 070, A]\n",
       "327         [03, 070, B]\n",
       "328            [03, 071]\n",
       "329            [03, 072]\n",
       "330    [Early, Voting, ]\n",
       "Name: prec, Length: 331, dtype: object"
      ]
     },
     "execution_count": 43,
     "metadata": {},
     "output_type": "execute_result"
    }
   ],
   "source": [
    "mayor_pres[\"prec\"].str.split(\" \")"
   ]
  },
  {
   "cell_type": "code",
   "execution_count": 53,
   "id": "acf774a0-b073-4b6f-827d-e8ed144947c9",
   "metadata": {},
   "outputs": [
    {
     "data": {
      "text/plain": [
       "5"
      ]
     },
     "execution_count": 53,
     "metadata": {},
     "output_type": "execute_result"
    }
   ],
   "source": [
    "mayor_pres[\"prec\"].str.split(\" \").str[0].nunique()"
   ]
  },
  {
   "cell_type": "code",
   "execution_count": 52,
   "id": "d72b7c4c-2798-4e9c-8fcd-b4bbe237b89e",
   "metadata": {},
   "outputs": [
    {
     "data": {
      "text/plain": [
       "107"
      ]
     },
     "execution_count": 52,
     "metadata": {},
     "output_type": "execute_result"
    }
   ],
   "source": [
    "mayor_pres[\"prec\"].str.split(\" \").str[1].nunique()"
   ]
  },
  {
   "cell_type": "code",
   "execution_count": 65,
   "id": "1c7f87c3-2840-4bfb-8142-62e295f782ff",
   "metadata": {},
   "outputs": [
    {
     "data": {
      "text/plain": [
       "0       \n",
       "1       \n",
       "2      A\n",
       "3      B\n",
       "4       \n",
       "      ..\n",
       "326    A\n",
       "327    B\n",
       "328     \n",
       "329     \n",
       "330     \n",
       "Name: prec, Length: 331, dtype: object"
      ]
     },
     "execution_count": 65,
     "metadata": {},
     "output_type": "execute_result"
    }
   ],
   "source": [
    "mayor_pres[\"prec\"].str.split(\" \").str[2].fillna(\"\")"
   ]
  },
  {
   "cell_type": "code",
   "execution_count": 96,
   "id": "1ec0b219-0f57-4a92-8b5a-7da268346b7e",
   "metadata": {},
   "outputs": [
    {
     "data": {
      "text/plain": [
       "array(['', 'A', 'B'], dtype=object)"
      ]
     },
     "execution_count": 96,
     "metadata": {},
     "output_type": "execute_result"
    }
   ],
   "source": [
    "mayor_pres[\"prec\"].str.split(\" \").str[2].fillna(\"\").unique()"
   ]
  },
  {
   "cell_type": "code",
   "execution_count": 66,
   "id": "8a2056a0-1f41-427a-a744-6f2217d5f3bf",
   "metadata": {},
   "outputs": [
    {
     "data": {
      "text/plain": [
       "0       Total Votes\n",
       "1            01 001\n",
       "2           01 002A\n",
       "3           01 002B\n",
       "4            01 003\n",
       "           ...     \n",
       "326         03 070A\n",
       "327         03 070B\n",
       "328          03 071\n",
       "329          03 072\n",
       "330    Early Voting\n",
       "Name: prec, Length: 331, dtype: object"
      ]
     },
     "execution_count": 66,
     "metadata": {},
     "output_type": "execute_result"
    }
   ],
   "source": [
    "mayor_pres[\"prec\"].str.split(\" \").str[0]+\" \"+mayor_pres[\"prec\"].str.split(\" \").str[1]+mayor_pres[\"prec\"].str.split(\" \").str[2].fillna(\"\")"
   ]
  },
  {
   "cell_type": "code",
   "execution_count": 78,
   "id": "2763fa3a-3b6f-4fda-924a-eaa0bafff149",
   "metadata": {},
   "outputs": [
    {
     "data": {
      "text/plain": [
       "0       Votes\n",
       "1           1\n",
       "2           2\n",
       "3           2\n",
       "4           3\n",
       "        ...  \n",
       "326        70\n",
       "327        70\n",
       "328        71\n",
       "329        72\n",
       "330    Voting\n",
       "Name: prec, Length: 331, dtype: object"
      ]
     },
     "execution_count": 78,
     "metadata": {},
     "output_type": "execute_result"
    }
   ],
   "source": [
    "mayor_pres[\"prec\"].str.split(\" \").str[1].str.lstrip(\"0\")"
   ]
  },
  {
   "cell_type": "code",
   "execution_count": 82,
   "id": "7f1724df-9b73-4df9-bec9-25e86ce032cd",
   "metadata": {},
   "outputs": [],
   "source": [
    "mp1 = mayor_pres[\"prec\"].str.split(\" \").str[0]+\" \"+(mayor_pres[\"prec\"].str.split(\" \").str[1].str.lstrip(\"0\")+mayor_pres[\"prec\"].str.split(\" \").str[2].fillna(\"\")).str.zfill(3)\n",
    "vtd1 = shp[\"NAME\"].str.split(\"-\").str[1].str.zfill(2)+ \" \"+shp[\"NAME\"].str.split(\"-\").str[0].str.zfill(3)"
   ]
  },
  {
   "cell_type": "code",
   "execution_count": 98,
   "id": "82ed2f68-2f17-4c60-856f-c40276a93a3e",
   "metadata": {},
   "outputs": [
    {
     "data": {
      "text/plain": [
       "array(['01', '06', '07', '08', '02', '09', '05', '03', '04', '2A', '2B',\n",
       "       '3A', '3B', '4A', '5A', '5B', '1A', '4B', '10', '11', '12', '13',\n",
       "       '14', '15', '16', '8A', nan, '2C', '2D', '2F', '5E', '1B', '20',\n",
       "       '23', '19', '3C', '3D', '8B', '8C', '8D', '8E', '8F', '11A', '12A',\n",
       "       '12B', '12C', '16A', '17A', '17B', '18B', '18C', '18D', '18E',\n",
       "       '18F', '21A', '21B', '21C', '21D', '22A', '22B', '22C', '11B',\n",
       "       '11C', '35', '44', '57', '62', '63', '85', '32', '99', '51', '67',\n",
       "       '17', '45', '36', '83', '58', '25', '31', '18', '21', '26', '27',\n",
       "       '88', '84', '87', '48', '29', '61', '22', '77', '24', '28', '30',\n",
       "       '89', '33', '34', '74', '37', '70', '38', '39', '40', '78', '41',\n",
       "       '56', '69', '42', '59', '43', '65', '46', '47', '49', '73', '50',\n",
       "       '52', '53', '54', '55', '60', '64', '66', '68', '71', '72', '75',\n",
       "       '76', '79', '80', '81', '82', '95', '86', '90', '91', '92', '93',\n",
       "       '94', '97', '100', '101', '103', '104', '105', '107', '102', '0K',\n",
       "       '0H', '0W', '0G', '0L', 'GI', 'KA', 'KB', '9A', '7A', '10A', '10B',\n",
       "       '25A', '27B', '28A', '37A', '28C', '30A', '31A', '31B', '31D',\n",
       "       '35A', '36B', '40A', '41B', '41C', '42C', '43A', '43B', '34A',\n",
       "       '39B', '41A', '41D', '38A', '40C', '43C', '43E', '43F', '43J',\n",
       "       '43M', '43N', '43G', '43I', '43K', '43L', '43H', '44A', '44B',\n",
       "       '44D', '44E', '44F', '44G', '44J', '44L', '44N', '44O', '44P',\n",
       "       '44Q', '45A', '13A', '18A', '24A', '44I', '44M', '13B', '14C',\n",
       "       '14D', '14E', '14G', '14A', '14B', '14F', '15A', '15B', '19A',\n",
       "       '19B', '19C', '6A', '7B', '26A', '4C', '6B', '4D', '4E', '3E',\n",
       "       '3F', '3G', '3J', '3K', '3L', '3M', '3N', '5C', '1C', '1D', '2E',\n",
       "       '98'], dtype=object)"
      ]
     },
     "execution_count": 98,
     "metadata": {},
     "output_type": "execute_result"
    }
   ],
   "source": [
    "shp[\"NAME\"].str.split(\"-\").str[1].str.zfill(2).unique()"
   ]
  },
  {
   "cell_type": "code",
   "execution_count": 114,
   "id": "e50640b3-70ae-4e28-bc2e-389ed6148a4a",
   "metadata": {},
   "outputs": [
    {
     "data": {
      "text/html": [
       "<div>\n",
       "<style scoped>\n",
       "    .dataframe tbody tr th:only-of-type {\n",
       "        vertical-align: middle;\n",
       "    }\n",
       "\n",
       "    .dataframe tbody tr th {\n",
       "        vertical-align: top;\n",
       "    }\n",
       "\n",
       "    .dataframe thead th {\n",
       "        text-align: right;\n",
       "    }\n",
       "</style>\n",
       "<table border=\"1\" class=\"dataframe\">\n",
       "  <thead>\n",
       "    <tr style=\"text-align: right;\">\n",
       "      <th></th>\n",
       "      <th>STATEFP</th>\n",
       "      <th>COUNTYFP</th>\n",
       "      <th>VTDST</th>\n",
       "      <th>NAME</th>\n",
       "      <th>G20PRERTRU</th>\n",
       "      <th>G20PREDBID</th>\n",
       "      <th>G20PRELJOR</th>\n",
       "      <th>G20PREOWES</th>\n",
       "      <th>G20PREOOTH</th>\n",
       "      <th>G20USSRCAS</th>\n",
       "      <th>...</th>\n",
       "      <th>G20USSDWEN</th>\n",
       "      <th>G20USSLSIG</th>\n",
       "      <th>G20USSIMEN</th>\n",
       "      <th>G20USSOPRI</th>\n",
       "      <th>G20USSOJOH</th>\n",
       "      <th>G20USSNBIL</th>\n",
       "      <th>G20USSNBOU</th>\n",
       "      <th>G20USSNMON</th>\n",
       "      <th>G20USSNDAR</th>\n",
       "      <th>geometry</th>\n",
       "    </tr>\n",
       "  </thead>\n",
       "  <tbody>\n",
       "  </tbody>\n",
       "</table>\n",
       "<p>0 rows × 25 columns</p>\n",
       "</div>"
      ],
      "text/plain": [
       "Empty GeoDataFrame\n",
       "Columns: [STATEFP, COUNTYFP, VTDST, NAME, G20PRERTRU, G20PREDBID, G20PRELJOR, G20PREOWES, G20PREOOTH, G20USSRCAS, G20USSRMUR, G20USSDPER, G20USSDEDW, G20USSDPIE, G20USSDKNI, G20USSDWEN, G20USSLSIG, G20USSIMEN, G20USSOPRI, G20USSOJOH, G20USSNBIL, G20USSNBOU, G20USSNMON, G20USSNDAR, geometry]\n",
       "Index: []\n",
       "\n",
       "[0 rows x 25 columns]"
      ]
     },
     "execution_count": 114,
     "metadata": {},
     "output_type": "execute_result"
    }
   ],
   "source": [
    "shp[(shp[\"NAME\"].str.contains(\"-02\"))]"
   ]
  },
  {
   "cell_type": "code",
   "execution_count": 115,
   "id": "f832cb93-0a66-4d6f-ba04-808d5f342e0e",
   "metadata": {},
   "outputs": [
    {
     "data": {
      "text/plain": [
       "array(['1', '6', '7', '8', '2', '9', '5', '3', '4', '2A', '2B', '3A',\n",
       "       '3B', '4A', '5A', '5B', '1A', '4B', '10', '11', '12', '13', '14',\n",
       "       '15', '16', '8A', nan, '2C', '2D', '2F', '5E', '1B', '20', '23',\n",
       "       '19', '3C', '3D', '8B', '8C', '8D', '8E', '8F', '11A', '12A',\n",
       "       '12B', '12C', '16A', '17A', '17B', '18B', '18C', '18D', '18E',\n",
       "       '18F', '21A', '21B', '21C', '21D', '22A', '22B', '22C', '11B',\n",
       "       '11C', '35', '44', '57', '62', '63', '85', '32', '99', '51', '67',\n",
       "       '17', '45', '36', '83', '58', '25', '31', '18', '21', '26', '27',\n",
       "       '88', '84', '87', '48', '29', '61', '22', '77', '24', '28', '30',\n",
       "       '89', '33', '34', '74', '37', '70', '38', '39', '40', '78', '41',\n",
       "       '56', '69', '42', '59', '43', '65', '46', '47', '49', '73', '50',\n",
       "       '52', '53', '54', '55', '60', '64', '66', '68', '71', '72', '75',\n",
       "       '76', '79', '80', '81', '82', '95', '86', '90', '91', '92', '93',\n",
       "       '94', '97', '100', '101', '103', '104', '105', '107', '102', 'K',\n",
       "       'H', 'W', 'G', 'L', 'GI', 'KA', 'KB', '9A', '7A', '10A', '10B',\n",
       "       '25A', '27B', '28A', '37A', '28C', '30A', '31A', '31B', '31D',\n",
       "       '35A', '36B', '40A', '41B', '41C', '42C', '43A', '43B', '34A',\n",
       "       '39B', '41A', '41D', '38A', '40C', '43C', '43E', '43F', '43J',\n",
       "       '43M', '43N', '43G', '43I', '43K', '43L', '43H', '44A', '44B',\n",
       "       '44D', '44E', '44F', '44G', '44J', '44L', '44N', '44O', '44P',\n",
       "       '44Q', '45A', '13A', '18A', '24A', '44I', '44M', '13B', '14C',\n",
       "       '14D', '14E', '14G', '14A', '14B', '14F', '15A', '15B', '19A',\n",
       "       '19B', '19C', '6A', '7B', '26A', '4C', '6B', '4D', '4E', '3E',\n",
       "       '3F', '3G', '3J', '3K', '3L', '3M', '3N', '5C', '1C', '1D', '2E',\n",
       "       '98'], dtype=object)"
      ]
     },
     "execution_count": 115,
     "metadata": {},
     "output_type": "execute_result"
    }
   ],
   "source": [
    "shp[\"NAME\"].str.split(\"-\").str[1].unique()"
   ]
  },
  {
   "cell_type": "code",
   "execution_count": 100,
   "id": "9af7bde8-9188-4d95-849f-57e77de8eada",
   "metadata": {},
   "outputs": [
    {
     "data": {
      "text/plain": [
       "array(['Total', '01', '02', '03', 'Early'], dtype=object)"
      ]
     },
     "execution_count": 100,
     "metadata": {},
     "output_type": "execute_result"
    }
   ],
   "source": [
    "mayor_pres[\"prec\"].str.split(\" \").str[0].unique()"
   ]
  },
  {
   "cell_type": "code",
   "execution_count": 116,
   "id": "9d84253f-eef9-4367-83e5-b909222cde5d",
   "metadata": {},
   "outputs": [
    {
     "data": {
      "text/html": [
       "<div>\n",
       "<style scoped>\n",
       "    .dataframe tbody tr th:only-of-type {\n",
       "        vertical-align: middle;\n",
       "    }\n",
       "\n",
       "    .dataframe tbody tr th {\n",
       "        vertical-align: top;\n",
       "    }\n",
       "\n",
       "    .dataframe thead th {\n",
       "        text-align: right;\n",
       "    }\n",
       "</style>\n",
       "<table border=\"1\" class=\"dataframe\">\n",
       "  <thead>\n",
       "    <tr style=\"text-align: right;\">\n",
       "      <th></th>\n",
       "      <th>prec</th>\n",
       "      <th>Sharon Weston Broome (DEM)</th>\n",
       "      <th>Steve Carter (REP)</th>\n",
       "    </tr>\n",
       "  </thead>\n",
       "  <tbody>\n",
       "    <tr>\n",
       "      <th>0</th>\n",
       "      <td>Total Votes</td>\n",
       "      <td>65495</td>\n",
       "      <td>50353</td>\n",
       "    </tr>\n",
       "    <tr>\n",
       "      <th>1</th>\n",
       "      <td>01 001</td>\n",
       "      <td>195</td>\n",
       "      <td>80</td>\n",
       "    </tr>\n",
       "    <tr>\n",
       "      <th>2</th>\n",
       "      <td>01 002 A</td>\n",
       "      <td>110</td>\n",
       "      <td>1</td>\n",
       "    </tr>\n",
       "    <tr>\n",
       "      <th>3</th>\n",
       "      <td>01 002 B</td>\n",
       "      <td>105</td>\n",
       "      <td>2</td>\n",
       "    </tr>\n",
       "    <tr>\n",
       "      <th>4</th>\n",
       "      <td>01 003</td>\n",
       "      <td>133</td>\n",
       "      <td>9</td>\n",
       "    </tr>\n",
       "    <tr>\n",
       "      <th>...</th>\n",
       "      <td>...</td>\n",
       "      <td>...</td>\n",
       "      <td>...</td>\n",
       "    </tr>\n",
       "    <tr>\n",
       "      <th>326</th>\n",
       "      <td>03 070 A</td>\n",
       "      <td>64</td>\n",
       "      <td>300</td>\n",
       "    </tr>\n",
       "    <tr>\n",
       "      <th>327</th>\n",
       "      <td>03 070 B</td>\n",
       "      <td>51</td>\n",
       "      <td>272</td>\n",
       "    </tr>\n",
       "    <tr>\n",
       "      <th>328</th>\n",
       "      <td>03 071</td>\n",
       "      <td>46</td>\n",
       "      <td>227</td>\n",
       "    </tr>\n",
       "    <tr>\n",
       "      <th>329</th>\n",
       "      <td>03 072</td>\n",
       "      <td>155</td>\n",
       "      <td>103</td>\n",
       "    </tr>\n",
       "    <tr>\n",
       "      <th>330</th>\n",
       "      <td>Early Voting</td>\n",
       "      <td>22909</td>\n",
       "      <td>14588</td>\n",
       "    </tr>\n",
       "  </tbody>\n",
       "</table>\n",
       "<p>331 rows × 3 columns</p>\n",
       "</div>"
      ],
      "text/plain": [
       "              prec  Sharon Weston Broome (DEM)  Steve Carter (REP)\n",
       "0      Total Votes                       65495               50353\n",
       "1           01 001                         195                  80\n",
       "2         01 002 A                         110                   1\n",
       "3         01 002 B                         105                   2\n",
       "4           01 003                         133                   9\n",
       "..             ...                         ...                 ...\n",
       "326       03 070 A                          64                 300\n",
       "327       03 070 B                          51                 272\n",
       "328         03 071                          46                 227\n",
       "329         03 072                         155                 103\n",
       "330  Early Voting                        22909               14588\n",
       "\n",
       "[331 rows x 3 columns]"
      ]
     },
     "execution_count": 116,
     "metadata": {},
     "output_type": "execute_result"
    }
   ],
   "source": [
    "mayor_pres"
   ]
  },
  {
   "cell_type": "code",
   "execution_count": 117,
   "id": "5793c5f7-ebbc-4eac-8731-0bfc655a7612",
   "metadata": {},
   "outputs": [
    {
     "data": {
      "text/plain": [
       "array(['Votes', '001', '002', '003', '004', '005', '006', '007', '008',\n",
       "       '009', '010', '011', '012', '013', '014', '015', '016', '017',\n",
       "       '018', '019', '020', '021', '022', '023', '024', '025', '026',\n",
       "       '027', '028', '029', '030', '031', '032', '033', '034', '035',\n",
       "       '036', '037', '038', '039', '040', '041', '042', '043', '044',\n",
       "       '045', '046', '047', '048', '049', '050', '051', '052', '053',\n",
       "       '054', '055', '056', '057', '058', '059', '060', '061', '062',\n",
       "       '063', '064', '065', '066', '067', '068', '069', '070', '071',\n",
       "       '072', '073', '074', '075', '076', '077', '078', '079', '080',\n",
       "       '081', '082', '083', '084', '085', '086', '087', '088', '089',\n",
       "       '090', '091', '092', '093', '094', '095', '097', '098', '099',\n",
       "       '100', '101', '102', '103', '104', '105', '107', 'Voting'],\n",
       "      dtype=object)"
      ]
     },
     "execution_count": 117,
     "metadata": {},
     "output_type": "execute_result"
    }
   ],
   "source": [
    "mayor_pres[\"prec\"].str.split(\" \").str[1].unique()"
   ]
  },
  {
   "cell_type": "markdown",
   "id": "00b092fc-1d22-4c32-a9ae-fde7d4068f8b",
   "metadata": {},
   "source": [
    "- Are these precincts different from the statewide precincts?"
   ]
  },
  {
   "cell_type": "code",
   "execution_count": 112,
   "id": "6b295de5-0aed-43b3-8fff-d49930ce35ac",
   "metadata": {},
   "outputs": [
    {
     "data": {
      "text/plain": [
       "<AxesSubplot:>"
      ]
     },
     "execution_count": 112,
     "metadata": {},
     "output_type": "execute_result"
    },
    {
     "data": {
      "image/png": "[encoded data removed]",
      "text/plain": [
       "<Figure size 432x288 with 1 Axes>"
      ]
     },
     "metadata": {
      "needs_background": "light"
     },
     "output_type": "display_data"
    }
   ],
   "source": [
    "shp[(shp[\"NAME\"].str.contains(\"-1\"))|(shp[\"NAME\"].str.contains(\"-2\"))|(shp[\"NAME\"].str.contains(\"-3\"))].plot()"
   ]
  },
  {
   "cell_type": "code",
   "execution_count": 99,
   "id": "e53bc91f-c0ef-4aaf-9a78-c9d58e594385",
   "metadata": {},
   "outputs": [
    {
     "data": {
      "text/plain": [
       "<AxesSubplot:>"
      ]
     },
     "execution_count": 99,
     "metadata": {},
     "output_type": "execute_result"
    },
    {
     "data": {
      "image/png": "[encoded data removed]",
      "text/plain": [
       "<Figure size 432x288 with 1 Axes>"
      ]
     },
     "metadata": {
      "needs_background": "light"
     },
     "output_type": "display_data"
    }
   ],
   "source": [
    "shp.plot()"
   ]
  },
  {
   "cell_type": "code",
   "execution_count": 94,
   "id": "2ea66f88-410c-4653-bead-3ebeecd023bd",
   "metadata": {},
   "outputs": [
    {
     "data": {
      "text/plain": [
       "array(['Total Votes', '01 001', '01 02A', '01 02B', '01 003', '01 004',\n",
       "       '01 05A', '01 05B', '01 006', '01 007', '01 008', '01 009',\n",
       "       '01 10A', '01 10B', '01 011', '01 12A', '01 12B', '01 013',\n",
       "       '01 14A', '01 14B', '01 15A', '01 15B', '01 016', '01 017',\n",
       "       '01 018', '01 019', '01 20A', '01 20B', '01 021', '01 022',\n",
       "       '01 023', '01 024', '01 025', '01 026', '01 027', '01 028',\n",
       "       '01 029', '01 030', '01 31A', '01 31B', '01 32A', '01 32B',\n",
       "       '01 033', '01 34A', '01 34B', '01 035', '01 036', '01 37A',\n",
       "       '01 37B', '01 38A', '01 38B', '01 039', '01 040', '01 41A',\n",
       "       '01 41B', '01 42A', '01 42B', '01 043', '01 044', '01 045',\n",
       "       '01 46A', '01 46B', '01 47A', '01 47B', '01 48A', '01 48B',\n",
       "       '01 49A', '01 49B', '01 050', '01 051', '01 52A', '01 52B',\n",
       "       '01 53A', '01 53B', '01 54A', '01 54B', '01 55A', '01 55B',\n",
       "       '01 56A', '01 56B', '01 057', '01 58A', '01 58B', '01 059',\n",
       "       '01 60A', '01 60B', '01 061', '01 062', '01 63A', '01 63B',\n",
       "       '01 064', '01 065', '01 66A', '01 66B', '01 067', '01 068',\n",
       "       '01 69A', '01 69B', '01 70A', '01 70B', '01 71A', '01 71B',\n",
       "       '01 72A', '01 72B', '01 73A', '01 73B', '01 74A', '01 74B',\n",
       "       '01 75A', '01 75B', '01 076', '01 77A', '01 77B', '01 78A',\n",
       "       '01 78B', '01 079', '01 80A', '01 80B', '01 81A', '01 81B',\n",
       "       '01 82A', '01 82B', '01 83A', '01 83B', '01 084', '01 85A',\n",
       "       '01 85B', '01 86A', '01 86B', '01 87A', '01 87B', '01 088',\n",
       "       '01 089', '01 90A', '01 90B', '01 91A', '01 91B', '01 92A',\n",
       "       '01 92B', '01 093', '01 094', '01 95A', '01 95B', '01 097',\n",
       "       '01 98A', '01 98B', '01 99A', '01 99B', '01 100A', '01 100B',\n",
       "       '01 101A', '01 101B', '01 102', '01 103A', '01 103B', '01 104A',\n",
       "       '01 104B', '01 105', '01 107', '02 01A', '02 01B', '02 02A',\n",
       "       '02 02B', '02 003', '02 004', '02 005', '02 06A', '02 06B',\n",
       "       '02 07A', '02 07B', '02 008', '02 09A', '02 09B', '02 10A',\n",
       "       '02 10B', '02 011', '02 12A', '02 12B', '02 13A', '02 13B',\n",
       "       '02 14A', '02 14B', '02 015', '02 16A', '02 16B', '02 17A',\n",
       "       '02 17B', '02 18A', '02 18B', '02 019', '02 020', '02 021',\n",
       "       '02 22A', '02 22B', '02 23A', '02 23B', '02 024', '02 25A',\n",
       "       '02 25B', '02 026', '02 27A', '02 27B', '02 028', '02 029',\n",
       "       '02 30A', '02 30B', '02 031', '02 032', '02 033', '02 34A',\n",
       "       '02 34B', '02 035', '02 36A', '02 36B', '02 037', '03 01A',\n",
       "       '03 01B', '03 02A', '03 02B', '03 03A', '03 03B', '03 04A',\n",
       "       '03 04B', '03 005', '03 06A', '03 06B', '03 07A', '03 07B',\n",
       "       '03 08A', '03 08B', '03 09A', '03 09B', '03 010', '03 011',\n",
       "       '03 12A', '03 12B', '03 013', '03 14A', '03 14B', '03 15A',\n",
       "       '03 15B', '03 016', '03 17A', '03 17B', '03 18A', '03 18B',\n",
       "       '03 19A', '03 19B', '03 20A', '03 20B', '03 21A', '03 21B',\n",
       "       '03 022', '03 23A', '03 23B', '03 24A', '03 24B', '03 25A',\n",
       "       '03 25B', '03 26A', '03 26B', '03 27A', '03 27B', '03 28A',\n",
       "       '03 28B', '03 29A', '03 29B', '03 30A', '03 30B', '03 31A',\n",
       "       '03 31B', '03 032', '03 33A', '03 33B', '03 34A', '03 34B',\n",
       "       '03 35A', '03 35B', '03 036', '03 037', '03 38A', '03 38B',\n",
       "       '03 039', '03 40A', '03 40B', '03 41A', '03 41B', '03 43A',\n",
       "       '03 43B', '03 44A', '03 44B', '03 45A', '03 45B', '03 046',\n",
       "       '03 47A', '03 47B', '03 48A', '03 48B', '03 49A', '03 49B',\n",
       "       '03 50A', '03 50B', '03 051', '03 52A', '03 52B', '03 53A',\n",
       "       '03 53B', '03 054', '03 55A', '03 55B', '03 056', '03 057',\n",
       "       '03 058', '03 059', '03 60A', '03 60B', '03 061', '03 062',\n",
       "       '03 063', '03 064', '03 065', '03 066', '03 067', '03 068',\n",
       "       '03 69A', '03 69B', '03 70A', '03 70B', '03 071', '03 072',\n",
       "       'Early Voting'], dtype=object)"
      ]
     },
     "execution_count": 94,
     "metadata": {},
     "output_type": "execute_result"
    }
   ],
   "source": [
    "mp1.unique()"
   ]
  },
  {
   "cell_type": "code",
   "execution_count": 95,
   "id": "6cb4c590-e92d-406e-b33c-8f9e51a664b8",
   "metadata": {},
   "outputs": [
    {
     "data": {
      "text/plain": [
       "array(['01 001', '06 001', '07 001', '08 001', '01 002', '07 003',\n",
       "       '02 004', '09 001', '02 002', '01 003', '02 003', '05 003',\n",
       "       '03 002', '04 002', '04 003', '06 003', '01 004', '05 002',\n",
       "       '04 004', '05 004', '02 006', '08 006', '03 007', '04 007',\n",
       "       '2A 001', '2B 001', '3A 001', '3B 001', '4A 001', '5A 001',\n",
       "       '5B 001', '3A 003', '3B 003', '1A 005', '06 004', '04 006',\n",
       "       '06 006', '02 007', '4B 001', '03 005', '04 005', '05 005',\n",
       "       '01 006', '07 006', '09 006', '2A 005', '10 006', '11 006',\n",
       "       '12 006', '13 006', '14 006', '15 006', '16 006', '3A 006',\n",
       "       '3B 006', '02 001', '03 001', '04 001', '05 001', '06 002',\n",
       "       '03 004', '02 005', '10 005', '13 005', '8A 005', '12 005',\n",
       "       '09 005', '07 005', nan, '01 005', '01 007', '01 008', '03 006',\n",
       "       '01 009', '03 008', '03 003', '07 002', '08 002', '03 009',\n",
       "       '04 009', '02 010', '04 010', '01 011', '2A 002', '2B 002',\n",
       "       '2C 002', '2D 002', '2F 002', '3A 002', '4A 002', '5E 002',\n",
       "       '1B 003', '2A 004', '2A 006', '3B 007', '2A 008', '2B 008',\n",
       "       '3A 008', '1A 009', '2A 009', '4B 009', '5B 009', '2A 010',\n",
       "       '3A 010', '2A 011', '02 009', '05 007', '15 002', '20 002',\n",
       "       '23 002', '3A 004', '07 004', '09 004', '5A 002', '09 002',\n",
       "       '10 002', '1A 004', '11 002', '13 002', '14 002', '16 002',\n",
       "       '19 002', '10 004', '3B 004', '3C 004', '3D 004', '4A 004',\n",
       "       '4B 004', '5A 004', '8A 004', '8B 004', '8C 004', '8D 004',\n",
       "       '8E 004', '8F 004', '11A 002', '12A 002', '12B 002', '12C 002',\n",
       "       '16A 002', '17A 002', '17B 002', '18B 002', '18C 002', '18D 002',\n",
       "       '18E 002', '18F 002', '21A 002', '21B 002', '21C 002', '21D 002',\n",
       "       '22A 002', '22B 002', '22C 002', '11A 004', '11B 004', '11C 004',\n",
       "       '05 006', '06 005', '2B 005', '35 001', '44 001', '57 001',\n",
       "       '62 001', '63 001', '85 001', '32 002', '99 001', '51 001',\n",
       "       '67 001', '17 001', '45 001', '36 001', '83 001', '58 001',\n",
       "       '25 002', '31 002', '18 002', '21 002', '26 002', '16 001',\n",
       "       '18 001', '09 003', '13 001', '27 001', '88 001', '08 003',\n",
       "       '84 001', '87 001', '10 001', '32 001', '48 001', '11 001',\n",
       "       '20 001', '12 001', '23 001', '14 001', '26 001', '31 001',\n",
       "       '15 001', '29 001', '61 001', '19 001', '22 001', '21 001',\n",
       "       '77 001', '24 001', '25 001', '28 001', '30 001', '89 001',\n",
       "       '33 001', '34 001', '74 001', '37 001', '70 001', '38 001',\n",
       "       '39 001', '40 001', '78 001', '41 001', '56 001', '69 001',\n",
       "       '42 001', '59 001', '43 001', '65 001', '46 001', '47 001',\n",
       "       '49 001', '73 001', '50 001', '52 001', '53 001', '54 001',\n",
       "       '55 001', '60 001', '64 001', '66 001', '68 001', '71 001',\n",
       "       '27 002', '72 001', '75 001', '76 001', '79 001', '80 001',\n",
       "       '81 001', '82 001', '95 001', '86 001', '90 001', '91 001',\n",
       "       '22 002', '92 001', '12 002', '93 001', '30 002', '94 001',\n",
       "       '24 002', '97 001', '17 002', '28 002', '29 002', '33 002',\n",
       "       '34 002', '36 002', '10 003', '11 003', '12 003', '13 003',\n",
       "       '14 003', '17 003', '19 003', '20 003', '22 003', '23 003',\n",
       "       '24 003', '25 003', '26 003', '27 003', '29 003', '30 003',\n",
       "       '31 003', '35 003', '36 003', '37 003', '39 003', '40 003',\n",
       "       '41 003', '43 003', '44 003', '46 003', '49 003', '50 003',\n",
       "       '51 003', '52 003', '54 003', '55 003', '56 003', '57 003',\n",
       "       '35 002', '37 002', '15 003', '18 003', '21 003', '47 003',\n",
       "       '48 003', '28 003', '33 003', '45 003', '34 003', '38 003',\n",
       "       '53 003', '60 003', '61 003', '63 003', '67 003', '58 003',\n",
       "       '59 003', '62 003', '65 003', '64 003', '66 003', '68 003',\n",
       "       '69 003', '70 003', '100 001', '101 001', '103 001', '104 001',\n",
       "       '105 001', '107 001', '102 001', '07 007', '02 008', '04 008',\n",
       "       '03 011', '05 011', '08 011', '05 009', '01 010', '04 011',\n",
       "       '03 010', '06 010', '07 010', '06 011', '07 011', '02 011',\n",
       "       '01 012', '02 012', '04 012', '06 012', '01 013', '02 013',\n",
       "       '03 013', '04 013', '01 014', '03 014', '04 014', '05 012',\n",
       "       '03 012', '0K 001', '0H 001', '0W 001', '0G 001', '0L 001',\n",
       "       '0G 002', '0H 002', '0K 002', '0W 002', '0H 003', '0K 003',\n",
       "       '0W 003', '0G 004', '0H 004', '0K 004', '0W 004', '0G 005',\n",
       "       '0H 005', '0K 005', '0W 005', '0G 006', '0H 006', '0G 007',\n",
       "       '0H 007', '0W 007', '0G 008', '0H 008', '0K 008', '0H 009',\n",
       "       '0K 009', 'GI 001', '0G 010', '0K 010', '0G 011', '0K 011',\n",
       "       '0G 012', '0K 012', '0G 013', '0K 014', '0K 015', '0K 017',\n",
       "       '0K 018', '0K 019', '0K 020', '0K 021', '0K 022', '0K 023',\n",
       "       '0K 024', '0K 025', '0K 026', '0K 027', '0K 028', '0K 029',\n",
       "       '0K 030', '0K 031', '0K 033', '0K 034', '0K 035', 'KA 006',\n",
       "       'KA 007', 'KB 007', 'KA 013', 'KB 013', '0G 003', '0W 006',\n",
       "       '0G 009', '0K 016', 'KB 006', '05 010', '09 010', '08 010',\n",
       "       '1A 002', '1B 005', '10 010', '11 010', '12 010', '13 010',\n",
       "       '14 010', '15 010', '16 010', '05 008', '06 008', '07 008',\n",
       "       '01 021', '02 021', '01 026', '02 026', '01 027', '02 027',\n",
       "       '01 039', '02 039', '08 004', '1A 001', '9A 001', '7A 002',\n",
       "       '10A 001', '10B 001', '06 007', '08 009', '08 008', '08 005',\n",
       "       '09 008', '08 007', '07 009', '06 009', '09 009', '09 011',\n",
       "       '09 012', '05 013', '06 013', '07 013', '08 013', '05 014',\n",
       "       '06 014', '07 014', '09 014', '01 015', '02 015', '05 015',\n",
       "       '08 015', '01 016', '02 016', '03 016', '04 016', '05 016',\n",
       "       '01 017', '02 017', '07 017', '11 004', '14 004', '17 004',\n",
       "       '18 004', '21 004', '22 004', '11 005', '08 014', '05 017',\n",
       "       '07 012', '08 012', '09 013', '02 014', '04 017', '23 004',\n",
       "       '03 015', '06 015', '09 015', '06 016', '07 016', '08 016',\n",
       "       '09 016', '08 017', '03 017', '09 017', '15 004', '20 004',\n",
       "       '06 017', '15 005', '16 005', '18 005', '10 007', '11 007',\n",
       "       '12 007', '13 007', '14 007', '16 007', '17 007', '18 007',\n",
       "       '20 007', '21 007', '23 007', '24 007', '26 007', '27 007',\n",
       "       '28 007', '32 007', '33 007', '40 007', '42 007', '9A 007',\n",
       "       '12 008', '14 008', '15 008', '19 008', '20 008', '21 008',\n",
       "       '22 008', '23 008', '24 008', '25 008', '27 008', '28 008',\n",
       "       '10 009', '11 009', '12 009', '13 009', '14 009', '19 009',\n",
       "       '21 009', '17 005', '17 009', '15 007', '25 007', '26 008',\n",
       "       '19 007', '29 007', '30 007', '35 007', '37 007', '41 007',\n",
       "       '13 008', '30 008', '15 009', '16 009', '23 009', '25 009',\n",
       "       '26 009', '28 009', '29 009', '30 009', '31 009', '32 009',\n",
       "       '35 009', '36 009', '37 009', '38 009', '39 009', '11 011',\n",
       "       '12 011', '13 011', '14 011', '17 011', '10 012', '11 012',\n",
       "       '12 012', '13 012', '14 012', '16 012', '17 012', '19 012',\n",
       "       '10 013', '11 013', '12 013', '13 013', '14 013', '15 013',\n",
       "       '16 013', '10 014', '11 014', '12 014', '14 014', '15 014',\n",
       "       '16 014', '17 014', '19 014', '20 014', '21 014', '23 014',\n",
       "       '25 014', '26 014', '12 015', '13 015', '14 015', '15 015',\n",
       "       '16 015', '17 015', '18 015', '19 015', '1A 016', '10 017',\n",
       "       '11 017', '12 017', '13 017', '14 017', '15 017', '16 017',\n",
       "       '18 017', '19 017', '20 017', '17A 004', '25A 007', '27B 007',\n",
       "       '28A 007', '37A 007', '28C 009', '30A 009', '31A 009', '31B 009',\n",
       "       '31D 009', '35A 009', '36B 009', '40A 009', '41B 009', '41C 009',\n",
       "       '42C 009', '43A 009', '43B 009', '33 009', '41 009', '42 009',\n",
       "       '34A 009', '40 009', '44 009', '39B 009', '45 009', '10 011',\n",
       "       '10 015', '11 015', '41A 009', '41D 009', '17 017', '38A 009',\n",
       "       '40C 009', '43C 009', '43E 009', '43F 009', '43J 009', '43M 009',\n",
       "       '43N 009', '43G 009', '43I 009', '43K 009', '43L 009', '43H 009',\n",
       "       '44A 009', '44B 009', '44D 009', '44E 009', '44F 009', '44G 009',\n",
       "       '44J 009', '44L 009', '44N 009', '44O 009', '44P 009', '44Q 009',\n",
       "       '45A 009', '13A 014', '18A 014', '24A 014', '13A 015', '44I 009',\n",
       "       '44M 009', '12A 015', '13B 015', '14C 015', '14D 015', '14E 015',\n",
       "       '14G 015', '14A 015', '14B 015', '14F 015', '15A 015', '15B 015',\n",
       "       '17A 015', '17B 015', '18A 015', '18B 015', '18C 015', '18D 015',\n",
       "       '18E 015', '18F 015', '19A 015', '19B 015', '19C 015', '13A 017',\n",
       "       '18A 017', '6A 002', '6A 003', '7B 003', '4B 006', '1A 008',\n",
       "       '4A 006', '13 004', '12 004', '6A 001', '5B 002', '2A 003',\n",
       "       '1A 006', '5A 006', '5B 006', '15A 001', '26A 001', '28A 001',\n",
       "       '12A 004', '11A 006', '16A 006', '11B 006', '01 07A', '01 19A',\n",
       "       '02 20A', '01 20B', '01 46B', '01 36A', '02 46B', '03 46B',\n",
       "       '04 46B', '1B 001', '7B 001', '8A 001', '8E 001', '3D 001',\n",
       "       '4C 001', '3C 001', '6B 001', '4D 001', '7A 001', '8C 001',\n",
       "       '8F 001', '4E 002', '3E 004', '3F 004', '3G 004', '3J 004',\n",
       "       '3K 004', '3L 004', '3M 004', '3N 004', '2A 007', '4A 007',\n",
       "       '5A 007', '5C 007', '3C 003', '5B 004', '7B 004', '9A 004',\n",
       "       '1A 007', '10A 004', '1B 002', '1C 002', '1D 002', '2B 003',\n",
       "       '1B 007', '2B 007', '2C 007', '2D 007', '2E 007', '1A 003',\n",
       "       '1C 003', '02 49B', '01 49B', '16 003', '71 003', '32 003',\n",
       "       '98 001', '72 003'], dtype=object)"
      ]
     },
     "execution_count": 95,
     "metadata": {},
     "output_type": "execute_result"
    }
   ],
   "source": [
    "vtd1.unique()"
   ]
  },
  {
   "cell_type": "code",
   "execution_count": 83,
   "id": "90f7f1ad-14fd-48b2-9eef-51fa13de93e1",
   "metadata": {},
   "outputs": [
    {
     "data": {
      "text/plain": [
       "300"
      ]
     },
     "execution_count": 83,
     "metadata": {},
     "output_type": "execute_result"
    }
   ],
   "source": [
    "len(set(mp1)-set(vtd1))"
   ]
  },
  {
   "cell_type": "code",
   "execution_count": 85,
   "id": "a10673d9-09ec-4576-a0b1-826cb316441b",
   "metadata": {},
   "outputs": [
    {
     "data": {
      "text/plain": [
       "{'01 018',\n",
       " '01 019',\n",
       " '01 022',\n",
       " '01 023',\n",
       " '01 024',\n",
       " '01 025',\n",
       " '01 028',\n",
       " '01 029',\n",
       " '01 02A',\n",
       " '01 02B',\n",
       " '01 030',\n",
       " '01 033',\n",
       " '01 035',\n",
       " '01 036',\n",
       " '01 040',\n",
       " '01 043',\n",
       " '01 044',\n",
       " '01 045',\n",
       " '01 050',\n",
       " '01 051',\n",
       " '01 057',\n",
       " '01 059',\n",
       " '01 05A',\n",
       " '01 05B',\n",
       " '01 061',\n",
       " '01 062',\n",
       " '01 064',\n",
       " '01 065',\n",
       " '01 067',\n",
       " '01 068',\n",
       " '01 076',\n",
       " '01 079',\n",
       " '01 084',\n",
       " '01 088',\n",
       " '01 089',\n",
       " '01 093',\n",
       " '01 094',\n",
       " '01 097',\n",
       " '01 100A',\n",
       " '01 100B',\n",
       " '01 101A',\n",
       " '01 101B',\n",
       " '01 102',\n",
       " '01 103A',\n",
       " '01 103B',\n",
       " '01 104A',\n",
       " '01 104B',\n",
       " '01 105',\n",
       " '01 107',\n",
       " '01 10A',\n",
       " '01 10B',\n",
       " '01 12A',\n",
       " '01 12B',\n",
       " '01 14A',\n",
       " '01 14B',\n",
       " '01 15A',\n",
       " '01 15B',\n",
       " '01 20A',\n",
       " '01 31A',\n",
       " '01 31B',\n",
       " '01 32A',\n",
       " '01 32B',\n",
       " '01 34A',\n",
       " '01 34B',\n",
       " '01 37A',\n",
       " '01 37B',\n",
       " '01 38A',\n",
       " '01 38B',\n",
       " '01 41A',\n",
       " '01 41B',\n",
       " '01 42A',\n",
       " '01 42B',\n",
       " '01 46A',\n",
       " '01 47A',\n",
       " '01 47B',\n",
       " '01 48A',\n",
       " '01 48B',\n",
       " '01 49A',\n",
       " '01 52A',\n",
       " '01 52B',\n",
       " '01 53A',\n",
       " '01 53B',\n",
       " '01 54A',\n",
       " '01 54B',\n",
       " '01 55A',\n",
       " '01 55B',\n",
       " '01 56A',\n",
       " '01 56B',\n",
       " '01 58A',\n",
       " '01 58B',\n",
       " '01 60A',\n",
       " '01 60B',\n",
       " '01 63A',\n",
       " '01 63B',\n",
       " '01 66A',\n",
       " '01 66B',\n",
       " '01 69A',\n",
       " '01 69B',\n",
       " '01 70A',\n",
       " '01 70B',\n",
       " '01 71A',\n",
       " '01 71B',\n",
       " '01 72A',\n",
       " '01 72B',\n",
       " '01 73A',\n",
       " '01 73B',\n",
       " '01 74A',\n",
       " '01 74B',\n",
       " '01 75A',\n",
       " '01 75B',\n",
       " '01 77A',\n",
       " '01 77B',\n",
       " '01 78A',\n",
       " '01 78B',\n",
       " '01 80A',\n",
       " '01 80B',\n",
       " '01 81A',\n",
       " '01 81B',\n",
       " '01 82A',\n",
       " '01 82B',\n",
       " '01 83A',\n",
       " '01 83B',\n",
       " '01 85A',\n",
       " '01 85B',\n",
       " '01 86A',\n",
       " '01 86B',\n",
       " '01 87A',\n",
       " '01 87B',\n",
       " '01 90A',\n",
       " '01 90B',\n",
       " '01 91A',\n",
       " '01 91B',\n",
       " '01 92A',\n",
       " '01 92B',\n",
       " '01 95A',\n",
       " '01 95B',\n",
       " '01 98A',\n",
       " '01 98B',\n",
       " '01 99A',\n",
       " '01 99B',\n",
       " '02 019',\n",
       " '02 01A',\n",
       " '02 01B',\n",
       " '02 020',\n",
       " '02 024',\n",
       " '02 028',\n",
       " '02 029',\n",
       " '02 02A',\n",
       " '02 02B',\n",
       " '02 031',\n",
       " '02 032',\n",
       " '02 033',\n",
       " '02 035',\n",
       " '02 037',\n",
       " '02 06A',\n",
       " '02 06B',\n",
       " '02 07A',\n",
       " '02 07B',\n",
       " '02 09A',\n",
       " '02 09B',\n",
       " '02 10A',\n",
       " '02 10B',\n",
       " '02 12A',\n",
       " '02 12B',\n",
       " '02 13A',\n",
       " '02 13B',\n",
       " '02 14A',\n",
       " '02 14B',\n",
       " '02 16A',\n",
       " '02 16B',\n",
       " '02 17A',\n",
       " '02 17B',\n",
       " '02 18A',\n",
       " '02 18B',\n",
       " '02 22A',\n",
       " '02 22B',\n",
       " '02 23A',\n",
       " '02 23B',\n",
       " '02 25A',\n",
       " '02 25B',\n",
       " '02 27A',\n",
       " '02 27B',\n",
       " '02 30A',\n",
       " '02 30B',\n",
       " '02 34A',\n",
       " '02 34B',\n",
       " '02 36A',\n",
       " '02 36B',\n",
       " '03 01A',\n",
       " '03 01B',\n",
       " '03 022',\n",
       " '03 02A',\n",
       " '03 02B',\n",
       " '03 032',\n",
       " '03 036',\n",
       " '03 037',\n",
       " '03 039',\n",
       " '03 03A',\n",
       " '03 03B',\n",
       " '03 046',\n",
       " '03 04A',\n",
       " '03 04B',\n",
       " '03 051',\n",
       " '03 054',\n",
       " '03 056',\n",
       " '03 057',\n",
       " '03 058',\n",
       " '03 059',\n",
       " '03 061',\n",
       " '03 062',\n",
       " '03 063',\n",
       " '03 064',\n",
       " '03 065',\n",
       " '03 066',\n",
       " '03 067',\n",
       " '03 068',\n",
       " '03 06A',\n",
       " '03 06B',\n",
       " '03 071',\n",
       " '03 072',\n",
       " '03 07A',\n",
       " '03 07B',\n",
       " '03 08A',\n",
       " '03 08B',\n",
       " '03 09A',\n",
       " '03 09B',\n",
       " '03 12A',\n",
       " '03 12B',\n",
       " '03 14A',\n",
       " '03 14B',\n",
       " '03 15A',\n",
       " '03 15B',\n",
       " '03 17A',\n",
       " '03 17B',\n",
       " '03 18A',\n",
       " '03 18B',\n",
       " '03 19A',\n",
       " '03 19B',\n",
       " '03 20A',\n",
       " '03 20B',\n",
       " '03 21A',\n",
       " '03 21B',\n",
       " '03 23A',\n",
       " '03 23B',\n",
       " '03 24A',\n",
       " '03 24B',\n",
       " '03 25A',\n",
       " '03 25B',\n",
       " '03 26A',\n",
       " '03 26B',\n",
       " '03 27A',\n",
       " '03 27B',\n",
       " '03 28A',\n",
       " '03 28B',\n",
       " '03 29A',\n",
       " '03 29B',\n",
       " '03 30A',\n",
       " '03 30B',\n",
       " '03 31A',\n",
       " '03 31B',\n",
       " '03 33A',\n",
       " '03 33B',\n",
       " '03 34A',\n",
       " '03 34B',\n",
       " '03 35A',\n",
       " '03 35B',\n",
       " '03 38A',\n",
       " '03 38B',\n",
       " '03 40A',\n",
       " '03 40B',\n",
       " '03 41A',\n",
       " '03 41B',\n",
       " '03 43A',\n",
       " '03 43B',\n",
       " '03 44A',\n",
       " '03 44B',\n",
       " '03 45A',\n",
       " '03 45B',\n",
       " '03 47A',\n",
       " '03 47B',\n",
       " '03 48A',\n",
       " '03 48B',\n",
       " '03 49A',\n",
       " '03 49B',\n",
       " '03 50A',\n",
       " '03 50B',\n",
       " '03 52A',\n",
       " '03 52B',\n",
       " '03 53A',\n",
       " '03 53B',\n",
       " '03 55A',\n",
       " '03 55B',\n",
       " '03 60A',\n",
       " '03 60B',\n",
       " '03 69A',\n",
       " '03 69B',\n",
       " '03 70A',\n",
       " '03 70B',\n",
       " 'Early Voting',\n",
       " 'Total Votes'}"
      ]
     },
     "execution_count": 85,
     "metadata": {},
     "output_type": "execute_result"
    }
   ],
   "source": [
    "set(mp1)-set(vtd1)"
   ]
  },
  {
   "cell_type": "code",
   "execution_count": 71,
   "id": "daecd4ff-620e-401a-97f4-a7a9b487404f",
   "metadata": {},
   "outputs": [
    {
     "data": {
      "text/plain": [
       "331"
      ]
     },
     "execution_count": 71,
     "metadata": {},
     "output_type": "execute_result"
    }
   ],
   "source": [
    "mp1.nunique()"
   ]
  },
  {
   "cell_type": "code",
   "execution_count": 6,
   "id": "9f86233b-4c9f-473f-a50c-a3bd66bb56fd",
   "metadata": {},
   "outputs": [],
   "source": [
    "shp = gp.read_file(\"./la_vest_20/la_vest_20.shp\")"
   ]
  },
  {
   "cell_type": "code",
   "execution_count": 7,
   "id": "f586b9d3-408e-4bd1-8a8c-9b8d8247fef5",
   "metadata": {},
   "outputs": [
    {
     "data": {
      "text/plain": [
       "25      001-2B\n",
       "27      001-3B\n",
       "30      001-5B\n",
       "32      003-3B\n",
       "38      001-4B\n",
       "         ...  \n",
       "3724    003-1B\n",
       "3740    049B-2\n",
       "3741    049B-1\n",
       "3742    00002B\n",
       "3745    00011B\n",
       "Name: VTDST, Length: 143, dtype: object"
      ]
     },
     "execution_count": 7,
     "metadata": {},
     "output_type": "execute_result"
    }
   ],
   "source": [
    "shp[\"VTDST\"][shp[\"VTDST\"].str.contains(\"B\")]"
   ]
  },
  {
   "cell_type": "code",
   "execution_count": 10,
   "id": "edd31cde-e430-49dd-88f4-5d41b8be20fb",
   "metadata": {},
   "outputs": [
    {
     "name": "stdout",
     "output_type": "stream",
     "text": [
      "1548\n",
      "1548\n"
     ]
    }
   ],
   "source": [
    "print(shp[\"VTDST\"].nunique())\n",
    "print(shp[\"NAME\"].nunique())"
   ]
  },
  {
   "cell_type": "code",
   "execution_count": 12,
   "id": "c724539f-1361-4c02-b5d5-2b4da61e7651",
   "metadata": {},
   "outputs": [
    {
     "data": {
      "text/plain": [
       "array(['1-1', '1-6', '1-7', ..., '3-32', '1-98', '3-72'], dtype=object)"
      ]
     },
     "execution_count": 12,
     "metadata": {},
     "output_type": "execute_result"
    }
   ],
   "source": [
    "shp[\"NAME\"].unique()"
   ]
  },
  {
   "cell_type": "code",
   "execution_count": 14,
   "id": "c19acdbd-0b7c-444e-a535-96935fc98b60",
   "metadata": {},
   "outputs": [
    {
     "data": {
      "text/plain": [
       "0        [1, 1]\n",
       "1        [1, 6]\n",
       "2        [1, 7]\n",
       "3        [1, 8]\n",
       "4        [2, 1]\n",
       "         ...   \n",
       "3748    [3, 16]\n",
       "3749    [3, 71]\n",
       "3750    [3, 32]\n",
       "3751    [1, 98]\n",
       "3752    [3, 72]\n",
       "Name: NAME, Length: 3753, dtype: object"
      ]
     },
     "execution_count": 14,
     "metadata": {},
     "output_type": "execute_result"
    }
   ],
   "source": [
    "shp[\"NAME\"].str.split(\"-\")"
   ]
  },
  {
   "cell_type": "code",
   "execution_count": 32,
   "id": "5cf25f2b-5297-49da-8997-b281236652a5",
   "metadata": {},
   "outputs": [
    {
     "data": {
      "text/html": [
       "<div>\n",
       "<style scoped>\n",
       "    .dataframe tbody tr th:only-of-type {\n",
       "        vertical-align: middle;\n",
       "    }\n",
       "\n",
       "    .dataframe tbody tr th {\n",
       "        vertical-align: top;\n",
       "    }\n",
       "\n",
       "    .dataframe thead th {\n",
       "        text-align: right;\n",
       "    }\n",
       "</style>\n",
       "<table border=\"1\" class=\"dataframe\">\n",
       "  <thead>\n",
       "    <tr style=\"text-align: right;\">\n",
       "      <th></th>\n",
       "      <th>STATEFP</th>\n",
       "      <th>COUNTYFP</th>\n",
       "      <th>VTDST</th>\n",
       "      <th>NAME</th>\n",
       "      <th>G20PRERTRU</th>\n",
       "      <th>G20PREDBID</th>\n",
       "      <th>G20PRELJOR</th>\n",
       "      <th>G20PREOWES</th>\n",
       "      <th>G20PREOOTH</th>\n",
       "      <th>G20USSRCAS</th>\n",
       "      <th>...</th>\n",
       "      <th>G20USSDWEN</th>\n",
       "      <th>G20USSLSIG</th>\n",
       "      <th>G20USSIMEN</th>\n",
       "      <th>G20USSOPRI</th>\n",
       "      <th>G20USSOJOH</th>\n",
       "      <th>G20USSNBIL</th>\n",
       "      <th>G20USSNBOU</th>\n",
       "      <th>G20USSNMON</th>\n",
       "      <th>G20USSNDAR</th>\n",
       "      <th>geometry</th>\n",
       "    </tr>\n",
       "  </thead>\n",
       "  <tbody>\n",
       "    <tr>\n",
       "      <th>0</th>\n",
       "      <td>22</td>\n",
       "      <td>001</td>\n",
       "      <td>0001-1</td>\n",
       "      <td>1-1</td>\n",
       "      <td>1050</td>\n",
       "      <td>81</td>\n",
       "      <td>7</td>\n",
       "      <td>3</td>\n",
       "      <td>4</td>\n",
       "      <td>992</td>\n",
       "      <td>...</td>\n",
       "      <td>0</td>\n",
       "      <td>0</td>\n",
       "      <td>3</td>\n",
       "      <td>2</td>\n",
       "      <td>4</td>\n",
       "      <td>10</td>\n",
       "      <td>18</td>\n",
       "      <td>3</td>\n",
       "      <td>3</td>\n",
       "      <td>POLYGON Z ((-92.26591 30.27931 0.00000, -92.26...</td>\n",
       "    </tr>\n",
       "    <tr>\n",
       "      <th>1</th>\n",
       "      <td>22</td>\n",
       "      <td>001</td>\n",
       "      <td>0001-6</td>\n",
       "      <td>1-6</td>\n",
       "      <td>31</td>\n",
       "      <td>382</td>\n",
       "      <td>6</td>\n",
       "      <td>3</td>\n",
       "      <td>4</td>\n",
       "      <td>34</td>\n",
       "      <td>...</td>\n",
       "      <td>0</td>\n",
       "      <td>0</td>\n",
       "      <td>4</td>\n",
       "      <td>2</td>\n",
       "      <td>0</td>\n",
       "      <td>19</td>\n",
       "      <td>8</td>\n",
       "      <td>4</td>\n",
       "      <td>5</td>\n",
       "      <td>POLYGON Z ((-92.29665 30.24829 0.00000, -92.29...</td>\n",
       "    </tr>\n",
       "    <tr>\n",
       "      <th>2</th>\n",
       "      <td>22</td>\n",
       "      <td>001</td>\n",
       "      <td>0001-7</td>\n",
       "      <td>1-7</td>\n",
       "      <td>77</td>\n",
       "      <td>307</td>\n",
       "      <td>3</td>\n",
       "      <td>2</td>\n",
       "      <td>6</td>\n",
       "      <td>79</td>\n",
       "      <td>...</td>\n",
       "      <td>4</td>\n",
       "      <td>3</td>\n",
       "      <td>2</td>\n",
       "      <td>3</td>\n",
       "      <td>0</td>\n",
       "      <td>6</td>\n",
       "      <td>11</td>\n",
       "      <td>3</td>\n",
       "      <td>4</td>\n",
       "      <td>POLYGON Z ((-92.28446 30.23592 0.00000, -92.28...</td>\n",
       "    </tr>\n",
       "    <tr>\n",
       "      <th>3</th>\n",
       "      <td>22</td>\n",
       "      <td>001</td>\n",
       "      <td>0001-8</td>\n",
       "      <td>1-8</td>\n",
       "      <td>535</td>\n",
       "      <td>146</td>\n",
       "      <td>5</td>\n",
       "      <td>2</td>\n",
       "      <td>2</td>\n",
       "      <td>493</td>\n",
       "      <td>...</td>\n",
       "      <td>6</td>\n",
       "      <td>7</td>\n",
       "      <td>0</td>\n",
       "      <td>3</td>\n",
       "      <td>7</td>\n",
       "      <td>3</td>\n",
       "      <td>6</td>\n",
       "      <td>0</td>\n",
       "      <td>5</td>\n",
       "      <td>POLYGON Z ((-92.27125 30.27131 0.00000, -92.27...</td>\n",
       "    </tr>\n",
       "    <tr>\n",
       "      <th>4</th>\n",
       "      <td>22</td>\n",
       "      <td>001</td>\n",
       "      <td>0002-1</td>\n",
       "      <td>2-1</td>\n",
       "      <td>990</td>\n",
       "      <td>62</td>\n",
       "      <td>7</td>\n",
       "      <td>1</td>\n",
       "      <td>2</td>\n",
       "      <td>932</td>\n",
       "      <td>...</td>\n",
       "      <td>0</td>\n",
       "      <td>7</td>\n",
       "      <td>3</td>\n",
       "      <td>2</td>\n",
       "      <td>3</td>\n",
       "      <td>8</td>\n",
       "      <td>4</td>\n",
       "      <td>1</td>\n",
       "      <td>1</td>\n",
       "      <td>POLYGON Z ((-92.24707 30.31642 0.00000, -92.24...</td>\n",
       "    </tr>\n",
       "    <tr>\n",
       "      <th>...</th>\n",
       "      <td>...</td>\n",
       "      <td>...</td>\n",
       "      <td>...</td>\n",
       "      <td>...</td>\n",
       "      <td>...</td>\n",
       "      <td>...</td>\n",
       "      <td>...</td>\n",
       "      <td>...</td>\n",
       "      <td>...</td>\n",
       "      <td>...</td>\n",
       "      <td>...</td>\n",
       "      <td>...</td>\n",
       "      <td>...</td>\n",
       "      <td>...</td>\n",
       "      <td>...</td>\n",
       "      <td>...</td>\n",
       "      <td>...</td>\n",
       "      <td>...</td>\n",
       "      <td>...</td>\n",
       "      <td>...</td>\n",
       "      <td>...</td>\n",
       "    </tr>\n",
       "    <tr>\n",
       "      <th>3748</th>\n",
       "      <td>22</td>\n",
       "      <td>033</td>\n",
       "      <td>003-16</td>\n",
       "      <td>3-16</td>\n",
       "      <td>610</td>\n",
       "      <td>141</td>\n",
       "      <td>3</td>\n",
       "      <td>0</td>\n",
       "      <td>9</td>\n",
       "      <td>641</td>\n",
       "      <td>...</td>\n",
       "      <td>0</td>\n",
       "      <td>3</td>\n",
       "      <td>0</td>\n",
       "      <td>0</td>\n",
       "      <td>0</td>\n",
       "      <td>0</td>\n",
       "      <td>0</td>\n",
       "      <td>0</td>\n",
       "      <td>0</td>\n",
       "      <td>POLYGON Z ((-90.99050 30.39896 0.00000, -90.99...</td>\n",
       "    </tr>\n",
       "    <tr>\n",
       "      <th>3749</th>\n",
       "      <td>22</td>\n",
       "      <td>033</td>\n",
       "      <td>003-71</td>\n",
       "      <td>3-71</td>\n",
       "      <td>463</td>\n",
       "      <td>98</td>\n",
       "      <td>13</td>\n",
       "      <td>4</td>\n",
       "      <td>3</td>\n",
       "      <td>516</td>\n",
       "      <td>...</td>\n",
       "      <td>2</td>\n",
       "      <td>1</td>\n",
       "      <td>1</td>\n",
       "      <td>3</td>\n",
       "      <td>0</td>\n",
       "      <td>0</td>\n",
       "      <td>0</td>\n",
       "      <td>0</td>\n",
       "      <td>0</td>\n",
       "      <td>POLYGON Z ((-90.98361 30.40277 0.00000, -90.98...</td>\n",
       "    </tr>\n",
       "    <tr>\n",
       "      <th>3750</th>\n",
       "      <td>22</td>\n",
       "      <td>033</td>\n",
       "      <td>003-32</td>\n",
       "      <td>3-32</td>\n",
       "      <td>355</td>\n",
       "      <td>441</td>\n",
       "      <td>6</td>\n",
       "      <td>0</td>\n",
       "      <td>3</td>\n",
       "      <td>359</td>\n",
       "      <td>...</td>\n",
       "      <td>12</td>\n",
       "      <td>5</td>\n",
       "      <td>0</td>\n",
       "      <td>3</td>\n",
       "      <td>1</td>\n",
       "      <td>3</td>\n",
       "      <td>8</td>\n",
       "      <td>4</td>\n",
       "      <td>0</td>\n",
       "      <td>POLYGON Z ((-91.02459 30.45165 0.00000, -91.02...</td>\n",
       "    </tr>\n",
       "    <tr>\n",
       "      <th>3751</th>\n",
       "      <td>22</td>\n",
       "      <td>033</td>\n",
       "      <td>001-98</td>\n",
       "      <td>1-98</td>\n",
       "      <td>920</td>\n",
       "      <td>831</td>\n",
       "      <td>15</td>\n",
       "      <td>9</td>\n",
       "      <td>14</td>\n",
       "      <td>940</td>\n",
       "      <td>...</td>\n",
       "      <td>12</td>\n",
       "      <td>14</td>\n",
       "      <td>12</td>\n",
       "      <td>0</td>\n",
       "      <td>2</td>\n",
       "      <td>6</td>\n",
       "      <td>12</td>\n",
       "      <td>6</td>\n",
       "      <td>1</td>\n",
       "      <td>POLYGON Z ((-91.04094 30.43395 0.00000, -91.04...</td>\n",
       "    </tr>\n",
       "    <tr>\n",
       "      <th>3752</th>\n",
       "      <td>22</td>\n",
       "      <td>033</td>\n",
       "      <td>003-72</td>\n",
       "      <td>3-72</td>\n",
       "      <td>353</td>\n",
       "      <td>502</td>\n",
       "      <td>9</td>\n",
       "      <td>3</td>\n",
       "      <td>11</td>\n",
       "      <td>350</td>\n",
       "      <td>...</td>\n",
       "      <td>10</td>\n",
       "      <td>0</td>\n",
       "      <td>6</td>\n",
       "      <td>1</td>\n",
       "      <td>0</td>\n",
       "      <td>11</td>\n",
       "      <td>3</td>\n",
       "      <td>3</td>\n",
       "      <td>0</td>\n",
       "      <td>POLYGON Z ((-91.00830 30.45408 0.00000, -91.00...</td>\n",
       "    </tr>\n",
       "  </tbody>\n",
       "</table>\n",
       "<p>3753 rows × 25 columns</p>\n",
       "</div>"
      ],
      "text/plain": [
       "     STATEFP COUNTYFP   VTDST  NAME  G20PRERTRU  G20PREDBID  G20PRELJOR   \n",
       "0         22      001  0001-1   1-1        1050          81           7  \\\n",
       "1         22      001  0001-6   1-6          31         382           6   \n",
       "2         22      001  0001-7   1-7          77         307           3   \n",
       "3         22      001  0001-8   1-8         535         146           5   \n",
       "4         22      001  0002-1   2-1         990          62           7   \n",
       "...      ...      ...     ...   ...         ...         ...         ...   \n",
       "3748      22      033  003-16  3-16         610         141           3   \n",
       "3749      22      033  003-71  3-71         463          98          13   \n",
       "3750      22      033  003-32  3-32         355         441           6   \n",
       "3751      22      033  001-98  1-98         920         831          15   \n",
       "3752      22      033  003-72  3-72         353         502           9   \n",
       "\n",
       "      G20PREOWES  G20PREOOTH  G20USSRCAS  ...  G20USSDWEN  G20USSLSIG   \n",
       "0              3           4         992  ...           0           0  \\\n",
       "1              3           4          34  ...           0           0   \n",
       "2              2           6          79  ...           4           3   \n",
       "3              2           2         493  ...           6           7   \n",
       "4              1           2         932  ...           0           7   \n",
       "...          ...         ...         ...  ...         ...         ...   \n",
       "3748           0           9         641  ...           0           3   \n",
       "3749           4           3         516  ...           2           1   \n",
       "3750           0           3         359  ...          12           5   \n",
       "3751           9          14         940  ...          12          14   \n",
       "3752           3          11         350  ...          10           0   \n",
       "\n",
       "      G20USSIMEN  G20USSOPRI  G20USSOJOH  G20USSNBIL  G20USSNBOU  G20USSNMON   \n",
       "0              3           2           4          10          18           3  \\\n",
       "1              4           2           0          19           8           4   \n",
       "2              2           3           0           6          11           3   \n",
       "3              0           3           7           3           6           0   \n",
       "4              3           2           3           8           4           1   \n",
       "...          ...         ...         ...         ...         ...         ...   \n",
       "3748           0           0           0           0           0           0   \n",
       "3749           1           3           0           0           0           0   \n",
       "3750           0           3           1           3           8           4   \n",
       "3751          12           0           2           6          12           6   \n",
       "3752           6           1           0          11           3           3   \n",
       "\n",
       "      G20USSNDAR                                           geometry  \n",
       "0              3  POLYGON Z ((-92.26591 30.27931 0.00000, -92.26...  \n",
       "1              5  POLYGON Z ((-92.29665 30.24829 0.00000, -92.29...  \n",
       "2              4  POLYGON Z ((-92.28446 30.23592 0.00000, -92.28...  \n",
       "3              5  POLYGON Z ((-92.27125 30.27131 0.00000, -92.27...  \n",
       "4              1  POLYGON Z ((-92.24707 30.31642 0.00000, -92.24...  \n",
       "...          ...                                                ...  \n",
       "3748           0  POLYGON Z ((-90.99050 30.39896 0.00000, -90.99...  \n",
       "3749           0  POLYGON Z ((-90.98361 30.40277 0.00000, -90.98...  \n",
       "3750           0  POLYGON Z ((-91.02459 30.45165 0.00000, -91.02...  \n",
       "3751           1  POLYGON Z ((-91.04094 30.43395 0.00000, -91.04...  \n",
       "3752           0  POLYGON Z ((-91.00830 30.45408 0.00000, -91.00...  \n",
       "\n",
       "[3753 rows x 25 columns]"
      ]
     },
     "execution_count": 32,
     "metadata": {},
     "output_type": "execute_result"
    }
   ],
   "source": [
    "shp"
   ]
  },
  {
   "cell_type": "code",
   "execution_count": 27,
   "id": "9e2fe1fc-7b3e-446b-81ab-dfb41cbede6b",
   "metadata": {},
   "outputs": [],
   "source": [
    "prec_test = shp[\"NAME\"].str.split(\"-\").str[0].str.zfill(2)+\" \"+shp[\"NAME\"].str.split(\"-\").str[1].str.zfill(3)"
   ]
  },
  {
   "cell_type": "code",
   "execution_count": 54,
   "id": "d028e4bd-b72c-40d4-b29e-47aa473c7125",
   "metadata": {
    "tags": []
   },
   "outputs": [
    {
     "data": {
      "text/plain": [
       "244"
      ]
     },
     "execution_count": 54,
     "metadata": {},
     "output_type": "execute_result"
    }
   ],
   "source": [
    "shp[\"NAME\"].str.split(\"-\").str[1].nunique()"
   ]
  },
  {
   "cell_type": "code",
   "execution_count": 55,
   "id": "e69037b2-62a7-483f-9e62-14d77aa499cd",
   "metadata": {
    "tags": []
   },
   "outputs": [
    {
     "data": {
      "text/plain": [
       "739"
      ]
     },
     "execution_count": 55,
     "metadata": {},
     "output_type": "execute_result"
    }
   ],
   "source": [
    "shp[\"NAME\"].str.split(\"-\").str[0].nunique()"
   ]
  },
  {
   "cell_type": "code",
   "execution_count": 59,
   "id": "b4f10b78-bf61-433f-acdd-e4ea66594281",
   "metadata": {},
   "outputs": [
    {
     "data": {
      "text/plain": [
       "0        1\n",
       "1        6\n",
       "2        7\n",
       "3        8\n",
       "4        1\n",
       "        ..\n",
       "3748    16\n",
       "3749    71\n",
       "3750    32\n",
       "3751    98\n",
       "3752    72\n",
       "Name: NAME, Length: 3753, dtype: object"
      ]
     },
     "execution_count": 59,
     "metadata": {},
     "output_type": "execute_result"
    }
   ],
   "source": [
    "shp[\"NAME\"].str.split(\"-\").str[1]"
   ]
  },
  {
   "cell_type": "code",
   "execution_count": 57,
   "id": "93eceb22-fed9-4241-8e50-12e83262ec29",
   "metadata": {},
   "outputs": [
    {
     "data": {
      "text/plain": [
       "0       1\n",
       "1       1\n",
       "2       1\n",
       "3       1\n",
       "4       2\n",
       "       ..\n",
       "3748    3\n",
       "3749    3\n",
       "3750    3\n",
       "3751    1\n",
       "3752    3\n",
       "Name: NAME, Length: 3753, dtype: object"
      ]
     },
     "execution_count": 57,
     "metadata": {},
     "output_type": "execute_result"
    }
   ],
   "source": [
    "shp[\"NAME\"].str.split(\"-\").str[0]"
   ]
  },
  {
   "cell_type": "code",
   "execution_count": 31,
   "id": "649a6745-bc0c-4ad2-9060-1341543ee847",
   "metadata": {
    "collapsed": true,
    "jupyter": {
     "outputs_hidden": true
    },
    "tags": []
   },
   "outputs": [
    {
     "data": {
      "text/plain": [
       "array(['01 001', '01 006', '01 007', '01 008', '02 001', '03 007',\n",
       "       '04 002', '01 009', '02 002', '03 001', '03 002', '03 005',\n",
       "       '02 003', '02 004', '03 004', '03 006', '04 001', '02 005',\n",
       "       '04 004', '04 005', '06 002', '06 008', '07 003', '07 004',\n",
       "       '01 02A', '01 02B', '01 03A', '01 03B', '01 04A', '01 05A',\n",
       "       '01 05B', '03 03A', '03 03B', '05 01A', '04 006', '06 004',\n",
       "       '06 006', '07 002', '01 04B', '05 003', '05 004', '05 005',\n",
       "       '06 001', '06 007', '06 009', '05 02A', '06 010', '06 011',\n",
       "       '06 012', '06 013', '06 014', '06 015', '06 016', '06 03A',\n",
       "       '06 03B', '01 002', '01 003', '01 004', '01 005', '02 006',\n",
       "       '04 003', '05 002', '05 010', '05 013', '05 08A', '05 012',\n",
       "       '05 009', '05 007', nan, '05 001', '07 001', '08 001', '06 003',\n",
       "       '09 001', '08 003', '03 003', '02 007', '02 008', '09 003',\n",
       "       '09 004', '10 002', '10 004', '11 001', '02 02A', '02 02B',\n",
       "       '02 02C', '02 02D', '02 02F', '02 03A', '02 04A', '02 05E',\n",
       "       '03 01B', '04 02A', '06 02A', '07 03B', '08 02A', '08 02B',\n",
       "       '08 03A', '09 01A', '09 02A', '09 04B', '09 05B', '10 02A',\n",
       "       '10 03A', '11 02A', '09 002', '07 005', '02 015', '02 020',\n",
       "       '02 023', '04 03A', '04 007', '04 009', '02 05A', '02 009',\n",
       "       '02 010', '04 01A', '02 011', '02 013', '02 014', '02 016',\n",
       "       '02 019', '04 010', '04 03B', '04 03C', '04 03D', '04 04A',\n",
       "       '04 04B', '04 05A', '04 08A', '04 08B', '04 08C', '04 08D',\n",
       "       '04 08E', '04 08F', '02 11A', '02 12A', '02 12B', '02 12C',\n",
       "       '02 16A', '02 17A', '02 17B', '02 18B', '02 18C', '02 18D',\n",
       "       '02 18E', '02 18F', '02 21A', '02 21B', '02 21C', '02 21D',\n",
       "       '02 22A', '02 22B', '02 22C', '04 11A', '04 11B', '04 11C',\n",
       "       '06 005', '05 006', '05 02B', '01 035', '01 044', '01 057',\n",
       "       '01 062', '01 063', '01 085', '02 032', '01 099', '01 051',\n",
       "       '01 067', '01 017', '01 045', '01 036', '01 083', '01 058',\n",
       "       '02 025', '02 031', '02 018', '02 021', '02 026', '01 016',\n",
       "       '01 018', '03 009', '01 013', '01 027', '01 088', '03 008',\n",
       "       '01 084', '01 087', '01 010', '01 032', '01 048', '01 011',\n",
       "       '01 020', '01 012', '01 023', '01 014', '01 026', '01 031',\n",
       "       '01 015', '01 029', '01 061', '01 019', '01 022', '01 021',\n",
       "       '01 077', '01 024', '01 025', '01 028', '01 030', '01 089',\n",
       "       '01 033', '01 034', '01 074', '01 037', '01 070', '01 038',\n",
       "       '01 039', '01 040', '01 078', '01 041', '01 056', '01 069',\n",
       "       '01 042', '01 059', '01 043', '01 065', '01 046', '01 047',\n",
       "       '01 049', '01 073', '01 050', '01 052', '01 053', '01 054',\n",
       "       '01 055', '01 060', '01 064', '01 066', '01 068', '01 071',\n",
       "       '02 027', '01 072', '01 075', '01 076', '01 079', '01 080',\n",
       "       '01 081', '01 082', '01 095', '01 086', '01 090', '01 091',\n",
       "       '02 022', '01 092', '02 012', '01 093', '02 030', '01 094',\n",
       "       '02 024', '01 097', '02 017', '02 028', '02 029', '02 033',\n",
       "       '02 034', '02 036', '03 010', '03 011', '03 012', '03 013',\n",
       "       '03 014', '03 017', '03 019', '03 020', '03 022', '03 023',\n",
       "       '03 024', '03 025', '03 026', '03 027', '03 029', '03 030',\n",
       "       '03 031', '03 035', '03 036', '03 037', '03 039', '03 040',\n",
       "       '03 041', '03 043', '03 044', '03 046', '03 049', '03 050',\n",
       "       '03 051', '03 052', '03 054', '03 055', '03 056', '03 057',\n",
       "       '02 035', '02 037', '03 015', '03 018', '03 021', '03 047',\n",
       "       '03 048', '03 028', '03 033', '03 045', '03 034', '03 038',\n",
       "       '03 053', '03 060', '03 061', '03 063', '03 067', '03 058',\n",
       "       '03 059', '03 062', '03 065', '03 064', '03 066', '03 068',\n",
       "       '03 069', '03 070', '01 100', '01 101', '01 103', '01 104',\n",
       "       '01 105', '01 107', '01 102', '07 007', '08 002', '08 004',\n",
       "       '11 003', '11 005', '11 008', '09 005', '10 001', '11 004',\n",
       "       '10 003', '10 006', '10 007', '11 006', '11 007', '11 002',\n",
       "       '12 001', '12 002', '12 004', '12 006', '13 001', '13 002',\n",
       "       '13 003', '13 004', '14 001', '14 003', '14 004', '12 005',\n",
       "       '12 003', '01 00K', '01 00H', '01 00W', '01 00G', '01 00L',\n",
       "       '02 00G', '02 00H', '02 00K', '02 00W', '03 00H', '03 00K',\n",
       "       '03 00W', '04 00G', '04 00H', '04 00K', '04 00W', '05 00G',\n",
       "       '05 00H', '05 00K', '05 00W', '06 00G', '06 00H', '07 00G',\n",
       "       '07 00H', '07 00W', '08 00G', '08 00H', '08 00K', '09 00H',\n",
       "       '09 00K', '01 0GI', '10 00G', '10 00K', '11 00G', '11 00K',\n",
       "       '12 00G', '12 00K', '13 00G', '14 00K', '15 00K', '17 00K',\n",
       "       '18 00K', '19 00K', '20 00K', '21 00K', '22 00K', '23 00K',\n",
       "       '24 00K', '25 00K', '26 00K', '27 00K', '28 00K', '29 00K',\n",
       "       '30 00K', '31 00K', '33 00K', '34 00K', '35 00K', '06 0KA',\n",
       "       '07 0KA', '07 0KB', '13 0KA', '13 0KB', '03 00G', '06 00W',\n",
       "       '09 00G', '16 00K', '06 0KB', '10 005', '10 009', '10 008',\n",
       "       '02 01A', '05 01B', '10 010', '10 011', '10 012', '10 013',\n",
       "       '10 014', '10 015', '10 016', '08 005', '08 006', '08 007',\n",
       "       '21 001', '21 002', '26 001', '26 002', '27 001', '27 002',\n",
       "       '39 001', '39 002', '04 008', '01 01A', '01 09A', '02 07A',\n",
       "       '01 10A', '01 10B', '07 006', '09 008', '08 008', '05 008',\n",
       "       '08 009', '07 008', '09 007', '09 006', '09 009', '11 009',\n",
       "       '12 009', '13 005', '13 006', '13 007', '13 008', '14 005',\n",
       "       '14 006', '14 007', '14 009', '15 001', '15 002', '15 005',\n",
       "       '15 008', '16 001', '16 002', '16 003', '16 004', '16 005',\n",
       "       '17 001', '17 002', '17 007', '04 011', '04 014', '04 017',\n",
       "       '04 018', '04 021', '04 022', '05 011', '14 008', '17 005',\n",
       "       '12 007', '12 008', '13 009', '14 002', '17 004', '04 023',\n",
       "       '15 003', '15 006', '15 009', '16 006', '16 007', '16 008',\n",
       "       '16 009', '17 008', '17 003', '17 009', '04 015', '04 020',\n",
       "       '17 006', '05 015', '05 016', '05 018', '07 010', '07 011',\n",
       "       '07 012', '07 013', '07 014', '07 016', '07 017', '07 018',\n",
       "       '07 020', '07 021', '07 023', '07 024', '07 026', '07 027',\n",
       "       '07 028', '07 032', '07 033', '07 040', '07 042', '07 09A',\n",
       "       '08 012', '08 014', '08 015', '08 019', '08 020', '08 021',\n",
       "       '08 022', '08 023', '08 024', '08 025', '08 027', '08 028',\n",
       "       '09 010', '09 011', '09 012', '09 013', '09 014', '09 019',\n",
       "       '09 021', '05 017', '09 017', '07 015', '07 025', '08 026',\n",
       "       '07 019', '07 029', '07 030', '07 035', '07 037', '07 041',\n",
       "       '08 013', '08 030', '09 015', '09 016', '09 023', '09 025',\n",
       "       '09 026', '09 028', '09 029', '09 030', '09 031', '09 032',\n",
       "       '09 035', '09 036', '09 037', '09 038', '09 039', '11 011',\n",
       "       '11 012', '11 013', '11 014', '11 017', '12 010', '12 011',\n",
       "       '12 012', '12 013', '12 014', '12 016', '12 017', '12 019',\n",
       "       '13 010', '13 011', '13 012', '13 013', '13 014', '13 015',\n",
       "       '13 016', '14 010', '14 011', '14 012', '14 014', '14 015',\n",
       "       '14 016', '14 017', '14 019', '14 020', '14 021', '14 023',\n",
       "       '14 025', '14 026', '15 012', '15 013', '15 014', '15 015',\n",
       "       '15 016', '15 017', '15 018', '15 019', '16 01A', '17 010',\n",
       "       '17 011', '17 012', '17 013', '17 014', '17 015', '17 016',\n",
       "       '17 018', '17 019', '17 020', '04 17A', '07 25A', '07 27B',\n",
       "       '07 28A', '07 37A', '09 28C', '09 30A', '09 31A', '09 31B',\n",
       "       '09 31D', '09 35A', '09 36B', '09 40A', '09 41B', '09 41C',\n",
       "       '09 42C', '09 43A', '09 43B', '09 033', '09 041', '09 042',\n",
       "       '09 34A', '09 040', '09 044', '09 39B', '09 045', '11 010',\n",
       "       '15 010', '15 011', '09 41A', '09 41D', '17 017', '09 38A',\n",
       "       '09 40C', '09 43C', '09 43E', '09 43F', '09 43J', '09 43M',\n",
       "       '09 43N', '09 43G', '09 43I', '09 43K', '09 43L', '09 43H',\n",
       "       '09 44A', '09 44B', '09 44D', '09 44E', '09 44F', '09 44G',\n",
       "       '09 44J', '09 44L', '09 44N', '09 44O', '09 44P', '09 44Q',\n",
       "       '09 45A', '14 13A', '14 18A', '14 24A', '15 13A', '09 44I',\n",
       "       '09 44M', '15 12A', '15 13B', '15 14C', '15 14D', '15 14E',\n",
       "       '15 14G', '15 14A', '15 14B', '15 14F', '15 15A', '15 15B',\n",
       "       '15 17A', '15 17B', '15 18A', '15 18B', '15 18C', '15 18D',\n",
       "       '15 18E', '15 18F', '15 19A', '15 19B', '15 19C', '17 13A',\n",
       "       '17 18A', '02 06A', '03 06A', '03 07B', '06 04B', '08 01A',\n",
       "       '06 04A', '04 013', '04 012', '01 06A', '02 05B', '03 02A',\n",
       "       '06 01A', '06 05A', '06 05B', '01 15A', '01 26A', '01 28A',\n",
       "       '04 12A', '06 11A', '06 16A', '06 11B', '7A 001', '19A 001',\n",
       "       '20A 002', '20B 001', '46B 001', '36A 001', '46B 002', '46B 003',\n",
       "       '46B 004', '01 01B', '01 07B', '01 08A', '01 08E', '01 03D',\n",
       "       '01 04C', '01 03C', '01 06B', '01 04D', '01 07A', '01 08C',\n",
       "       '01 08F', '02 04E', '04 03E', '04 03F', '04 03G', '04 03J',\n",
       "       '04 03K', '04 03L', '04 03M', '04 03N', '07 02A', '07 04A',\n",
       "       '07 05A', '07 05C', '03 03C', '04 05B', '04 07B', '04 09A',\n",
       "       '07 01A', '04 10A', '02 01B', '02 01C', '02 01D', '03 02B',\n",
       "       '07 01B', '07 02B', '07 02C', '07 02D', '07 02E', '03 01A',\n",
       "       '03 01C', '49B 002', '49B 001', '03 016', '03 071', '03 032',\n",
       "       '01 098', '03 072'], dtype=object)"
      ]
     },
     "execution_count": 31,
     "metadata": {},
     "output_type": "execute_result"
    }
   ],
   "source": [
    "prec_test.unique()"
   ]
  },
  {
   "cell_type": "code",
   "execution_count": 29,
   "id": "b64821c9-44cd-4484-b361-bf3b1609a6bf",
   "metadata": {
    "collapsed": true,
    "jupyter": {
     "outputs_hidden": true
    },
    "tags": []
   },
   "outputs": [
    {
     "data": {
      "text/plain": [
       "{'01 001',\n",
       " '01 002 A',\n",
       " '01 002 B',\n",
       " '01 003',\n",
       " '01 004',\n",
       " '01 005 A',\n",
       " '01 005 B',\n",
       " '01 006',\n",
       " '01 007',\n",
       " '01 008',\n",
       " '01 009',\n",
       " '01 010 A',\n",
       " '01 010 B',\n",
       " '01 011',\n",
       " '01 012 A',\n",
       " '01 012 B',\n",
       " '01 013',\n",
       " '01 014 A',\n",
       " '01 014 B',\n",
       " '01 015 A',\n",
       " '01 015 B',\n",
       " '01 016',\n",
       " '01 017',\n",
       " '01 018',\n",
       " '01 019',\n",
       " '01 020 A',\n",
       " '01 020 B',\n",
       " '01 021',\n",
       " '01 022',\n",
       " '01 023',\n",
       " '01 024',\n",
       " '01 025',\n",
       " '01 026',\n",
       " '01 027',\n",
       " '01 028',\n",
       " '01 029',\n",
       " '01 030',\n",
       " '01 031 A',\n",
       " '01 031 B',\n",
       " '01 032 A',\n",
       " '01 032 B',\n",
       " '01 033',\n",
       " '01 034 A',\n",
       " '01 034 B',\n",
       " '01 035',\n",
       " '01 036',\n",
       " '01 037 A',\n",
       " '01 037 B',\n",
       " '01 038 A',\n",
       " '01 038 B',\n",
       " '01 039',\n",
       " '01 040',\n",
       " '01 041 A',\n",
       " '01 041 B',\n",
       " '01 042 A',\n",
       " '01 042 B',\n",
       " '01 043',\n",
       " '01 044',\n",
       " '01 045',\n",
       " '01 046 A',\n",
       " '01 046 B',\n",
       " '01 047 A',\n",
       " '01 047 B',\n",
       " '01 048 A',\n",
       " '01 048 B',\n",
       " '01 049 A',\n",
       " '01 049 B',\n",
       " '01 050',\n",
       " '01 051',\n",
       " '01 052 A',\n",
       " '01 052 B',\n",
       " '01 053 A',\n",
       " '01 053 B',\n",
       " '01 054 A',\n",
       " '01 054 B',\n",
       " '01 055 A',\n",
       " '01 055 B',\n",
       " '01 056 A',\n",
       " '01 056 B',\n",
       " '01 057',\n",
       " '01 058 A',\n",
       " '01 058 B',\n",
       " '01 059',\n",
       " '01 060 A',\n",
       " '01 060 B',\n",
       " '01 061',\n",
       " '01 062',\n",
       " '01 063 A',\n",
       " '01 063 B',\n",
       " '01 064',\n",
       " '01 065',\n",
       " '01 066 A',\n",
       " '01 066 B',\n",
       " '01 067',\n",
       " '01 068',\n",
       " '01 069 A',\n",
       " '01 069 B',\n",
       " '01 070 A',\n",
       " '01 070 B',\n",
       " '01 071 A',\n",
       " '01 071 B',\n",
       " '01 072 A',\n",
       " '01 072 B',\n",
       " '01 073 A',\n",
       " '01 073 B',\n",
       " '01 074 A',\n",
       " '01 074 B',\n",
       " '01 075 A',\n",
       " '01 075 B',\n",
       " '01 076',\n",
       " '01 077 A',\n",
       " '01 077 B',\n",
       " '01 078 A',\n",
       " '01 078 B',\n",
       " '01 079',\n",
       " '01 080 A',\n",
       " '01 080 B',\n",
       " '01 081 A',\n",
       " '01 081 B',\n",
       " '01 082 A',\n",
       " '01 082 B',\n",
       " '01 083 A',\n",
       " '01 083 B',\n",
       " '01 084',\n",
       " '01 085 A',\n",
       " '01 085 B',\n",
       " '01 086 A',\n",
       " '01 086 B',\n",
       " '01 087 A',\n",
       " '01 087 B',\n",
       " '01 088',\n",
       " '01 089',\n",
       " '01 090 A',\n",
       " '01 090 B',\n",
       " '01 091 A',\n",
       " '01 091 B',\n",
       " '01 092 A',\n",
       " '01 092 B',\n",
       " '01 093',\n",
       " '01 094',\n",
       " '01 095 A',\n",
       " '01 095 B',\n",
       " '01 097',\n",
       " '01 098 A',\n",
       " '01 098 B',\n",
       " '01 099 A',\n",
       " '01 099 B',\n",
       " '01 100 A',\n",
       " '01 100 B',\n",
       " '01 101 A',\n",
       " '01 101 B',\n",
       " '01 102',\n",
       " '01 103 A',\n",
       " '01 103 B',\n",
       " '01 104 A',\n",
       " '01 104 B',\n",
       " '01 105',\n",
       " '01 107',\n",
       " '02 001 A',\n",
       " '02 001 B',\n",
       " '02 002 A',\n",
       " '02 002 B',\n",
       " '02 003',\n",
       " '02 004',\n",
       " '02 005',\n",
       " '02 006 A',\n",
       " '02 006 B',\n",
       " '02 007 A',\n",
       " '02 007 B',\n",
       " '02 008',\n",
       " '02 009 A',\n",
       " '02 009 B',\n",
       " '02 010 A',\n",
       " '02 010 B',\n",
       " '02 011',\n",
       " '02 012 A',\n",
       " '02 012 B',\n",
       " '02 013 A',\n",
       " '02 013 B',\n",
       " '02 014 A',\n",
       " '02 014 B',\n",
       " '02 015',\n",
       " '02 016 A',\n",
       " '02 016 B',\n",
       " '02 017 A',\n",
       " '02 017 B',\n",
       " '02 018 A',\n",
       " '02 018 B',\n",
       " '02 019',\n",
       " '02 020',\n",
       " '02 021',\n",
       " '02 022 A',\n",
       " '02 022 B',\n",
       " '02 023 A',\n",
       " '02 023 B',\n",
       " '02 024',\n",
       " '02 025 A',\n",
       " '02 025 B',\n",
       " '02 026',\n",
       " '02 027 A',\n",
       " '02 027 B',\n",
       " '02 028',\n",
       " '02 029',\n",
       " '02 030 A',\n",
       " '02 030 B',\n",
       " '02 031',\n",
       " '02 032',\n",
       " '02 033',\n",
       " '02 034 A',\n",
       " '02 034 B',\n",
       " '02 035',\n",
       " '02 036 A',\n",
       " '02 036 B',\n",
       " '02 037',\n",
       " '03 001 A',\n",
       " '03 001 B',\n",
       " '03 002 A',\n",
       " '03 002 B',\n",
       " '03 003 A',\n",
       " '03 003 B',\n",
       " '03 004 A',\n",
       " '03 004 B',\n",
       " '03 005',\n",
       " '03 006 A',\n",
       " '03 006 B',\n",
       " '03 007 A',\n",
       " '03 007 B',\n",
       " '03 008 A',\n",
       " '03 008 B',\n",
       " '03 009 A',\n",
       " '03 009 B',\n",
       " '03 010',\n",
       " '03 011',\n",
       " '03 012 A',\n",
       " '03 012 B',\n",
       " '03 013',\n",
       " '03 014 A',\n",
       " '03 014 B',\n",
       " '03 015 A',\n",
       " '03 015 B',\n",
       " '03 016',\n",
       " '03 017 A',\n",
       " '03 017 B',\n",
       " '03 018 A',\n",
       " '03 018 B',\n",
       " '03 019 A',\n",
       " '03 019 B',\n",
       " '03 020 A',\n",
       " '03 020 B',\n",
       " '03 021 A',\n",
       " '03 021 B',\n",
       " '03 022',\n",
       " '03 023 A',\n",
       " '03 023 B',\n",
       " '03 024 A',\n",
       " '03 024 B',\n",
       " '03 025 A',\n",
       " '03 025 B',\n",
       " '03 026 A',\n",
       " '03 026 B',\n",
       " '03 027 A',\n",
       " '03 027 B',\n",
       " '03 028 A',\n",
       " '03 028 B',\n",
       " '03 029 A',\n",
       " '03 029 B',\n",
       " '03 030 A',\n",
       " '03 030 B',\n",
       " '03 031 A',\n",
       " '03 031 B',\n",
       " '03 032',\n",
       " '03 033 A',\n",
       " '03 033 B',\n",
       " '03 034 A',\n",
       " '03 034 B',\n",
       " '03 035 A',\n",
       " '03 035 B',\n",
       " '03 036',\n",
       " '03 037',\n",
       " '03 038 A',\n",
       " '03 038 B',\n",
       " '03 039',\n",
       " '03 040 A',\n",
       " '03 040 B',\n",
       " '03 041 A',\n",
       " '03 041 B',\n",
       " '03 043 A',\n",
       " '03 043 B',\n",
       " '03 044 A',\n",
       " '03 044 B',\n",
       " '03 045 A',\n",
       " '03 045 B',\n",
       " '03 046',\n",
       " '03 047 A',\n",
       " '03 047 B',\n",
       " '03 048 A',\n",
       " '03 048 B',\n",
       " '03 049 A',\n",
       " '03 049 B',\n",
       " '03 050 A',\n",
       " '03 050 B',\n",
       " '03 051',\n",
       " '03 052 A',\n",
       " '03 052 B',\n",
       " '03 053 A',\n",
       " '03 053 B',\n",
       " '03 054',\n",
       " '03 055 A',\n",
       " '03 055 B',\n",
       " '03 056',\n",
       " '03 057',\n",
       " '03 058',\n",
       " '03 059',\n",
       " '03 060 A',\n",
       " '03 060 B',\n",
       " '03 061',\n",
       " '03 062',\n",
       " '03 063',\n",
       " '03 064',\n",
       " '03 065',\n",
       " '03 066',\n",
       " '03 067',\n",
       " '03 068',\n",
       " '03 069 A',\n",
       " '03 069 B',\n",
       " '03 070 A',\n",
       " '03 070 B',\n",
       " '03 071',\n",
       " '03 072',\n",
       " 'Early Voting ',\n",
       " 'Total Votes'}"
      ]
     },
     "execution_count": 29,
     "metadata": {},
     "output_type": "execute_result"
    }
   ],
   "source": [
    "set(mayor_pres[\"prec\"])"
   ]
  },
  {
   "cell_type": "code",
   "execution_count": 39,
   "id": "a85d267c-bbbb-4a3c-b04f-dd4af9b41dd6",
   "metadata": {
    "tags": []
   },
   "outputs": [
    {
     "data": {
      "text/plain": [
       "234"
      ]
     },
     "execution_count": 39,
     "metadata": {},
     "output_type": "execute_result"
    }
   ],
   "source": [
    "len(set(mayor_pres[\"prec\"])-set(prec_test))"
   ]
  },
  {
   "cell_type": "code",
   "execution_count": 38,
   "id": "5a08516f-ca67-4f76-af0c-ac18bcb66fb2",
   "metadata": {},
   "outputs": [
    {
     "data": {
      "text/plain": [
       "710"
      ]
     },
     "execution_count": 38,
     "metadata": {},
     "output_type": "execute_result"
    }
   ],
   "source": [
    "len(set(prec_test)- set(mayor_pres[\"prec\"]))"
   ]
  },
  {
   "cell_type": "code",
   "execution_count": 40,
   "id": "9ce09db8-3436-4a35-9096-968b377f7961",
   "metadata": {},
   "outputs": [],
   "source": [
    "prec_test2 = shp[\"NAME\"].str.split(\"-\").str[1].str.zfill(2)+\" \"+shp[\"NAME\"].str.split(\"-\").str[0].str.zfill(3)"
   ]
  },
  {
   "cell_type": "code",
   "execution_count": 41,
   "id": "2c7faac1-93dd-41be-a5a7-d6e92146a22f",
   "metadata": {},
   "outputs": [
    {
     "data": {
      "text/plain": [
       "303"
      ]
     },
     "execution_count": 41,
     "metadata": {},
     "output_type": "execute_result"
    }
   ],
   "source": [
    "len(set(mayor_pres[\"prec\"])-set(prec_test2))"
   ]
  },
  {
   "cell_type": "code",
   "execution_count": null,
   "id": "42898213-55a8-46f6-baa2-557bb4ee7188",
   "metadata": {},
   "outputs": [],
   "source": []
  }
 ],
 "metadata": {
  "kernelspec": {
   "display_name": "pdv_env",
   "language": "python",
   "name": "pdv_env"
  },
  "language_info": {
   "codemirror_mode": {
    "name": "ipython",
    "version": 3
   },
   "file_extension": ".py",
   "mimetype": "text/x-python",
   "name": "python",
   "nbconvert_exporter": "python",
   "pygments_lexer": "ipython3",
   "version": "3.9.4"
  }
 },
 "nbformat": 4,
 "nbformat_minor": 5
}
