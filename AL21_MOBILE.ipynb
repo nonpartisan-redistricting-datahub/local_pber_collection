{
 "cells": [
  {
   "cell_type": "markdown",
   "id": "a954dbf7",
   "metadata": {},
   "source": [
    "## Mobile, AL 2021 City Council Election Results and Boundaries"
   ]
  },
  {
   "cell_type": "markdown",
   "id": "cddbffd0",
   "metadata": {},
   "source": [
    "### Sections\n",
    "- <a href=\"#join\"> Read in Input Files and Join</a><br>\n",
    "- <a href=\"#shp\">Create Ward Boundaries</a><br>\n",
    "- <a href=\"#maup\">Join with Election Returns</a><br>\n",
    "- <a href=\"#exp\">Export Cleaned Datasets</a><br>\n",
    "\n",
    "#### Sources\n",
    "\n",
    "- [Mobile, AL 2021 Municipal Election Returns, Ward Level PDF](https://www.cityofmobile.org/uploads/2109010853462021OFFICIALELECTIONR001.pdf)) \n",
    "- [Mobile, AL 2021 Adopted Voting Wards PDF Map](https://open-government-cityofmobile.hub.arcgis.com/documents/cityofmobile::council-districts-8-5x11/explore)\n",
    "- [RDH Alabama 2020 Census Block Boundaries](https://redistrictingdatahub.org/dataset/alabama-block-boundaries-2020/)\n",
    "-[Census Place Boundaries for City of Homewood](https://data.census.gov/map/160XX00US0103076?layer=VT_2022_160_V2_PY_D1&loc=43.3751,-113.1138,z4.0000)"
   ]
  },
  {
   "cell_type": "code",
   "execution_count": 1,
   "id": "aa6a1acb",
   "metadata": {},
   "outputs": [],
   "source": [
    "import pandas as pd\n",
    "import geopandas as gp\n",
    "import os\n",
    "import numpy as np\n",
    "import matplotlib.pyplot as plt\n",
    "pd.set_option('display.max_rows', 1000)\n",
    "pd.set_option('display.max_columns', 1000)"
   ]
  },
  {
   "cell_type": "markdown",
   "id": "e93c31e6",
   "metadata": {},
   "source": [
    "<p><a name=\"join\"></a></p>\n",
    "\n",
    "### Read in input files"
   ]
  },
  {
   "cell_type": "markdown",
   "id": "12184ad4",
   "metadata": {},
   "source": [
    "Election returns were transcribed from PDF to machine readable format, and hand checked checked for accuracy."
   ]
  },
  {
   "cell_type": "code",
   "execution_count": 2,
   "id": "718987d9",
   "metadata": {},
   "outputs": [
    {
     "data": {
      "text/html": [
       "<div>\n",
       "<style scoped>\n",
       "    .dataframe tbody tr th:only-of-type {\n",
       "        vertical-align: middle;\n",
       "    }\n",
       "\n",
       "    .dataframe tbody tr th {\n",
       "        vertical-align: top;\n",
       "    }\n",
       "\n",
       "    .dataframe thead th {\n",
       "        text-align: right;\n",
       "    }\n",
       "</style>\n",
       "<table border=\"1\" class=\"dataframe\">\n",
       "  <thead>\n",
       "    <tr style=\"text-align: right;\">\n",
       "      <th></th>\n",
       "      <th>UNIQUE_ID</th>\n",
       "      <th>MNCIPAL</th>\n",
       "      <th>DISTRICT</th>\n",
       "      <th>G21MYRNELY</th>\n",
       "      <th>G21MYRNFIN</th>\n",
       "      <th>G21MYRNRIC</th>\n",
       "      <th>G21MYRNSTI</th>\n",
       "      <th>G21MYRNYOU</th>\n",
       "      <th>GCTC1NBER</th>\n",
       "      <th>GCTC1NHOL</th>\n",
       "      <th>GCTC1NPEN</th>\n",
       "      <th>GCTC1NTHH</th>\n",
       "      <th>GCTC1NTHC</th>\n",
       "      <th>GCTC1NWES</th>\n",
       "      <th>GCTC1NWRI</th>\n",
       "      <th>GCTC2NCAF</th>\n",
       "      <th>GCTC2NCAR</th>\n",
       "      <th>GCTC2NHIL</th>\n",
       "      <th>GCTC2NMAN</th>\n",
       "      <th>GCTC2NMCK</th>\n",
       "      <th>GCTC2NMIN</th>\n",
       "      <th>GCTC3NCAR</th>\n",
       "      <th>GCTC3NSMA</th>\n",
       "      <th>GCTC4NRET</th>\n",
       "      <th>GCTC4NREY</th>\n",
       "      <th>GCTC5NCOP</th>\n",
       "      <th>GCTC5NDAV</th>\n",
       "      <th>GCTC5NWRI</th>\n",
       "      <th>GCTC6NDUG</th>\n",
       "      <th>GCTC6NJON</th>\n",
       "      <th>GCTC6NPEN</th>\n",
       "      <th>GCTC6NWOO</th>\n",
       "      <th>GCTC7NBAR</th>\n",
       "      <th>GCTC7NGRE</th>\n",
       "    </tr>\n",
       "  </thead>\n",
       "  <tbody>\n",
       "    <tr>\n",
       "      <th>0</th>\n",
       "      <td>MOBILE_CITYCOUNC-ALG</td>\n",
       "      <td>Mobile City</td>\n",
       "      <td>ALG</td>\n",
       "      <td>142</td>\n",
       "      <td>4876</td>\n",
       "      <td>7568</td>\n",
       "      <td>21365</td>\n",
       "      <td>239</td>\n",
       "      <td>0</td>\n",
       "      <td>0</td>\n",
       "      <td>0</td>\n",
       "      <td>0</td>\n",
       "      <td>0</td>\n",
       "      <td>0</td>\n",
       "      <td>0</td>\n",
       "      <td>0</td>\n",
       "      <td>0</td>\n",
       "      <td>0</td>\n",
       "      <td>0</td>\n",
       "      <td>0</td>\n",
       "      <td>0</td>\n",
       "      <td>0</td>\n",
       "      <td>0</td>\n",
       "      <td>0</td>\n",
       "      <td>0</td>\n",
       "      <td>0</td>\n",
       "      <td>0</td>\n",
       "      <td>0</td>\n",
       "      <td>0</td>\n",
       "      <td>0</td>\n",
       "      <td>0</td>\n",
       "      <td>0</td>\n",
       "      <td>0</td>\n",
       "      <td>0</td>\n",
       "    </tr>\n",
       "    <tr>\n",
       "      <th>1</th>\n",
       "      <td>MOBILE_CITYCOUNC-D1</td>\n",
       "      <td>Mobile City</td>\n",
       "      <td>1</td>\n",
       "      <td>0</td>\n",
       "      <td>0</td>\n",
       "      <td>0</td>\n",
       "      <td>0</td>\n",
       "      <td>0</td>\n",
       "      <td>206</td>\n",
       "      <td>262</td>\n",
       "      <td>1652</td>\n",
       "      <td>1320</td>\n",
       "      <td>1080</td>\n",
       "      <td>123</td>\n",
       "      <td>68</td>\n",
       "      <td>0</td>\n",
       "      <td>0</td>\n",
       "      <td>0</td>\n",
       "      <td>0</td>\n",
       "      <td>0</td>\n",
       "      <td>0</td>\n",
       "      <td>0</td>\n",
       "      <td>0</td>\n",
       "      <td>0</td>\n",
       "      <td>0</td>\n",
       "      <td>0</td>\n",
       "      <td>0</td>\n",
       "      <td>0</td>\n",
       "      <td>0</td>\n",
       "      <td>0</td>\n",
       "      <td>0</td>\n",
       "      <td>0</td>\n",
       "      <td>0</td>\n",
       "      <td>0</td>\n",
       "    </tr>\n",
       "  </tbody>\n",
       "</table>\n",
       "</div>"
      ],
      "text/plain": [
       "              UNIQUE_ID      MNCIPAL DISTRICT  G21MYRNELY  G21MYRNFIN  \\\n",
       "0  MOBILE_CITYCOUNC-ALG  Mobile City      ALG         142        4876   \n",
       "1   MOBILE_CITYCOUNC-D1  Mobile City        1           0           0   \n",
       "\n",
       "   G21MYRNRIC  G21MYRNSTI  G21MYRNYOU  GCTC1NBER  GCTC1NHOL  GCTC1NPEN  \\\n",
       "0        7568       21365         239          0          0          0   \n",
       "1           0           0           0        206        262       1652   \n",
       "\n",
       "   GCTC1NTHH  GCTC1NTHC  GCTC1NWES  GCTC1NWRI  GCTC2NCAF  GCTC2NCAR  \\\n",
       "0          0          0          0          0          0          0   \n",
       "1       1320       1080        123         68          0          0   \n",
       "\n",
       "   GCTC2NHIL  GCTC2NMAN  GCTC2NMCK  GCTC2NMIN  GCTC3NCAR  GCTC3NSMA  \\\n",
       "0          0          0          0          0          0          0   \n",
       "1          0          0          0          0          0          0   \n",
       "\n",
       "   GCTC4NRET  GCTC4NREY  GCTC5NCOP  GCTC5NDAV  GCTC5NWRI  GCTC6NDUG  \\\n",
       "0          0          0          0          0          0          0   \n",
       "1          0          0          0          0          0          0   \n",
       "\n",
       "   GCTC6NJON  GCTC6NPEN  GCTC6NWOO  GCTC7NBAR  GCTC7NGRE  \n",
       "0          0          0          0          0          0  \n",
       "1          0          0          0          0          0  "
      ]
     },
     "execution_count": 2,
     "metadata": {},
     "output_type": "execute_result"
    }
   ],
   "source": [
    "#Election Returns\n",
    "er = pd.read_csv(\"./raw-from-source/MOBILE_ER_PROC.csv\")\n",
    "er.head(2)"
   ]
  },
  {
   "cell_type": "code",
   "execution_count": 3,
   "id": "18abee9c",
   "metadata": {},
   "outputs": [],
   "source": [
    "#Alabama 2020 Census blocks\n",
    "alblocks = gp.read_file(\"./raw-from-source/al_b_2020_bound/al_b_2020_bound.shp\")\n",
    "# Subset to just Mobile County, FIP code 097\n",
    "mobileblocks = alblocks[alblocks['COUNTYFP20'] == '097'][['GEOID20', 'geometry']]\n",
    "#mobileblocks.to_file(\"./raw-from-source/mobileblocks.geojson\")"
   ]
  },
  {
   "cell_type": "code",
   "execution_count": 4,
   "id": "175a0faf",
   "metadata": {},
   "outputs": [
    {
     "data": {
      "text/plain": [
       "9916"
      ]
     },
     "execution_count": 4,
     "metadata": {},
     "output_type": "execute_result"
    }
   ],
   "source": [
    "len(mobileblocks)"
   ]
  },
  {
   "cell_type": "code",
   "execution_count": 5,
   "id": "e4a57f4e",
   "metadata": {},
   "outputs": [
    {
     "data": {
      "text/plain": [
       "<AxesSubplot:>"
      ]
     },
     "execution_count": 5,
     "metadata": {},
     "output_type": "execute_result"
    },
    {
     "data": {
      "image/png": "[encoded data removed]",
      "text/plain": [
       "<Figure size 432x288 with 1 Axes>"
      ]
     },
     "metadata": {
      "needs_background": "light"
     },
     "output_type": "display_data"
    }
   ],
   "source": [
    "mobileblocks.plot()"
   ]
  },
  {
   "cell_type": "code",
   "execution_count": 6,
   "id": "4813f376",
   "metadata": {},
   "outputs": [
    {
     "data": {
      "text/plain": [
       "<AxesSubplot:>"
      ]
     },
     "execution_count": 6,
     "metadata": {},
     "output_type": "execute_result"
    },
    {
     "data": {
      "image/png": "[encoded data removed]",
      "text/plain": [
       "<Figure size 432x288 with 1 Axes>"
      ]
     },
     "metadata": {
      "needs_background": "light"
     },
     "output_type": "display_data"
    }
   ],
   "source": [
    "#Census Place Mobile boundaries\n",
    "shp = gp.read_file(\"./raw-from-source/tl_2020_01_place/tl_2020_01_place.shp\")\n",
    "mobile = shp[shp['NAME'] == 'Mobile']\n",
    "mobile.plot()"
   ]
  },
  {
   "cell_type": "code",
   "execution_count": 7,
   "id": "2b0693ec",
   "metadata": {},
   "outputs": [],
   "source": [
    "#Clip Mobile County blocks to Mobile, AL boundaries from Census\n",
    "clipped = gp.clip(mobileblocks, mobile.geometry)\n",
    "len(clipped.GEOID20.unique()) # number of unique census blocks\n",
    "clipped.to_file(\"./raw-from-source/mobile_cbp.geojson\")"
   ]
  },
  {
   "cell_type": "code",
   "execution_count": 8,
   "id": "d1586821",
   "metadata": {},
   "outputs": [
    {
     "data": {
      "text/plain": [
       "<AxesSubplot:>"
      ]
     },
     "execution_count": 8,
     "metadata": {},
     "output_type": "execute_result"
    },
    {
     "data": {
      "image/png": "[encoded data removed]",
      "text/plain": [
       "<Figure size 432x288 with 1 Axes>"
      ]
     },
     "metadata": {
      "needs_background": "light"
     },
     "output_type": "display_data"
    }
   ],
   "source": [
    "clipped.plot()"
   ]
  },
  {
   "cell_type": "markdown",
   "id": "ca24f70f",
   "metadata": {},
   "source": [
    "<p><a name=\"shp\"></a></p>\n",
    "\n",
    "### Create Ward Boundaries and Block Assignment File\n",
    "In QGIS, PDF map of city council wards was georeferenced. Mobile 2020 Census place blocks were overlaid, and each ward shape was created by selecting\n",
    "1. Every census block that was wholly contained within ward shape for all 7 wards\n",
    "2. 119 Additional census blocks that were contained within ward shape 6, but not contained in 2020 census place.\n",
    "3. 39 Additional census blocks that were contained within ward shape 7, but not contained in 2020 census place."
   ]
  },
  {
   "cell_type": "code",
   "execution_count": 13,
   "id": "f2d34de3",
   "metadata": {},
   "outputs": [],
   "source": [
    "# Read in shapefiles of all blocks from census place\n",
    "mobile_blocks = gp.read_file(\"./raw-from-source/mobile_wards.geojson\")\n",
    "# Read in shapefiles for additional blocks\n",
    "d6_add = gp.read_file(\"./raw-from-source/add_d6.geojson\")\n",
    "d7_add = gp.read_file(\"./raw-from-source/add_d7.geojson\")"
   ]
  },
  {
   "cell_type": "code",
   "execution_count": 14,
   "id": "cd2d0268",
   "metadata": {},
   "outputs": [],
   "source": [
    "# Ensure column types are the same\n",
    "d6_add['DISTRICT'] = d6_add['DISTRICT'].astype('int64')\n",
    "d7_add['DISTRICT'] = d7_add['DISTRICT'].astype('int64')\n",
    "mobile_blocks['DISTRICT'] = mobile_blocks['DISTRICT'].astype('int64')"
   ]
  },
  {
   "cell_type": "code",
   "execution_count": 15,
   "id": "79d31722",
   "metadata": {},
   "outputs": [
    {
     "data": {
      "text/plain": [
       "4363"
      ]
     },
     "execution_count": 15,
     "metadata": {},
     "output_type": "execute_result"
    }
   ],
   "source": [
    "# Combine additional blocks\n",
    "mob_all_blocks = mobile_blocks.append([d6_add, d7_add], ignore_index=True)\n",
    "len(mob_all_blocks)"
   ]
  },
  {
   "cell_type": "code",
   "execution_count": 16,
   "id": "6dc26940",
   "metadata": {},
   "outputs": [
    {
     "data": {
      "text/plain": [
       "array([2, 1, 7, 5, 6, 3, 4], dtype=int64)"
      ]
     },
     "execution_count": 16,
     "metadata": {},
     "output_type": "execute_result"
    }
   ],
   "source": [
    "#Check\n",
    "mob_all_blocks['DISTRICT'].unique()"
   ]
  },
  {
   "cell_type": "code",
   "execution_count": 17,
   "id": "d5a742b7",
   "metadata": {},
   "outputs": [
    {
     "data": {
      "text/html": [
       "<div>\n",
       "<style scoped>\n",
       "    .dataframe tbody tr th:only-of-type {\n",
       "        vertical-align: middle;\n",
       "    }\n",
       "\n",
       "    .dataframe tbody tr th {\n",
       "        vertical-align: top;\n",
       "    }\n",
       "\n",
       "    .dataframe thead th {\n",
       "        text-align: right;\n",
       "    }\n",
       "</style>\n",
       "<table border=\"1\" class=\"dataframe\">\n",
       "  <thead>\n",
       "    <tr style=\"text-align: right;\">\n",
       "      <th></th>\n",
       "      <th>GEOID20</th>\n",
       "      <th>DISTRICT</th>\n",
       "    </tr>\n",
       "  </thead>\n",
       "  <tbody>\n",
       "    <tr>\n",
       "      <th>4344</th>\n",
       "      <td>010970064023006</td>\n",
       "      <td>7</td>\n",
       "    </tr>\n",
       "  </tbody>\n",
       "</table>\n",
       "</div>"
      ],
      "text/plain": [
       "              GEOID20  DISTRICT\n",
       "4344  010970064023006         7"
      ]
     },
     "execution_count": 17,
     "metadata": {},
     "output_type": "execute_result"
    }
   ],
   "source": [
    "# Create BAF\n",
    "baf = mob_all_blocks[['GEOID20', 'DISTRICT']]\n",
    "baf.columns = ['GEOID20', 'DISTRICT']\n",
    "#Check for duplicates\n",
    "baf[baf['GEOID20'].duplicated()]"
   ]
  },
  {
   "cell_type": "code",
   "execution_count": 18,
   "id": "d1b49e3f",
   "metadata": {},
   "outputs": [],
   "source": [
    "# Drop duplicates\n",
    "baf_no_dup = baf.drop_duplicates(subset=['GEOID20'])\n",
    "mob_all_blocks_2 = mob_all_blocks.drop_duplicates(subset=['GEOID20'])"
   ]
  },
  {
   "cell_type": "code",
   "execution_count": 19,
   "id": "88f7e431",
   "metadata": {},
   "outputs": [
    {
     "data": {
      "text/html": [
       "<div>\n",
       "<style scoped>\n",
       "    .dataframe tbody tr th:only-of-type {\n",
       "        vertical-align: middle;\n",
       "    }\n",
       "\n",
       "    .dataframe tbody tr th {\n",
       "        vertical-align: top;\n",
       "    }\n",
       "\n",
       "    .dataframe thead th {\n",
       "        text-align: right;\n",
       "    }\n",
       "</style>\n",
       "<table border=\"1\" class=\"dataframe\">\n",
       "  <thead>\n",
       "    <tr style=\"text-align: right;\">\n",
       "      <th></th>\n",
       "      <th>GEOID20</th>\n",
       "      <th>DISTRICT</th>\n",
       "    </tr>\n",
       "  </thead>\n",
       "  <tbody>\n",
       "  </tbody>\n",
       "</table>\n",
       "</div>"
      ],
      "text/plain": [
       "Empty DataFrame\n",
       "Columns: [GEOID20, DISTRICT]\n",
       "Index: []"
      ]
     },
     "execution_count": 19,
     "metadata": {},
     "output_type": "execute_result"
    }
   ],
   "source": [
    "#Check for duplicates\n",
    "baf_no_dup[baf_no_dup['GEOID20'].duplicated()]"
   ]
  },
  {
   "cell_type": "code",
   "execution_count": 20,
   "id": "09f3101e",
   "metadata": {},
   "outputs": [
    {
     "data": {
      "text/html": [
       "<div>\n",
       "<style scoped>\n",
       "    .dataframe tbody tr th:only-of-type {\n",
       "        vertical-align: middle;\n",
       "    }\n",
       "\n",
       "    .dataframe tbody tr th {\n",
       "        vertical-align: top;\n",
       "    }\n",
       "\n",
       "    .dataframe thead th {\n",
       "        text-align: right;\n",
       "    }\n",
       "</style>\n",
       "<table border=\"1\" class=\"dataframe\">\n",
       "  <thead>\n",
       "    <tr style=\"text-align: right;\">\n",
       "      <th></th>\n",
       "      <th>GEOID20</th>\n",
       "      <th>DISTRICT</th>\n",
       "      <th>geometry</th>\n",
       "    </tr>\n",
       "  </thead>\n",
       "  <tbody>\n",
       "  </tbody>\n",
       "</table>\n",
       "</div>"
      ],
      "text/plain": [
       "Empty GeoDataFrame\n",
       "Columns: [GEOID20, DISTRICT, geometry]\n",
       "Index: []"
      ]
     },
     "execution_count": 20,
     "metadata": {},
     "output_type": "execute_result"
    }
   ],
   "source": [
    "#check\n",
    "mob_all_blocks_2[mob_all_blocks_2['GEOID20'].duplicated()]"
   ]
  },
  {
   "cell_type": "markdown",
   "id": "13e1657b",
   "metadata": {},
   "source": [
    "Dissolve block shapefile into at large shape"
   ]
  },
  {
   "cell_type": "code",
   "execution_count": 21,
   "id": "bd1bb889",
   "metadata": {},
   "outputs": [],
   "source": [
    "mob_alg = mob_all_blocks_2.dissolve()"
   ]
  },
  {
   "cell_type": "code",
   "execution_count": 22,
   "id": "5ccb7681",
   "metadata": {},
   "outputs": [
    {
     "data": {
      "text/plain": [
       "<AxesSubplot:>"
      ]
     },
     "execution_count": 22,
     "metadata": {},
     "output_type": "execute_result"
    },
    {
     "data": {
      "image/png": "[encoded data removed]",
      "text/plain": [
       "<Figure size 432x288 with 1 Axes>"
      ]
     },
     "metadata": {
      "needs_background": "light"
     },
     "output_type": "display_data"
    }
   ],
   "source": [
    "#Drop GEOID20 Column\n",
    "mob_alg = mob_alg.drop('GEOID20', axis = 1)\n",
    "#At large district\n",
    "mob_alg['DISTRICT'] = 'ALG'\n",
    "mob_alg.plot()"
   ]
  },
  {
   "cell_type": "markdown",
   "id": "512d0a38",
   "metadata": {},
   "source": [
    "Dissolve block shapefile into ward shapes"
   ]
  },
  {
   "cell_type": "code",
   "execution_count": 23,
   "id": "2fca18ba",
   "metadata": {},
   "outputs": [
    {
     "data": {
      "text/html": [
       "<div>\n",
       "<style scoped>\n",
       "    .dataframe tbody tr th:only-of-type {\n",
       "        vertical-align: middle;\n",
       "    }\n",
       "\n",
       "    .dataframe tbody tr th {\n",
       "        vertical-align: top;\n",
       "    }\n",
       "\n",
       "    .dataframe thead th {\n",
       "        text-align: right;\n",
       "    }\n",
       "</style>\n",
       "<table border=\"1\" class=\"dataframe\">\n",
       "  <thead>\n",
       "    <tr style=\"text-align: right;\">\n",
       "      <th></th>\n",
       "      <th>DISTRICT</th>\n",
       "      <th>geometry</th>\n",
       "    </tr>\n",
       "  </thead>\n",
       "  <tbody>\n",
       "    <tr>\n",
       "      <th>0</th>\n",
       "      <td>1</td>\n",
       "      <td>POLYGON ((-88.09681 30.72464, -88.09644 30.724...</td>\n",
       "    </tr>\n",
       "    <tr>\n",
       "      <th>1</th>\n",
       "      <td>2</td>\n",
       "      <td>MULTIPOLYGON (((-88.07940 30.66235, -88.07959 ...</td>\n",
       "    </tr>\n",
       "    <tr>\n",
       "      <th>2</th>\n",
       "      <td>3</td>\n",
       "      <td>POLYGON ((-88.08436 30.56097, -88.08476 30.560...</td>\n",
       "    </tr>\n",
       "    <tr>\n",
       "      <th>3</th>\n",
       "      <td>4</td>\n",
       "      <td>POLYGON ((-88.13006 30.53374, -88.13189 30.533...</td>\n",
       "    </tr>\n",
       "    <tr>\n",
       "      <th>4</th>\n",
       "      <td>5</td>\n",
       "      <td>POLYGON ((-88.16075 30.64878, -88.16084 30.648...</td>\n",
       "    </tr>\n",
       "    <tr>\n",
       "      <th>5</th>\n",
       "      <td>6</td>\n",
       "      <td>POLYGON ((-88.18654 30.60369, -88.18650 30.596...</td>\n",
       "    </tr>\n",
       "    <tr>\n",
       "      <th>6</th>\n",
       "      <td>7</td>\n",
       "      <td>MULTIPOLYGON (((-88.16063 30.69125, -88.16075 ...</td>\n",
       "    </tr>\n",
       "  </tbody>\n",
       "</table>\n",
       "</div>"
      ],
      "text/plain": [
       "   DISTRICT                                           geometry\n",
       "0         1  POLYGON ((-88.09681 30.72464, -88.09644 30.724...\n",
       "1         2  MULTIPOLYGON (((-88.07940 30.66235, -88.07959 ...\n",
       "2         3  POLYGON ((-88.08436 30.56097, -88.08476 30.560...\n",
       "3         4  POLYGON ((-88.13006 30.53374, -88.13189 30.533...\n",
       "4         5  POLYGON ((-88.16075 30.64878, -88.16084 30.648...\n",
       "5         6  POLYGON ((-88.18654 30.60369, -88.18650 30.596...\n",
       "6         7  MULTIPOLYGON (((-88.16063 30.69125, -88.16075 ..."
      ]
     },
     "execution_count": 23,
     "metadata": {},
     "output_type": "execute_result"
    }
   ],
   "source": [
    "#dissolve by ward\n",
    "mob_wards = mob_all_blocks_2.dissolve(by='DISTRICT').drop('GEOID20', axis = 1).reset_index()\n",
    "#rename columns\n",
    "mob_wards.columns = ['DISTRICT', 'geometry']\n",
    "mob_wards"
   ]
  },
  {
   "cell_type": "code",
   "execution_count": 24,
   "id": "8c03e171",
   "metadata": {},
   "outputs": [
    {
     "data": {
      "text/plain": [
       "<AxesSubplot:>"
      ]
     },
     "execution_count": 24,
     "metadata": {},
     "output_type": "execute_result"
    },
    {
     "data": {
      "image/png": "[encoded data removed]",
      "text/plain": [
       "<Figure size 432x288 with 1 Axes>"
      ]
     },
     "metadata": {
      "needs_background": "light"
     },
     "output_type": "display_data"
    }
   ],
   "source": [
    "mob_wards.plot()"
   ]
  },
  {
   "cell_type": "code",
   "execution_count": 27,
   "id": "fc05a3da",
   "metadata": {},
   "outputs": [],
   "source": [
    "#Append atlarge df\n",
    "mob_wards_int = mob_wards.append(mob_alg)\n",
    "mob_wards_final = mob_wards_int.dissolve(by='DISTRICT').reset_index()"
   ]
  },
  {
   "cell_type": "code",
   "execution_count": 28,
   "id": "f38b6830",
   "metadata": {},
   "outputs": [
    {
     "data": {
      "text/html": [
       "<div>\n",
       "<style scoped>\n",
       "    .dataframe tbody tr th:only-of-type {\n",
       "        vertical-align: middle;\n",
       "    }\n",
       "\n",
       "    .dataframe tbody tr th {\n",
       "        vertical-align: top;\n",
       "    }\n",
       "\n",
       "    .dataframe thead th {\n",
       "        text-align: right;\n",
       "    }\n",
       "</style>\n",
       "<table border=\"1\" class=\"dataframe\">\n",
       "  <thead>\n",
       "    <tr style=\"text-align: right;\">\n",
       "      <th></th>\n",
       "      <th>DISTRICT</th>\n",
       "      <th>geometry</th>\n",
       "    </tr>\n",
       "  </thead>\n",
       "  <tbody>\n",
       "    <tr>\n",
       "      <th>0</th>\n",
       "      <td>1</td>\n",
       "      <td>POLYGON ((-88.09681 30.72464, -88.09644 30.724...</td>\n",
       "    </tr>\n",
       "    <tr>\n",
       "      <th>1</th>\n",
       "      <td>2</td>\n",
       "      <td>MULTIPOLYGON (((-88.07959 30.66237, -88.08028 ...</td>\n",
       "    </tr>\n",
       "    <tr>\n",
       "      <th>2</th>\n",
       "      <td>3</td>\n",
       "      <td>POLYGON ((-88.08436 30.56097, -88.08476 30.560...</td>\n",
       "    </tr>\n",
       "    <tr>\n",
       "      <th>3</th>\n",
       "      <td>4</td>\n",
       "      <td>POLYGON ((-88.13006 30.53374, -88.13189 30.533...</td>\n",
       "    </tr>\n",
       "    <tr>\n",
       "      <th>4</th>\n",
       "      <td>5</td>\n",
       "      <td>POLYGON ((-88.16075 30.64878, -88.16084 30.648...</td>\n",
       "    </tr>\n",
       "    <tr>\n",
       "      <th>5</th>\n",
       "      <td>6</td>\n",
       "      <td>POLYGON ((-88.18654 30.60369, -88.18650 30.596...</td>\n",
       "    </tr>\n",
       "    <tr>\n",
       "      <th>6</th>\n",
       "      <td>7</td>\n",
       "      <td>MULTIPOLYGON (((-88.14034 30.72049, -88.13987 ...</td>\n",
       "    </tr>\n",
       "    <tr>\n",
       "      <th>7</th>\n",
       "      <td>ALG</td>\n",
       "      <td>MULTIPOLYGON (((-88.14088 30.53303, -88.14091 ...</td>\n",
       "    </tr>\n",
       "  </tbody>\n",
       "</table>\n",
       "</div>"
      ],
      "text/plain": [
       "  DISTRICT                                           geometry\n",
       "0        1  POLYGON ((-88.09681 30.72464, -88.09644 30.724...\n",
       "1        2  MULTIPOLYGON (((-88.07959 30.66237, -88.08028 ...\n",
       "2        3  POLYGON ((-88.08436 30.56097, -88.08476 30.560...\n",
       "3        4  POLYGON ((-88.13006 30.53374, -88.13189 30.533...\n",
       "4        5  POLYGON ((-88.16075 30.64878, -88.16084 30.648...\n",
       "5        6  POLYGON ((-88.18654 30.60369, -88.18650 30.596...\n",
       "6        7  MULTIPOLYGON (((-88.14034 30.72049, -88.13987 ...\n",
       "7      ALG  MULTIPOLYGON (((-88.14088 30.53303, -88.14091 ..."
      ]
     },
     "execution_count": 28,
     "metadata": {},
     "output_type": "execute_result"
    }
   ],
   "source": [
    "mob_wards_final"
   ]
  },
  {
   "cell_type": "markdown",
   "id": "6587ba33",
   "metadata": {},
   "source": [
    "### Join with Election Returns"
   ]
  },
  {
   "cell_type": "code",
   "execution_count": 31,
   "id": "ca67cd28",
   "metadata": {},
   "outputs": [],
   "source": [
    "#make sure ward column types are same\n",
    "er['DISTRICT'] = er['DISTRICT'].astype('str')\n",
    "mob_wards_final['DISTRICT'] = mob_wards_final['DISTRICT'].astype('str')"
   ]
  },
  {
   "cell_type": "code",
   "execution_count": 32,
   "id": "307b46f9",
   "metadata": {},
   "outputs": [],
   "source": [
    "# merge\n",
    "mob_pber = er.merge(mob_wards_final, on='DISTRICT', how = 'right', indicator=True)"
   ]
  },
  {
   "cell_type": "code",
   "execution_count": 33,
   "id": "d510bd21",
   "metadata": {},
   "outputs": [
    {
     "data": {
      "text/plain": [
       "both          8\n",
       "left_only     0\n",
       "right_only    0\n",
       "Name: _merge, dtype: int64"
      ]
     },
     "execution_count": 33,
     "metadata": {},
     "output_type": "execute_result"
    }
   ],
   "source": [
    "#check indicator to see if merge was successful\n",
    "mob_pber._merge.value_counts()"
   ]
  },
  {
   "cell_type": "code",
   "execution_count": 34,
   "id": "ba319d76",
   "metadata": {},
   "outputs": [],
   "source": [
    "#Drop merge column\n",
    "mob_pber.drop(labels = ['_merge'], axis = 1, inplace = True)"
   ]
  },
  {
   "cell_type": "code",
   "execution_count": 35,
   "id": "75a6d770",
   "metadata": {},
   "outputs": [
    {
     "data": {
      "text/plain": [
       "geopandas.geodataframe.GeoDataFrame"
      ]
     },
     "execution_count": 35,
     "metadata": {},
     "output_type": "execute_result"
    }
   ],
   "source": [
    "#Geodf\n",
    "mob_pber = gp.GeoDataFrame(mob_pber, geometry='geometry')\n",
    "#check\n",
    "type(mob_pber)"
   ]
  },
  {
   "cell_type": "code",
   "execution_count": 36,
   "id": "ce39581c",
   "metadata": {},
   "outputs": [
    {
     "data": {
      "text/plain": [
       "<AxesSubplot:>"
      ]
     },
     "execution_count": 36,
     "metadata": {},
     "output_type": "execute_result"
    },
    {
     "data": {
      "image/png": "[encoded data removed]",
      "text/plain": [
       "<Figure size 432x288 with 1 Axes>"
      ]
     },
     "metadata": {
      "needs_background": "light"
     },
     "output_type": "display_data"
    }
   ],
   "source": [
    "mob_pber.plot()"
   ]
  },
  {
   "cell_type": "code",
   "execution_count": 38,
   "id": "231dd7e5",
   "metadata": {
    "scrolled": true
   },
   "outputs": [
    {
     "data": {
      "text/html": [
       "<div>\n",
       "<style scoped>\n",
       "    .dataframe tbody tr th:only-of-type {\n",
       "        vertical-align: middle;\n",
       "    }\n",
       "\n",
       "    .dataframe tbody tr th {\n",
       "        vertical-align: top;\n",
       "    }\n",
       "\n",
       "    .dataframe thead th {\n",
       "        text-align: right;\n",
       "    }\n",
       "</style>\n",
       "<table border=\"1\" class=\"dataframe\">\n",
       "  <thead>\n",
       "    <tr style=\"text-align: right;\">\n",
       "      <th></th>\n",
       "      <th>UNIQUE_ID</th>\n",
       "      <th>MNCIPAL</th>\n",
       "      <th>DISTRICT</th>\n",
       "      <th>G21MYRNELY</th>\n",
       "      <th>G21MYRNFIN</th>\n",
       "      <th>G21MYRNRIC</th>\n",
       "      <th>G21MYRNSTI</th>\n",
       "      <th>G21MYRNYOU</th>\n",
       "      <th>GCTC1NBER</th>\n",
       "      <th>GCTC1NHOL</th>\n",
       "      <th>GCTC1NPEN</th>\n",
       "      <th>GCTC1NTHH</th>\n",
       "      <th>GCTC1NTHC</th>\n",
       "      <th>GCTC1NWES</th>\n",
       "      <th>GCTC1NWRI</th>\n",
       "      <th>GCTC2NCAF</th>\n",
       "      <th>GCTC2NCAR</th>\n",
       "      <th>GCTC2NHIL</th>\n",
       "      <th>GCTC2NMAN</th>\n",
       "      <th>GCTC2NMCK</th>\n",
       "      <th>GCTC2NMIN</th>\n",
       "      <th>GCTC3NCAR</th>\n",
       "      <th>GCTC3NSMA</th>\n",
       "      <th>GCTC4NRET</th>\n",
       "      <th>GCTC4NREY</th>\n",
       "      <th>GCTC5NCOP</th>\n",
       "      <th>GCTC5NDAV</th>\n",
       "      <th>GCTC5NWRI</th>\n",
       "      <th>GCTC6NDUG</th>\n",
       "      <th>GCTC6NJON</th>\n",
       "      <th>GCTC6NPEN</th>\n",
       "      <th>GCTC6NWOO</th>\n",
       "      <th>GCTC7NBAR</th>\n",
       "      <th>GCTC7NGRE</th>\n",
       "      <th>geometry</th>\n",
       "    </tr>\n",
       "  </thead>\n",
       "  <tbody>\n",
       "    <tr>\n",
       "      <th>0</th>\n",
       "      <td>MOBILE_CITYCOUNC-D1</td>\n",
       "      <td>Mobile City</td>\n",
       "      <td>1</td>\n",
       "      <td>0</td>\n",
       "      <td>0</td>\n",
       "      <td>0</td>\n",
       "      <td>0</td>\n",
       "      <td>0</td>\n",
       "      <td>206</td>\n",
       "      <td>262</td>\n",
       "      <td>1652</td>\n",
       "      <td>1320</td>\n",
       "      <td>1080</td>\n",
       "      <td>123</td>\n",
       "      <td>68</td>\n",
       "      <td>0</td>\n",
       "      <td>0</td>\n",
       "      <td>0</td>\n",
       "      <td>0</td>\n",
       "      <td>0</td>\n",
       "      <td>0</td>\n",
       "      <td>0</td>\n",
       "      <td>0</td>\n",
       "      <td>0</td>\n",
       "      <td>0</td>\n",
       "      <td>0</td>\n",
       "      <td>0</td>\n",
       "      <td>0</td>\n",
       "      <td>0</td>\n",
       "      <td>0</td>\n",
       "      <td>0</td>\n",
       "      <td>0</td>\n",
       "      <td>0</td>\n",
       "      <td>0</td>\n",
       "      <td>POLYGON ((-88.09681 30.72464, -88.09644 30.724...</td>\n",
       "    </tr>\n",
       "    <tr>\n",
       "      <th>1</th>\n",
       "      <td>MOBILE_CITYCOUNC-D2</td>\n",
       "      <td>Mobile City</td>\n",
       "      <td>2</td>\n",
       "      <td>0</td>\n",
       "      <td>0</td>\n",
       "      <td>0</td>\n",
       "      <td>0</td>\n",
       "      <td>0</td>\n",
       "      <td>0</td>\n",
       "      <td>0</td>\n",
       "      <td>0</td>\n",
       "      <td>0</td>\n",
       "      <td>0</td>\n",
       "      <td>0</td>\n",
       "      <td>0</td>\n",
       "      <td>354</td>\n",
       "      <td>1085</td>\n",
       "      <td>190</td>\n",
       "      <td>2279</td>\n",
       "      <td>163</td>\n",
       "      <td>732</td>\n",
       "      <td>0</td>\n",
       "      <td>0</td>\n",
       "      <td>0</td>\n",
       "      <td>0</td>\n",
       "      <td>0</td>\n",
       "      <td>0</td>\n",
       "      <td>0</td>\n",
       "      <td>0</td>\n",
       "      <td>0</td>\n",
       "      <td>0</td>\n",
       "      <td>0</td>\n",
       "      <td>0</td>\n",
       "      <td>0</td>\n",
       "      <td>MULTIPOLYGON (((-88.07959 30.66237, -88.08028 ...</td>\n",
       "    </tr>\n",
       "    <tr>\n",
       "      <th>2</th>\n",
       "      <td>MOBILE_CITYCOUNC-D3</td>\n",
       "      <td>Mobile City</td>\n",
       "      <td>3</td>\n",
       "      <td>0</td>\n",
       "      <td>0</td>\n",
       "      <td>0</td>\n",
       "      <td>0</td>\n",
       "      <td>0</td>\n",
       "      <td>0</td>\n",
       "      <td>0</td>\n",
       "      <td>0</td>\n",
       "      <td>0</td>\n",
       "      <td>0</td>\n",
       "      <td>0</td>\n",
       "      <td>0</td>\n",
       "      <td>0</td>\n",
       "      <td>0</td>\n",
       "      <td>0</td>\n",
       "      <td>0</td>\n",
       "      <td>0</td>\n",
       "      <td>0</td>\n",
       "      <td>335</td>\n",
       "      <td>2896</td>\n",
       "      <td>0</td>\n",
       "      <td>0</td>\n",
       "      <td>0</td>\n",
       "      <td>0</td>\n",
       "      <td>0</td>\n",
       "      <td>0</td>\n",
       "      <td>0</td>\n",
       "      <td>0</td>\n",
       "      <td>0</td>\n",
       "      <td>0</td>\n",
       "      <td>0</td>\n",
       "      <td>POLYGON ((-88.08436 30.56097, -88.08476 30.560...</td>\n",
       "    </tr>\n",
       "    <tr>\n",
       "      <th>3</th>\n",
       "      <td>MOBILE_CITYCOUNC-D4</td>\n",
       "      <td>Mobile City</td>\n",
       "      <td>4</td>\n",
       "      <td>0</td>\n",
       "      <td>0</td>\n",
       "      <td>0</td>\n",
       "      <td>0</td>\n",
       "      <td>0</td>\n",
       "      <td>0</td>\n",
       "      <td>0</td>\n",
       "      <td>0</td>\n",
       "      <td>0</td>\n",
       "      <td>0</td>\n",
       "      <td>0</td>\n",
       "      <td>0</td>\n",
       "      <td>0</td>\n",
       "      <td>0</td>\n",
       "      <td>0</td>\n",
       "      <td>0</td>\n",
       "      <td>0</td>\n",
       "      <td>0</td>\n",
       "      <td>0</td>\n",
       "      <td>0</td>\n",
       "      <td>1857</td>\n",
       "      <td>3432</td>\n",
       "      <td>0</td>\n",
       "      <td>0</td>\n",
       "      <td>0</td>\n",
       "      <td>0</td>\n",
       "      <td>0</td>\n",
       "      <td>0</td>\n",
       "      <td>0</td>\n",
       "      <td>0</td>\n",
       "      <td>0</td>\n",
       "      <td>POLYGON ((-88.13006 30.53374, -88.13189 30.533...</td>\n",
       "    </tr>\n",
       "    <tr>\n",
       "      <th>4</th>\n",
       "      <td>MOBILE_CITYCOUNC-D5</td>\n",
       "      <td>Mobile City</td>\n",
       "      <td>5</td>\n",
       "      <td>0</td>\n",
       "      <td>0</td>\n",
       "      <td>0</td>\n",
       "      <td>0</td>\n",
       "      <td>0</td>\n",
       "      <td>0</td>\n",
       "      <td>0</td>\n",
       "      <td>0</td>\n",
       "      <td>0</td>\n",
       "      <td>0</td>\n",
       "      <td>0</td>\n",
       "      <td>0</td>\n",
       "      <td>0</td>\n",
       "      <td>0</td>\n",
       "      <td>0</td>\n",
       "      <td>0</td>\n",
       "      <td>0</td>\n",
       "      <td>0</td>\n",
       "      <td>0</td>\n",
       "      <td>0</td>\n",
       "      <td>0</td>\n",
       "      <td>0</td>\n",
       "      <td>365</td>\n",
       "      <td>3098</td>\n",
       "      <td>660</td>\n",
       "      <td>0</td>\n",
       "      <td>0</td>\n",
       "      <td>0</td>\n",
       "      <td>0</td>\n",
       "      <td>0</td>\n",
       "      <td>0</td>\n",
       "      <td>POLYGON ((-88.16075 30.64878, -88.16084 30.648...</td>\n",
       "    </tr>\n",
       "  </tbody>\n",
       "</table>\n",
       "</div>"
      ],
      "text/plain": [
       "             UNIQUE_ID      MNCIPAL DISTRICT  G21MYRNELY  G21MYRNFIN  \\\n",
       "0  MOBILE_CITYCOUNC-D1  Mobile City        1           0           0   \n",
       "1  MOBILE_CITYCOUNC-D2  Mobile City        2           0           0   \n",
       "2  MOBILE_CITYCOUNC-D3  Mobile City        3           0           0   \n",
       "3  MOBILE_CITYCOUNC-D4  Mobile City        4           0           0   \n",
       "4  MOBILE_CITYCOUNC-D5  Mobile City        5           0           0   \n",
       "\n",
       "   G21MYRNRIC  G21MYRNSTI  G21MYRNYOU  GCTC1NBER  GCTC1NHOL  GCTC1NPEN  \\\n",
       "0           0           0           0        206        262       1652   \n",
       "1           0           0           0          0          0          0   \n",
       "2           0           0           0          0          0          0   \n",
       "3           0           0           0          0          0          0   \n",
       "4           0           0           0          0          0          0   \n",
       "\n",
       "   GCTC1NTHH  GCTC1NTHC  GCTC1NWES  GCTC1NWRI  GCTC2NCAF  GCTC2NCAR  \\\n",
       "0       1320       1080        123         68          0          0   \n",
       "1          0          0          0          0        354       1085   \n",
       "2          0          0          0          0          0          0   \n",
       "3          0          0          0          0          0          0   \n",
       "4          0          0          0          0          0          0   \n",
       "\n",
       "   GCTC2NHIL  GCTC2NMAN  GCTC2NMCK  GCTC2NMIN  GCTC3NCAR  GCTC3NSMA  \\\n",
       "0          0          0          0          0          0          0   \n",
       "1        190       2279        163        732          0          0   \n",
       "2          0          0          0          0        335       2896   \n",
       "3          0          0          0          0          0          0   \n",
       "4          0          0          0          0          0          0   \n",
       "\n",
       "   GCTC4NRET  GCTC4NREY  GCTC5NCOP  GCTC5NDAV  GCTC5NWRI  GCTC6NDUG  \\\n",
       "0          0          0          0          0          0          0   \n",
       "1          0          0          0          0          0          0   \n",
       "2          0          0          0          0          0          0   \n",
       "3       1857       3432          0          0          0          0   \n",
       "4          0          0        365       3098        660          0   \n",
       "\n",
       "   GCTC6NJON  GCTC6NPEN  GCTC6NWOO  GCTC7NBAR  GCTC7NGRE  \\\n",
       "0          0          0          0          0          0   \n",
       "1          0          0          0          0          0   \n",
       "2          0          0          0          0          0   \n",
       "3          0          0          0          0          0   \n",
       "4          0          0          0          0          0   \n",
       "\n",
       "                                            geometry  \n",
       "0  POLYGON ((-88.09681 30.72464, -88.09644 30.724...  \n",
       "1  MULTIPOLYGON (((-88.07959 30.66237, -88.08028 ...  \n",
       "2  POLYGON ((-88.08436 30.56097, -88.08476 30.560...  \n",
       "3  POLYGON ((-88.13006 30.53374, -88.13189 30.533...  \n",
       "4  POLYGON ((-88.16075 30.64878, -88.16084 30.648...  "
      ]
     },
     "execution_count": 38,
     "metadata": {},
     "output_type": "execute_result"
    }
   ],
   "source": [
    "mob_pber.head()"
   ]
  },
  {
   "cell_type": "code",
   "execution_count": 48,
   "id": "9f71bac6",
   "metadata": {},
   "outputs": [
    {
     "data": {
      "text/plain": [
       "<AxesSubplot:>"
      ]
     },
     "execution_count": 48,
     "metadata": {},
     "output_type": "execute_result"
    },
    {
     "data": {
      "image/png": "[encoded data removed]",
      "text/plain": [
       "<Figure size 432x288 with 1 Axes>"
      ]
     },
     "metadata": {
      "needs_background": "light"
     },
     "output_type": "display_data"
    }
   ],
   "source": [
    "alg_mob = mob_pber[mob_pber['DISTRICT'] == 'ALG']\n",
    "dist_mob = mob_pber[mob_pber['DISTRICT'] != 'ALG']\n",
    "alg_mob.plot()"
   ]
  },
  {
   "cell_type": "code",
   "execution_count": 49,
   "id": "ff2a6887",
   "metadata": {},
   "outputs": [
    {
     "data": {
      "text/html": [
       "<div>\n",
       "<style scoped>\n",
       "    .dataframe tbody tr th:only-of-type {\n",
       "        vertical-align: middle;\n",
       "    }\n",
       "\n",
       "    .dataframe tbody tr th {\n",
       "        vertical-align: top;\n",
       "    }\n",
       "\n",
       "    .dataframe thead th {\n",
       "        text-align: right;\n",
       "    }\n",
       "</style>\n",
       "<table border=\"1\" class=\"dataframe\">\n",
       "  <thead>\n",
       "    <tr style=\"text-align: right;\">\n",
       "      <th></th>\n",
       "      <th>UNIQUE_ID</th>\n",
       "      <th>MNCIPAL</th>\n",
       "      <th>DISTRICT</th>\n",
       "      <th>G21MYRNELY</th>\n",
       "      <th>G21MYRNFIN</th>\n",
       "      <th>G21MYRNRIC</th>\n",
       "      <th>G21MYRNSTI</th>\n",
       "      <th>G21MYRNYOU</th>\n",
       "      <th>GCTC1NBER</th>\n",
       "      <th>GCTC1NHOL</th>\n",
       "      <th>GCTC1NPEN</th>\n",
       "      <th>GCTC1NTHH</th>\n",
       "      <th>GCTC1NTHC</th>\n",
       "      <th>GCTC1NWES</th>\n",
       "      <th>GCTC1NWRI</th>\n",
       "      <th>GCTC2NCAF</th>\n",
       "      <th>GCTC2NCAR</th>\n",
       "      <th>GCTC2NHIL</th>\n",
       "      <th>GCTC2NMAN</th>\n",
       "      <th>GCTC2NMCK</th>\n",
       "      <th>GCTC2NMIN</th>\n",
       "      <th>GCTC3NCAR</th>\n",
       "      <th>GCTC3NSMA</th>\n",
       "      <th>GCTC4NRET</th>\n",
       "      <th>GCTC4NREY</th>\n",
       "      <th>GCTC5NCOP</th>\n",
       "      <th>GCTC5NDAV</th>\n",
       "      <th>GCTC5NWRI</th>\n",
       "      <th>GCTC6NDUG</th>\n",
       "      <th>GCTC6NJON</th>\n",
       "      <th>GCTC6NPEN</th>\n",
       "      <th>GCTC6NWOO</th>\n",
       "      <th>GCTC7NBAR</th>\n",
       "      <th>GCTC7NGRE</th>\n",
       "      <th>geometry</th>\n",
       "    </tr>\n",
       "  </thead>\n",
       "  <tbody>\n",
       "    <tr>\n",
       "      <th>0</th>\n",
       "      <td>MOBILE_CITYCOUNC-D1</td>\n",
       "      <td>Mobile City</td>\n",
       "      <td>1</td>\n",
       "      <td>0</td>\n",
       "      <td>0</td>\n",
       "      <td>0</td>\n",
       "      <td>0</td>\n",
       "      <td>0</td>\n",
       "      <td>206</td>\n",
       "      <td>262</td>\n",
       "      <td>1652</td>\n",
       "      <td>1320</td>\n",
       "      <td>1080</td>\n",
       "      <td>123</td>\n",
       "      <td>68</td>\n",
       "      <td>0</td>\n",
       "      <td>0</td>\n",
       "      <td>0</td>\n",
       "      <td>0</td>\n",
       "      <td>0</td>\n",
       "      <td>0</td>\n",
       "      <td>0</td>\n",
       "      <td>0</td>\n",
       "      <td>0</td>\n",
       "      <td>0</td>\n",
       "      <td>0</td>\n",
       "      <td>0</td>\n",
       "      <td>0</td>\n",
       "      <td>0</td>\n",
       "      <td>0</td>\n",
       "      <td>0</td>\n",
       "      <td>0</td>\n",
       "      <td>0</td>\n",
       "      <td>0</td>\n",
       "      <td>POLYGON ((-88.09681 30.72464, -88.09644 30.724...</td>\n",
       "    </tr>\n",
       "    <tr>\n",
       "      <th>1</th>\n",
       "      <td>MOBILE_CITYCOUNC-D2</td>\n",
       "      <td>Mobile City</td>\n",
       "      <td>2</td>\n",
       "      <td>0</td>\n",
       "      <td>0</td>\n",
       "      <td>0</td>\n",
       "      <td>0</td>\n",
       "      <td>0</td>\n",
       "      <td>0</td>\n",
       "      <td>0</td>\n",
       "      <td>0</td>\n",
       "      <td>0</td>\n",
       "      <td>0</td>\n",
       "      <td>0</td>\n",
       "      <td>0</td>\n",
       "      <td>354</td>\n",
       "      <td>1085</td>\n",
       "      <td>190</td>\n",
       "      <td>2279</td>\n",
       "      <td>163</td>\n",
       "      <td>732</td>\n",
       "      <td>0</td>\n",
       "      <td>0</td>\n",
       "      <td>0</td>\n",
       "      <td>0</td>\n",
       "      <td>0</td>\n",
       "      <td>0</td>\n",
       "      <td>0</td>\n",
       "      <td>0</td>\n",
       "      <td>0</td>\n",
       "      <td>0</td>\n",
       "      <td>0</td>\n",
       "      <td>0</td>\n",
       "      <td>0</td>\n",
       "      <td>MULTIPOLYGON (((-88.07959 30.66237, -88.08028 ...</td>\n",
       "    </tr>\n",
       "    <tr>\n",
       "      <th>2</th>\n",
       "      <td>MOBILE_CITYCOUNC-D3</td>\n",
       "      <td>Mobile City</td>\n",
       "      <td>3</td>\n",
       "      <td>0</td>\n",
       "      <td>0</td>\n",
       "      <td>0</td>\n",
       "      <td>0</td>\n",
       "      <td>0</td>\n",
       "      <td>0</td>\n",
       "      <td>0</td>\n",
       "      <td>0</td>\n",
       "      <td>0</td>\n",
       "      <td>0</td>\n",
       "      <td>0</td>\n",
       "      <td>0</td>\n",
       "      <td>0</td>\n",
       "      <td>0</td>\n",
       "      <td>0</td>\n",
       "      <td>0</td>\n",
       "      <td>0</td>\n",
       "      <td>0</td>\n",
       "      <td>335</td>\n",
       "      <td>2896</td>\n",
       "      <td>0</td>\n",
       "      <td>0</td>\n",
       "      <td>0</td>\n",
       "      <td>0</td>\n",
       "      <td>0</td>\n",
       "      <td>0</td>\n",
       "      <td>0</td>\n",
       "      <td>0</td>\n",
       "      <td>0</td>\n",
       "      <td>0</td>\n",
       "      <td>0</td>\n",
       "      <td>POLYGON ((-88.08436 30.56097, -88.08476 30.560...</td>\n",
       "    </tr>\n",
       "    <tr>\n",
       "      <th>3</th>\n",
       "      <td>MOBILE_CITYCOUNC-D4</td>\n",
       "      <td>Mobile City</td>\n",
       "      <td>4</td>\n",
       "      <td>0</td>\n",
       "      <td>0</td>\n",
       "      <td>0</td>\n",
       "      <td>0</td>\n",
       "      <td>0</td>\n",
       "      <td>0</td>\n",
       "      <td>0</td>\n",
       "      <td>0</td>\n",
       "      <td>0</td>\n",
       "      <td>0</td>\n",
       "      <td>0</td>\n",
       "      <td>0</td>\n",
       "      <td>0</td>\n",
       "      <td>0</td>\n",
       "      <td>0</td>\n",
       "      <td>0</td>\n",
       "      <td>0</td>\n",
       "      <td>0</td>\n",
       "      <td>0</td>\n",
       "      <td>0</td>\n",
       "      <td>1857</td>\n",
       "      <td>3432</td>\n",
       "      <td>0</td>\n",
       "      <td>0</td>\n",
       "      <td>0</td>\n",
       "      <td>0</td>\n",
       "      <td>0</td>\n",
       "      <td>0</td>\n",
       "      <td>0</td>\n",
       "      <td>0</td>\n",
       "      <td>0</td>\n",
       "      <td>POLYGON ((-88.13006 30.53374, -88.13189 30.533...</td>\n",
       "    </tr>\n",
       "    <tr>\n",
       "      <th>4</th>\n",
       "      <td>MOBILE_CITYCOUNC-D5</td>\n",
       "      <td>Mobile City</td>\n",
       "      <td>5</td>\n",
       "      <td>0</td>\n",
       "      <td>0</td>\n",
       "      <td>0</td>\n",
       "      <td>0</td>\n",
       "      <td>0</td>\n",
       "      <td>0</td>\n",
       "      <td>0</td>\n",
       "      <td>0</td>\n",
       "      <td>0</td>\n",
       "      <td>0</td>\n",
       "      <td>0</td>\n",
       "      <td>0</td>\n",
       "      <td>0</td>\n",
       "      <td>0</td>\n",
       "      <td>0</td>\n",
       "      <td>0</td>\n",
       "      <td>0</td>\n",
       "      <td>0</td>\n",
       "      <td>0</td>\n",
       "      <td>0</td>\n",
       "      <td>0</td>\n",
       "      <td>0</td>\n",
       "      <td>365</td>\n",
       "      <td>3098</td>\n",
       "      <td>660</td>\n",
       "      <td>0</td>\n",
       "      <td>0</td>\n",
       "      <td>0</td>\n",
       "      <td>0</td>\n",
       "      <td>0</td>\n",
       "      <td>0</td>\n",
       "      <td>POLYGON ((-88.16075 30.64878, -88.16084 30.648...</td>\n",
       "    </tr>\n",
       "    <tr>\n",
       "      <th>5</th>\n",
       "      <td>MOBILE_CITYCOUNC-D6</td>\n",
       "      <td>Mobile City</td>\n",
       "      <td>6</td>\n",
       "      <td>0</td>\n",
       "      <td>0</td>\n",
       "      <td>0</td>\n",
       "      <td>0</td>\n",
       "      <td>0</td>\n",
       "      <td>0</td>\n",
       "      <td>0</td>\n",
       "      <td>0</td>\n",
       "      <td>0</td>\n",
       "      <td>0</td>\n",
       "      <td>0</td>\n",
       "      <td>0</td>\n",
       "      <td>0</td>\n",
       "      <td>0</td>\n",
       "      <td>0</td>\n",
       "      <td>0</td>\n",
       "      <td>0</td>\n",
       "      <td>0</td>\n",
       "      <td>0</td>\n",
       "      <td>0</td>\n",
       "      <td>0</td>\n",
       "      <td>0</td>\n",
       "      <td>0</td>\n",
       "      <td>0</td>\n",
       "      <td>0</td>\n",
       "      <td>661</td>\n",
       "      <td>2500</td>\n",
       "      <td>436</td>\n",
       "      <td>2162</td>\n",
       "      <td>0</td>\n",
       "      <td>0</td>\n",
       "      <td>POLYGON ((-88.18654 30.60369, -88.18650 30.596...</td>\n",
       "    </tr>\n",
       "    <tr>\n",
       "      <th>6</th>\n",
       "      <td>MOBILE_CITYCOUNC-D7</td>\n",
       "      <td>Mobile City</td>\n",
       "      <td>7</td>\n",
       "      <td>0</td>\n",
       "      <td>0</td>\n",
       "      <td>0</td>\n",
       "      <td>0</td>\n",
       "      <td>0</td>\n",
       "      <td>0</td>\n",
       "      <td>0</td>\n",
       "      <td>0</td>\n",
       "      <td>0</td>\n",
       "      <td>0</td>\n",
       "      <td>0</td>\n",
       "      <td>0</td>\n",
       "      <td>0</td>\n",
       "      <td>0</td>\n",
       "      <td>0</td>\n",
       "      <td>0</td>\n",
       "      <td>0</td>\n",
       "      <td>0</td>\n",
       "      <td>0</td>\n",
       "      <td>0</td>\n",
       "      <td>0</td>\n",
       "      <td>0</td>\n",
       "      <td>0</td>\n",
       "      <td>0</td>\n",
       "      <td>0</td>\n",
       "      <td>0</td>\n",
       "      <td>0</td>\n",
       "      <td>0</td>\n",
       "      <td>0</td>\n",
       "      <td>1094</td>\n",
       "      <td>4432</td>\n",
       "      <td>MULTIPOLYGON (((-88.14034 30.72049, -88.13987 ...</td>\n",
       "    </tr>\n",
       "  </tbody>\n",
       "</table>\n",
       "</div>"
      ],
      "text/plain": [
       "             UNIQUE_ID      MNCIPAL DISTRICT  G21MYRNELY  G21MYRNFIN  \\\n",
       "0  MOBILE_CITYCOUNC-D1  Mobile City        1           0           0   \n",
       "1  MOBILE_CITYCOUNC-D2  Mobile City        2           0           0   \n",
       "2  MOBILE_CITYCOUNC-D3  Mobile City        3           0           0   \n",
       "3  MOBILE_CITYCOUNC-D4  Mobile City        4           0           0   \n",
       "4  MOBILE_CITYCOUNC-D5  Mobile City        5           0           0   \n",
       "5  MOBILE_CITYCOUNC-D6  Mobile City        6           0           0   \n",
       "6  MOBILE_CITYCOUNC-D7  Mobile City        7           0           0   \n",
       "\n",
       "   G21MYRNRIC  G21MYRNSTI  G21MYRNYOU  GCTC1NBER  GCTC1NHOL  GCTC1NPEN  \\\n",
       "0           0           0           0        206        262       1652   \n",
       "1           0           0           0          0          0          0   \n",
       "2           0           0           0          0          0          0   \n",
       "3           0           0           0          0          0          0   \n",
       "4           0           0           0          0          0          0   \n",
       "5           0           0           0          0          0          0   \n",
       "6           0           0           0          0          0          0   \n",
       "\n",
       "   GCTC1NTHH  GCTC1NTHC  GCTC1NWES  GCTC1NWRI  GCTC2NCAF  GCTC2NCAR  \\\n",
       "0       1320       1080        123         68          0          0   \n",
       "1          0          0          0          0        354       1085   \n",
       "2          0          0          0          0          0          0   \n",
       "3          0          0          0          0          0          0   \n",
       "4          0          0          0          0          0          0   \n",
       "5          0          0          0          0          0          0   \n",
       "6          0          0          0          0          0          0   \n",
       "\n",
       "   GCTC2NHIL  GCTC2NMAN  GCTC2NMCK  GCTC2NMIN  GCTC3NCAR  GCTC3NSMA  \\\n",
       "0          0          0          0          0          0          0   \n",
       "1        190       2279        163        732          0          0   \n",
       "2          0          0          0          0        335       2896   \n",
       "3          0          0          0          0          0          0   \n",
       "4          0          0          0          0          0          0   \n",
       "5          0          0          0          0          0          0   \n",
       "6          0          0          0          0          0          0   \n",
       "\n",
       "   GCTC4NRET  GCTC4NREY  GCTC5NCOP  GCTC5NDAV  GCTC5NWRI  GCTC6NDUG  \\\n",
       "0          0          0          0          0          0          0   \n",
       "1          0          0          0          0          0          0   \n",
       "2          0          0          0          0          0          0   \n",
       "3       1857       3432          0          0          0          0   \n",
       "4          0          0        365       3098        660          0   \n",
       "5          0          0          0          0          0        661   \n",
       "6          0          0          0          0          0          0   \n",
       "\n",
       "   GCTC6NJON  GCTC6NPEN  GCTC6NWOO  GCTC7NBAR  GCTC7NGRE  \\\n",
       "0          0          0          0          0          0   \n",
       "1          0          0          0          0          0   \n",
       "2          0          0          0          0          0   \n",
       "3          0          0          0          0          0   \n",
       "4          0          0          0          0          0   \n",
       "5       2500        436       2162          0          0   \n",
       "6          0          0          0       1094       4432   \n",
       "\n",
       "                                            geometry  \n",
       "0  POLYGON ((-88.09681 30.72464, -88.09644 30.724...  \n",
       "1  MULTIPOLYGON (((-88.07959 30.66237, -88.08028 ...  \n",
       "2  POLYGON ((-88.08436 30.56097, -88.08476 30.560...  \n",
       "3  POLYGON ((-88.13006 30.53374, -88.13189 30.533...  \n",
       "4  POLYGON ((-88.16075 30.64878, -88.16084 30.648...  \n",
       "5  POLYGON ((-88.18654 30.60369, -88.18650 30.596...  \n",
       "6  MULTIPOLYGON (((-88.14034 30.72049, -88.13987 ...  "
      ]
     },
     "execution_count": 49,
     "metadata": {},
     "output_type": "execute_result"
    }
   ],
   "source": [
    "dist_mob"
   ]
  },
  {
   "cell_type": "markdown",
   "id": "6e91fc7b",
   "metadata": {},
   "source": [
    "<p><a name=\"exp\"></a></p>\n",
    "\n",
    "### Export Cleaned Datasets"
   ]
  },
  {
   "cell_type": "code",
   "execution_count": 54,
   "id": "6295690d",
   "metadata": {},
   "outputs": [],
   "source": [
    "if not os.path.exists(\"./AL21_MOBILE_PBER/AL21_MOBILE_DIST_PBER\"):\n",
    "    os.mkdir(\"./AL21_MOBILE_PBER/AL21_MOBILE_DIST_PBER\")\n",
    "\n",
    "if not os.path.exists(\"./AL21_MOBILE_PBER/AL21_MOBILE_ALG_PBER\"):\n",
    "    os.mkdir(\"./AL21_MOBILE_PBER/AL21_MOBILE_ALG_PBER\")\n",
    "\n",
    "dist_mob.to_file(\"./AL21_MOBILE_PBER/AL21_MOBILE_DIST_PBER/AL21_MOBILE_DIST_PBER.shp\")\n",
    "alg_mob.to_file(\"./AL21_MOBILE_PBER/AL21_MOBILE_ALG_PBER/AL21_MOBILE_ALG_PBER.shp\")\n",
    "baf.to_csv('./AL21_MOBILE_PBER/AL21_MOBILE_BAF.csv', index=False)"
   ]
  }
 ],
 "metadata": {
  "kernelspec": {
   "display_name": "Python 3",
   "language": "python",
   "name": "python3"
  },
  "language_info": {
   "codemirror_mode": {
    "name": "ipython",
    "version": 3
   },
   "file_extension": ".py",
   "mimetype": "text/x-python",
   "name": "python",
   "nbconvert_exporter": "python",
   "pygments_lexer": "ipython3",
   "version": "3.8.8"
  }
 },
 "nbformat": 4,
 "nbformat_minor": 5
}
