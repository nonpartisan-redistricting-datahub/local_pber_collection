{
 "cells": [
  {
   "cell_type": "markdown",
   "id": "2316ed04",
   "metadata": {},
   "source": [
    "## Homewood, AL 2020 City Council Election Results and Boundaries"
   ]
  },
  {
   "cell_type": "markdown",
   "id": "9a55f61b",
   "metadata": {},
   "source": [
    "### Sections\n",
    "- <a href=\"#join\">Read in Input Files and Join</a><br>\n",
    "- <a href=\"#shp\">Create Ward Boundaries</a><br>\n",
    "- <a href=\"#maup\">Join with Election Returns</a><br>\n",
    "- <a href=\"#exp\">Export Cleaned Datasets</a><br>\n",
    "\n",
    "#### Sources\n",
    "\n",
    "- [Homewood, AL 2020 Municipal Election Returns, Ward Level PDF](https://irp-cdn.multiscreensite.com/441cb6f7/files/uploaded/2020%20COH%20Official%20Election%20Results.pdf)) \n",
    "- [Homewood, AL Voting Wards Screenshots](https://www.cityofhomewood.com/whos-my-councilor)\n",
    "- [RDH Alabama 2020 Census Block Boundaries](https://redistrictingdatahub.org/dataset/alabama-block-boundaries-2020/)\n",
    "-[Census Place Boundaries for City of Homewood](https://data.census.gov/map/160XX00US0103076?layer=VT_2022_160_V2_PY_D1&loc=43.3751,-113.1138,z4.0000)"
   ]
  },
  {
   "cell_type": "code",
   "execution_count": 1,
   "id": "786c464d",
   "metadata": {},
   "outputs": [],
   "source": [
    "import pandas as pd\n",
    "import geopandas as gp\n",
    "import os\n",
    "import numpy as np\n",
    "import matplotlib.pyplot as plt\n",
    "pd.set_option('display.max_rows', 1000)\n",
    "pd.set_option('display.max_columns', 1000)"
   ]
  },
  {
   "cell_type": "markdown",
   "id": "c322eddd",
   "metadata": {},
   "source": [
    "<p><a name=\"join\"></a></p>\n",
    "\n",
    "### Read in input files"
   ]
  },
  {
   "cell_type": "markdown",
   "id": "78b93aab",
   "metadata": {},
   "source": [
    "Election returns were transcribed from PDF to machine readable format, and checked for accuracy."
   ]
  },
  {
   "cell_type": "code",
   "execution_count": 2,
   "id": "9ce77391",
   "metadata": {},
   "outputs": [
    {
     "data": {
      "text/html": [
       "<div>\n",
       "<style scoped>\n",
       "    .dataframe tbody tr th:only-of-type {\n",
       "        vertical-align: middle;\n",
       "    }\n",
       "\n",
       "    .dataframe tbody tr th {\n",
       "        vertical-align: top;\n",
       "    }\n",
       "\n",
       "    .dataframe thead th {\n",
       "        text-align: right;\n",
       "    }\n",
       "</style>\n",
       "<table border=\"1\" class=\"dataframe\">\n",
       "  <thead>\n",
       "    <tr style=\"text-align: right;\">\n",
       "      <th></th>\n",
       "      <th>UNIQUE_ID</th>\n",
       "      <th>MNCIPAL</th>\n",
       "      <th>WARD</th>\n",
       "      <th>G20MYRNLAN</th>\n",
       "      <th>G20MYRNMCB</th>\n",
       "      <th>G20MYRNMCC</th>\n",
       "      <th>GCTC1NGEE</th>\n",
       "      <th>GCTC1NTHA</th>\n",
       "      <th>GCTC2NALE</th>\n",
       "      <th>GCTC2NNEW</th>\n",
       "      <th>GCTC2NBAY</th>\n",
       "      <th>GCTC2NLEB</th>\n",
       "      <th>GCTC2NLIM</th>\n",
       "      <th>GCTC2NWOL</th>\n",
       "      <th>GCTCN3HAR</th>\n",
       "      <th>GCTC3NSIM</th>\n",
       "      <th>GCTC3NWIL</th>\n",
       "      <th>GCTC3NJON</th>\n",
       "      <th>GCTC3NNAN</th>\n",
       "      <th>GCTC3NQUI</th>\n",
       "      <th>GCTC4NHAI</th>\n",
       "      <th>GCTC4NSMI</th>\n",
       "      <th>GCTC4NBAT</th>\n",
       "      <th>GCTC4NNEL</th>\n",
       "      <th>GCTC5NFOS</th>\n",
       "      <th>GCTC5NHAR</th>\n",
       "      <th>GCTC5NISB</th>\n",
       "    </tr>\n",
       "  </thead>\n",
       "  <tbody>\n",
       "    <tr>\n",
       "      <th>0</th>\n",
       "      <td>HOMEWOOD_CITYCOUNC-W1</td>\n",
       "      <td>Homewood City</td>\n",
       "      <td>1</td>\n",
       "      <td>284</td>\n",
       "      <td>168</td>\n",
       "      <td>273</td>\n",
       "      <td>426</td>\n",
       "      <td>299</td>\n",
       "      <td>0</td>\n",
       "      <td>0</td>\n",
       "      <td>0</td>\n",
       "      <td>0</td>\n",
       "      <td>0</td>\n",
       "      <td>0</td>\n",
       "      <td>0</td>\n",
       "      <td>0</td>\n",
       "      <td>0</td>\n",
       "      <td>0</td>\n",
       "      <td>0</td>\n",
       "      <td>0</td>\n",
       "      <td>0</td>\n",
       "      <td>0</td>\n",
       "      <td>0</td>\n",
       "      <td>0</td>\n",
       "      <td>0</td>\n",
       "      <td>0</td>\n",
       "      <td>0</td>\n",
       "    </tr>\n",
       "    <tr>\n",
       "      <th>1</th>\n",
       "      <td>HOMEWOOD_CITYCOUNC-W2</td>\n",
       "      <td>Homewood City</td>\n",
       "      <td>2</td>\n",
       "      <td>245</td>\n",
       "      <td>384</td>\n",
       "      <td>468</td>\n",
       "      <td>0</td>\n",
       "      <td>0</td>\n",
       "      <td>638</td>\n",
       "      <td>421</td>\n",
       "      <td>316</td>\n",
       "      <td>181</td>\n",
       "      <td>145</td>\n",
       "      <td>447</td>\n",
       "      <td>0</td>\n",
       "      <td>0</td>\n",
       "      <td>0</td>\n",
       "      <td>0</td>\n",
       "      <td>0</td>\n",
       "      <td>0</td>\n",
       "      <td>0</td>\n",
       "      <td>0</td>\n",
       "      <td>0</td>\n",
       "      <td>0</td>\n",
       "      <td>0</td>\n",
       "      <td>0</td>\n",
       "      <td>0</td>\n",
       "    </tr>\n",
       "  </tbody>\n",
       "</table>\n",
       "</div>"
      ],
      "text/plain": [
       "               UNIQUE_ID        MNCIPAL  WARD  G20MYRNLAN  G20MYRNMCB  \\\n",
       "0  HOMEWOOD_CITYCOUNC-W1  Homewood City     1         284         168   \n",
       "1  HOMEWOOD_CITYCOUNC-W2  Homewood City     2         245         384   \n",
       "\n",
       "   G20MYRNMCC  GCTC1NGEE  GCTC1NTHA  GCTC2NALE  GCTC2NNEW  GCTC2NBAY  \\\n",
       "0         273        426        299          0          0          0   \n",
       "1         468          0          0        638        421        316   \n",
       "\n",
       "   GCTC2NLEB  GCTC2NLIM  GCTC2NWOL  GCTCN3HAR  GCTC3NSIM  GCTC3NWIL  \\\n",
       "0          0          0          0          0          0          0   \n",
       "1        181        145        447          0          0          0   \n",
       "\n",
       "   GCTC3NJON  GCTC3NNAN  GCTC3NQUI  GCTC4NHAI  GCTC4NSMI  GCTC4NBAT  \\\n",
       "0          0          0          0          0          0          0   \n",
       "1          0          0          0          0          0          0   \n",
       "\n",
       "   GCTC4NNEL  GCTC5NFOS  GCTC5NHAR  GCTC5NISB  \n",
       "0          0          0          0          0  \n",
       "1          0          0          0          0  "
      ]
     },
     "execution_count": 2,
     "metadata": {},
     "output_type": "execute_result"
    }
   ],
   "source": [
    "#Election Returns\n",
    "er = pd.read_csv(\"./raw-from-source/HOMEWOOD_ER_PROC.csv\")\n",
    "er.head(2)"
   ]
  },
  {
   "cell_type": "code",
   "execution_count": 3,
   "id": "98a2d13b",
   "metadata": {},
   "outputs": [],
   "source": [
    "#Alabama 2020 Census blocks\n",
    "alblocks = gp.read_file(\"./raw-from-source/al_b_2020_bound/al_b_2020_bound.shp\")\n",
    "# Subset to just Jefferson County, FIP code 081\n",
    "jeffblocks = alblocks[alblocks['COUNTYFP20'] == '073'][['GEOID20', 'geometry']]\n",
    "#jeffblocks.to_file(\"./raw-from-source/jeffblocks.geojson\")"
   ]
  },
  {
   "cell_type": "code",
   "execution_count": 4,
   "id": "e20198b9",
   "metadata": {},
   "outputs": [
    {
     "data": {
      "text/plain": [
       "24469"
      ]
     },
     "execution_count": 4,
     "metadata": {},
     "output_type": "execute_result"
    }
   ],
   "source": [
    "len(jeffblocks)"
   ]
  },
  {
   "cell_type": "code",
   "execution_count": 5,
   "id": "bbc1e7bc",
   "metadata": {
    "scrolled": true
   },
   "outputs": [
    {
     "data": {
      "text/plain": [
       "<AxesSubplot:>"
      ]
     },
     "execution_count": 5,
     "metadata": {},
     "output_type": "execute_result"
    },
    {
     "data": {
      "image/png": "[encoded data removed]",
      "text/plain": [
       "<Figure size 432x288 with 1 Axes>"
      ]
     },
     "metadata": {
      "needs_background": "light"
     },
     "output_type": "display_data"
    }
   ],
   "source": [
    "#Census Place Homewood boundaries\n",
    "shp = gp.read_file(\"./raw-from-source/tl_2020_01_place/tl_2020_01_place.shp\")\n",
    "homewood = shp[shp['NAME'] == 'Homewood']\n",
    "homewood.plot()"
   ]
  },
  {
   "cell_type": "code",
   "execution_count": 6,
   "id": "04fb331e",
   "metadata": {},
   "outputs": [
    {
     "data": {
      "text/plain": [
       "875"
      ]
     },
     "execution_count": 6,
     "metadata": {},
     "output_type": "execute_result"
    }
   ],
   "source": [
    "#Clip Jeff County blocks to Homewood, AL boundaries from Census\n",
    "clipped = gp.clip(jeffblocks, homewood.geometry)\n",
    "len(clipped.GEOID20.unique()) # number of unique census blocks\n",
    "#clipped.to_file(\"./raw-from-source/homewood_cbp.geojson\")"
   ]
  },
  {
   "cell_type": "markdown",
   "id": "0a8dc398",
   "metadata": {},
   "source": [
    "<p><a name=\"shp\"></a></p>\n",
    "\n",
    "### Create Ward Boundaries and Block Assignment File\n",
    "In QGIS, screenshots of ward boundaries from https://www.cityofhomewood.com/whos-my-councilor were georeferenced. Homewood 2020 Census place blocks were overlaid, and each ward shape was created by selecting\n",
    "1. Every census block that was wholly contained within ward shape for all 5 wards\n",
    "2. 43 Additional census blocks that were contained within ward shape, but not contained in 2020 census place."
   ]
  },
  {
   "cell_type": "code",
   "execution_count": 7,
   "id": "55ebcf43",
   "metadata": {},
   "outputs": [],
   "source": [
    "# Read in shapefiles of all blocks from census place\n",
    "hw_blocks = gp.read_file(\"./raw-from-source/homewood_wards.geojson\")\n",
    "# Read in shapefiles for additional blocks\n",
    "hw_add = gp.read_file(\"./raw-from-source/add_homewood_blocks.geojson\")"
   ]
  },
  {
   "cell_type": "code",
   "execution_count": 8,
   "id": "47f0ce3e",
   "metadata": {},
   "outputs": [],
   "source": [
    "# Combine additional blocks\n",
    "hw_all_blocks = hw_blocks.append(hw_add)"
   ]
  },
  {
   "cell_type": "code",
   "execution_count": 9,
   "id": "b409123b",
   "metadata": {},
   "outputs": [
    {
     "data": {
      "text/html": [
       "<div>\n",
       "<style scoped>\n",
       "    .dataframe tbody tr th:only-of-type {\n",
       "        vertical-align: middle;\n",
       "    }\n",
       "\n",
       "    .dataframe tbody tr th {\n",
       "        vertical-align: top;\n",
       "    }\n",
       "\n",
       "    .dataframe thead th {\n",
       "        text-align: right;\n",
       "    }\n",
       "</style>\n",
       "<table border=\"1\" class=\"dataframe\">\n",
       "  <thead>\n",
       "    <tr style=\"text-align: right;\">\n",
       "      <th></th>\n",
       "      <th>GEOID20</th>\n",
       "      <th>WARD</th>\n",
       "    </tr>\n",
       "  </thead>\n",
       "  <tbody>\n",
       "  </tbody>\n",
       "</table>\n",
       "</div>"
      ],
      "text/plain": [
       "Empty DataFrame\n",
       "Columns: [GEOID20, WARD]\n",
       "Index: []"
      ]
     },
     "execution_count": 9,
     "metadata": {},
     "output_type": "execute_result"
    }
   ],
   "source": [
    "# Create BAF\n",
    "baf = hw_all_blocks[['GEOID20', 'Ward']]\n",
    "baf.columns = ['GEOID20', 'WARD']\n",
    "#Check for duplicates\n",
    "baf[baf['GEOID20'].duplicated()]"
   ]
  },
  {
   "cell_type": "markdown",
   "id": "4762f191",
   "metadata": {},
   "source": [
    "Dissolve block shapefile into ward shapes"
   ]
  },
  {
   "cell_type": "code",
   "execution_count": 10,
   "id": "4a59fd69",
   "metadata": {},
   "outputs": [],
   "source": [
    "#dissolve by ward\n",
    "hw_wards = hw_all_blocks.dissolve(by='Ward').drop('GEOID20', axis = 1).reset_index()\n",
    "#rename columns\n",
    "hw_wards.columns = ['WARD', 'geometry']"
   ]
  },
  {
   "cell_type": "code",
   "execution_count": 11,
   "id": "9ceea4c1",
   "metadata": {
    "scrolled": true
   },
   "outputs": [
    {
     "data": {
      "text/plain": [
       "<AxesSubplot:>"
      ]
     },
     "execution_count": 11,
     "metadata": {},
     "output_type": "execute_result"
    },
    {
     "data": {
      "image/png": "[encoded data removed]",
      "text/plain": [
       "<Figure size 432x288 with 1 Axes>"
      ]
     },
     "metadata": {
      "needs_background": "light"
     },
     "output_type": "display_data"
    }
   ],
   "source": [
    "hw_wards.plot()"
   ]
  },
  {
   "cell_type": "code",
   "execution_count": 12,
   "id": "8ebfe96e",
   "metadata": {},
   "outputs": [
    {
     "data": {
      "text/plain": [
       "WARD          object\n",
       "geometry    geometry\n",
       "dtype: object"
      ]
     },
     "execution_count": 12,
     "metadata": {},
     "output_type": "execute_result"
    }
   ],
   "source": [
    "hw_wards.dtypes"
   ]
  },
  {
   "cell_type": "markdown",
   "id": "984cceff",
   "metadata": {},
   "source": [
    "### Join with Election Returns"
   ]
  },
  {
   "cell_type": "code",
   "execution_count": 13,
   "id": "47397bf5",
   "metadata": {
    "scrolled": false
   },
   "outputs": [],
   "source": [
    "#make sure ward column types are same\n",
    "er['WARD'] = er['WARD'].astype('int64')\n",
    "hw_wards['WARD'] = hw_wards['WARD'].astype('int64')"
   ]
  },
  {
   "cell_type": "code",
   "execution_count": 14,
   "id": "8152dbb5",
   "metadata": {},
   "outputs": [],
   "source": [
    "# merge\n",
    "homewood_pber = er.merge(hw_wards, on='WARD', how = 'right', indicator=True)"
   ]
  },
  {
   "cell_type": "code",
   "execution_count": 15,
   "id": "7fcc5736",
   "metadata": {
    "scrolled": true
   },
   "outputs": [
    {
     "data": {
      "text/plain": [
       "both          5\n",
       "left_only     0\n",
       "right_only    0\n",
       "Name: _merge, dtype: int64"
      ]
     },
     "execution_count": 15,
     "metadata": {},
     "output_type": "execute_result"
    }
   ],
   "source": [
    "#check indicator to see if merge was successful\n",
    "homewood_pber._merge.value_counts()"
   ]
  },
  {
   "cell_type": "code",
   "execution_count": 16,
   "id": "3df20a0d",
   "metadata": {},
   "outputs": [],
   "source": [
    "#Drop merge column\n",
    "homewood_pber.drop(labels = ['_merge'], axis = 1, inplace = True)"
   ]
  },
  {
   "cell_type": "code",
   "execution_count": 17,
   "id": "7e641274",
   "metadata": {},
   "outputs": [
    {
     "data": {
      "text/plain": [
       "geopandas.geodataframe.GeoDataFrame"
      ]
     },
     "execution_count": 17,
     "metadata": {},
     "output_type": "execute_result"
    }
   ],
   "source": [
    "#Geodf\n",
    "homewood_pber = gp.GeoDataFrame(homewood_pber, geometry='geometry')\n",
    "#check\n",
    "type(homewood_pber)"
   ]
  },
  {
   "cell_type": "code",
   "execution_count": 18,
   "id": "bf880d5e",
   "metadata": {
    "scrolled": false
   },
   "outputs": [
    {
     "data": {
      "text/plain": [
       "<AxesSubplot:>"
      ]
     },
     "execution_count": 18,
     "metadata": {},
     "output_type": "execute_result"
    },
    {
     "data": {
      "image/png": "[encoded data removed]",
      "text/plain": [
       "<Figure size 432x288 with 1 Axes>"
      ]
     },
     "metadata": {
      "needs_background": "light"
     },
     "output_type": "display_data"
    }
   ],
   "source": [
    "homewood_pber.plot()"
   ]
  },
  {
   "cell_type": "code",
   "execution_count": 19,
   "id": "b5b7a6e7",
   "metadata": {},
   "outputs": [
    {
     "data": {
      "text/html": [
       "<div>\n",
       "<style scoped>\n",
       "    .dataframe tbody tr th:only-of-type {\n",
       "        vertical-align: middle;\n",
       "    }\n",
       "\n",
       "    .dataframe tbody tr th {\n",
       "        vertical-align: top;\n",
       "    }\n",
       "\n",
       "    .dataframe thead th {\n",
       "        text-align: right;\n",
       "    }\n",
       "</style>\n",
       "<table border=\"1\" class=\"dataframe\">\n",
       "  <thead>\n",
       "    <tr style=\"text-align: right;\">\n",
       "      <th></th>\n",
       "      <th>UNIQUE_ID</th>\n",
       "      <th>MNCIPAL</th>\n",
       "      <th>WARD</th>\n",
       "      <th>G20MYRNLAN</th>\n",
       "      <th>G20MYRNMCB</th>\n",
       "      <th>G20MYRNMCC</th>\n",
       "      <th>GCTC1NGEE</th>\n",
       "      <th>GCTC1NTHA</th>\n",
       "      <th>GCTC2NALE</th>\n",
       "      <th>GCTC2NNEW</th>\n",
       "      <th>GCTC2NBAY</th>\n",
       "      <th>GCTC2NLEB</th>\n",
       "      <th>GCTC2NLIM</th>\n",
       "      <th>GCTC2NWOL</th>\n",
       "      <th>GCTCN3HAR</th>\n",
       "      <th>GCTC3NSIM</th>\n",
       "      <th>GCTC3NWIL</th>\n",
       "      <th>GCTC3NJON</th>\n",
       "      <th>GCTC3NNAN</th>\n",
       "      <th>GCTC3NQUI</th>\n",
       "      <th>GCTC4NHAI</th>\n",
       "      <th>GCTC4NSMI</th>\n",
       "      <th>GCTC4NBAT</th>\n",
       "      <th>GCTC4NNEL</th>\n",
       "      <th>GCTC5NFOS</th>\n",
       "      <th>GCTC5NHAR</th>\n",
       "      <th>GCTC5NISB</th>\n",
       "      <th>geometry</th>\n",
       "    </tr>\n",
       "  </thead>\n",
       "  <tbody>\n",
       "    <tr>\n",
       "      <th>0</th>\n",
       "      <td>HOMEWOOD_CITYCOUNC-W1</td>\n",
       "      <td>Homewood City</td>\n",
       "      <td>1</td>\n",
       "      <td>284</td>\n",
       "      <td>168</td>\n",
       "      <td>273</td>\n",
       "      <td>426</td>\n",
       "      <td>299</td>\n",
       "      <td>0</td>\n",
       "      <td>0</td>\n",
       "      <td>0</td>\n",
       "      <td>0</td>\n",
       "      <td>0</td>\n",
       "      <td>0</td>\n",
       "      <td>0</td>\n",
       "      <td>0</td>\n",
       "      <td>0</td>\n",
       "      <td>0</td>\n",
       "      <td>0</td>\n",
       "      <td>0</td>\n",
       "      <td>0</td>\n",
       "      <td>0</td>\n",
       "      <td>0</td>\n",
       "      <td>0</td>\n",
       "      <td>0</td>\n",
       "      <td>0</td>\n",
       "      <td>0</td>\n",
       "      <td>POLYGON ((-86.78706 33.48411, -86.78710 33.483...</td>\n",
       "    </tr>\n",
       "    <tr>\n",
       "      <th>1</th>\n",
       "      <td>HOMEWOOD_CITYCOUNC-W2</td>\n",
       "      <td>Homewood City</td>\n",
       "      <td>2</td>\n",
       "      <td>245</td>\n",
       "      <td>384</td>\n",
       "      <td>468</td>\n",
       "      <td>0</td>\n",
       "      <td>0</td>\n",
       "      <td>638</td>\n",
       "      <td>421</td>\n",
       "      <td>316</td>\n",
       "      <td>181</td>\n",
       "      <td>145</td>\n",
       "      <td>447</td>\n",
       "      <td>0</td>\n",
       "      <td>0</td>\n",
       "      <td>0</td>\n",
       "      <td>0</td>\n",
       "      <td>0</td>\n",
       "      <td>0</td>\n",
       "      <td>0</td>\n",
       "      <td>0</td>\n",
       "      <td>0</td>\n",
       "      <td>0</td>\n",
       "      <td>0</td>\n",
       "      <td>0</td>\n",
       "      <td>0</td>\n",
       "      <td>POLYGON ((-86.83750 33.42882, -86.83750 33.428...</td>\n",
       "    </tr>\n",
       "    <tr>\n",
       "      <th>2</th>\n",
       "      <td>HOMEWOOD_CITYCOUNC-W3</td>\n",
       "      <td>Homewood City</td>\n",
       "      <td>3</td>\n",
       "      <td>248</td>\n",
       "      <td>401</td>\n",
       "      <td>635</td>\n",
       "      <td>0</td>\n",
       "      <td>0</td>\n",
       "      <td>0</td>\n",
       "      <td>0</td>\n",
       "      <td>0</td>\n",
       "      <td>0</td>\n",
       "      <td>0</td>\n",
       "      <td>0</td>\n",
       "      <td>306</td>\n",
       "      <td>547</td>\n",
       "      <td>402</td>\n",
       "      <td>710</td>\n",
       "      <td>141</td>\n",
       "      <td>382</td>\n",
       "      <td>0</td>\n",
       "      <td>0</td>\n",
       "      <td>0</td>\n",
       "      <td>0</td>\n",
       "      <td>0</td>\n",
       "      <td>0</td>\n",
       "      <td>0</td>\n",
       "      <td>POLYGON ((-86.82365 33.43444, -86.82362 33.434...</td>\n",
       "    </tr>\n",
       "    <tr>\n",
       "      <th>3</th>\n",
       "      <td>HOMEWOOD_CITYCOUNC-W4</td>\n",
       "      <td>Homewood City</td>\n",
       "      <td>4</td>\n",
       "      <td>488</td>\n",
       "      <td>310</td>\n",
       "      <td>623</td>\n",
       "      <td>0</td>\n",
       "      <td>0</td>\n",
       "      <td>0</td>\n",
       "      <td>0</td>\n",
       "      <td>0</td>\n",
       "      <td>0</td>\n",
       "      <td>0</td>\n",
       "      <td>0</td>\n",
       "      <td>0</td>\n",
       "      <td>0</td>\n",
       "      <td>0</td>\n",
       "      <td>0</td>\n",
       "      <td>0</td>\n",
       "      <td>0</td>\n",
       "      <td>604</td>\n",
       "      <td>783</td>\n",
       "      <td>556</td>\n",
       "      <td>812</td>\n",
       "      <td>0</td>\n",
       "      <td>0</td>\n",
       "      <td>0</td>\n",
       "      <td>MULTIPOLYGON (((-86.81247 33.44321, -86.81254 ...</td>\n",
       "    </tr>\n",
       "    <tr>\n",
       "      <th>4</th>\n",
       "      <td>HOMEWOOD_CITYCOUNC-W5</td>\n",
       "      <td>Homewood City</td>\n",
       "      <td>5</td>\n",
       "      <td>329</td>\n",
       "      <td>223</td>\n",
       "      <td>332</td>\n",
       "      <td>0</td>\n",
       "      <td>0</td>\n",
       "      <td>0</td>\n",
       "      <td>0</td>\n",
       "      <td>0</td>\n",
       "      <td>0</td>\n",
       "      <td>0</td>\n",
       "      <td>0</td>\n",
       "      <td>0</td>\n",
       "      <td>0</td>\n",
       "      <td>0</td>\n",
       "      <td>0</td>\n",
       "      <td>0</td>\n",
       "      <td>0</td>\n",
       "      <td>0</td>\n",
       "      <td>0</td>\n",
       "      <td>0</td>\n",
       "      <td>0</td>\n",
       "      <td>303</td>\n",
       "      <td>490</td>\n",
       "      <td>69</td>\n",
       "      <td>MULTIPOLYGON (((-86.77861 33.47598, -86.77433 ...</td>\n",
       "    </tr>\n",
       "  </tbody>\n",
       "</table>\n",
       "</div>"
      ],
      "text/plain": [
       "               UNIQUE_ID        MNCIPAL  WARD  G20MYRNLAN  G20MYRNMCB  \\\n",
       "0  HOMEWOOD_CITYCOUNC-W1  Homewood City     1         284         168   \n",
       "1  HOMEWOOD_CITYCOUNC-W2  Homewood City     2         245         384   \n",
       "2  HOMEWOOD_CITYCOUNC-W3  Homewood City     3         248         401   \n",
       "3  HOMEWOOD_CITYCOUNC-W4  Homewood City     4         488         310   \n",
       "4  HOMEWOOD_CITYCOUNC-W5  Homewood City     5         329         223   \n",
       "\n",
       "   G20MYRNMCC  GCTC1NGEE  GCTC1NTHA  GCTC2NALE  GCTC2NNEW  GCTC2NBAY  \\\n",
       "0         273        426        299          0          0          0   \n",
       "1         468          0          0        638        421        316   \n",
       "2         635          0          0          0          0          0   \n",
       "3         623          0          0          0          0          0   \n",
       "4         332          0          0          0          0          0   \n",
       "\n",
       "   GCTC2NLEB  GCTC2NLIM  GCTC2NWOL  GCTCN3HAR  GCTC3NSIM  GCTC3NWIL  \\\n",
       "0          0          0          0          0          0          0   \n",
       "1        181        145        447          0          0          0   \n",
       "2          0          0          0        306        547        402   \n",
       "3          0          0          0          0          0          0   \n",
       "4          0          0          0          0          0          0   \n",
       "\n",
       "   GCTC3NJON  GCTC3NNAN  GCTC3NQUI  GCTC4NHAI  GCTC4NSMI  GCTC4NBAT  \\\n",
       "0          0          0          0          0          0          0   \n",
       "1          0          0          0          0          0          0   \n",
       "2        710        141        382          0          0          0   \n",
       "3          0          0          0        604        783        556   \n",
       "4          0          0          0          0          0          0   \n",
       "\n",
       "   GCTC4NNEL  GCTC5NFOS  GCTC5NHAR  GCTC5NISB  \\\n",
       "0          0          0          0          0   \n",
       "1          0          0          0          0   \n",
       "2          0          0          0          0   \n",
       "3        812          0          0          0   \n",
       "4          0        303        490         69   \n",
       "\n",
       "                                            geometry  \n",
       "0  POLYGON ((-86.78706 33.48411, -86.78710 33.483...  \n",
       "1  POLYGON ((-86.83750 33.42882, -86.83750 33.428...  \n",
       "2  POLYGON ((-86.82365 33.43444, -86.82362 33.434...  \n",
       "3  MULTIPOLYGON (((-86.81247 33.44321, -86.81254 ...  \n",
       "4  MULTIPOLYGON (((-86.77861 33.47598, -86.77433 ...  "
      ]
     },
     "execution_count": 19,
     "metadata": {},
     "output_type": "execute_result"
    }
   ],
   "source": [
    "homewood_pber.head()"
   ]
  },
  {
   "cell_type": "markdown",
   "id": "c1948c5c",
   "metadata": {},
   "source": [
    "<p><a name=\"exp\"></a></p>\n",
    "\n",
    "### Export Cleaned Datasets"
   ]
  },
  {
   "cell_type": "code",
   "execution_count": 20,
   "id": "53251f5f",
   "metadata": {},
   "outputs": [],
   "source": [
    "if not os.path.exists(\"./AL20_HOMEWOOD_PBER/AL20_HOMEWOOD_PBER\"):\n",
    "    os.mkdir(\"./AL20_HOMEWOOD_PBER/AL20_HOMEWOOD_PBER\")\n",
    "\n",
    "homewood_pber.to_file(\"./AL20_HOMEWOOD_PBER/AL20_HOMEWOOD_PBER/AL20_HOMEWOOD_PBER.shp\")\n",
    "baf.to_csv('./AL20_HOMEWOOD_PBER/AL20_HOMEWOOD_BAF.csv', index=False)"
   ]
  },
  {
   "cell_type": "code",
   "execution_count": 21,
   "id": "c862a66b",
   "metadata": {},
   "outputs": [],
   "source": [
    "def check_file(path):\n",
    "    if \".csv\" in path:\n",
    "        file_type = \".csv\"\n",
    "        load = pd.read_csv(path)\n",
    "    elif \".shp\" in path:\n",
    "        file_type = \".shp\"\n",
    "        load = gp.read_file(path)\n",
    "        assert(os.path.exists(path[0:-4] + \".cpg\"))\n",
    "        assert(os.path.exists(path[0:-4] + \".dbf\"))\n",
    "        assert(os.path.exists(path[0:-4] + \".prj\"))\n",
    "        assert(os.path.exists(path[0:-4] + \".shx\"))\n",
    "    else:\n",
    "        raise ValueError (\"Other function needed to load non .csv or .shp\")\n",
    "    run_checks(load, path, file_type)\n",
    "    \n",
    "def run_checks(file, path, file_type):\n",
    "    if \"/Users\" in path:\n",
    "        path = path.replace(\"/Users\",\"\")\n",
    "    path_name = path.replace(\"/\",\"-\")\n",
    "    \n",
    "        \n",
    "    with open(\"./FILE_CHECK\" + path_name + \".txt\",\"w\") as t:\n",
    "        t.write(\"***RDH FILE CHECKER***\\n\")\n",
    "        t.write(\"Checking file located at \" + path+\"\\n\")\n",
    "        t.write(\"\\n\")\n",
    "        t.write(\"\\n\")        \n",
    "        \n",
    "        t.write(\"***N/A VALUES***\\n\")\n",
    "        if(file.isna().any().sum() != 0):\n",
    "            t.write(\"N/A values in the following columns\\n\")\n",
    "            for col in file.columns:\n",
    "                num_nas = file[col].isna().sum()\n",
    "                string_nans = file[file[col]==\"nan\"].shape[0]\n",
    "                if file[col].isna().any().sum():\n",
    "                    t.write(\"\\t\"+col+\" - \"+ str(num_nas) +\" row(s)\\n\")\n",
    "                elif  string_nans > 0:\n",
    "                    t.write(\"\\t\"+col+\" - \"+ str(string_nans) +\" row(s)\\n\")\n",
    "\n",
    "        else:\n",
    "            t.write(\"Do not appear to be N/A values\")\n",
    "        t.write(\"\\n\")\n",
    "        t.write(\"\\n\")\n",
    "        \n",
    "        t.write(\"***File Size***\\n\")\n",
    "        t.write(\"File contains \" + str(file.shape[0]) + \" row(s)\\n\")\n",
    "        t.write(\"File contains \" + str(file.shape[1]) + \" column(s)\\n\")\n",
    "        t.write(\"\\n\")\n",
    "        t.write(\"\\n\")\n",
    "        \n",
    "        if file_type == \".shp\":\n",
    "            t.write(\"***Invalid Geometries***\\n\")\n",
    "            t.write(\"File contains \" + str(file[~file[\"geometry\"].is_valid].shape[0]) + \" invalid GEOM row(s)\\n\")\n",
    "            t.write(\"File contains \" + str(file[file[\"geometry\"].is_valid].shape[0]) + \" valid GEOM row(s)\\n\")\n",
    "            t.write(\"\\n\")\n",
    "            t.write(\"\\n\")\n",
    "\n",
    "        t.write(\"***COLUMN NAMES***\\n\")\n",
    "        t.write(str(list(file.columns)))\n",
    "        t.write(\"\\n\")\n",
    "        t.write(\"\\n\")\n",
    "        \n",
    "        t.write(\"***COLUMN NAME LENGTHS***\\n\")\n",
    "        long_col_name_list = [i for i in file.columns if len(i) > 10]\n",
    "        if len(long_col_name_list) > 0:\n",
    "            t.write(\"The following columns are longer than 10 characters:\" + str(long_col_name_list)+\"\\n\")\n",
    "        else:\n",
    "            t.write(\"No column names are longer than 10 characters\\n\")\n",
    "        t.write(\"\\n\")\n",
    "        t.write(\"\\n\")\n",
    "\n",
    "        t.write(\"***FULL FILE SUMMARY***\\n\")\n",
    "        t.write(str(file.describe())+\"\\n\")\n",
    "        t.write(\"\\n\")\n",
    "        t.write(\"\\n\")\n",
    "\n",
    "        t.write(\"***MAX VALUE FOR EVERY DATA COLUMN***\\n\")\n",
    "        t.write(str(file.max()) + \"\\n\")\n",
    "        t.write(\"\\n\")\n",
    "        t.write(\"\\n\")\n",
    "\n",
    "        t.write(\"***MIN VALUE FOR EVERY DATA COLUMN***\\n\")\n",
    "        t.write(str(file.min()) + \"\\n\")\n",
    "        t.write(\"\\n\")\n",
    "        \n",
    "        t.write(\"***NUMERIC COLUMN SUMS***\\n\")\n",
    "        t.write(str(file.sum(numeric_only=True))+\"\\n\")\n",
    "        t.write(\"\\n\")\n",
    "        t.write(\"\\n\")\n",
    "\n",
    "        t.write(\"***COLUMNS AND DUPLICATE VALUES***\\n\")\n",
    "        for col in list(file.columns):\n",
    "            if col != \"geometry\":\n",
    "                if max(file[col].value_counts(dropna = False))==1:\n",
    "                    t.write(\"NO: Column \" + col + \" DOES NOT HAVE duplicate values\\n\")\n",
    "                elif max(file[col].value_counts(dropna = False))>1:\n",
    "                    t.write(\"YES: Column \" + col+ \" HAS duplicate values\\n\")\n",
    "        t.write(\"\\n\")\n"
   ]
  },
  {
   "cell_type": "code",
   "execution_count": 22,
   "id": "5d889325",
   "metadata": {},
   "outputs": [],
   "source": [
    "check_file(\"./AL20_HOMEWOOD_PBER/AL20_HOMEWOOD_PBER/AL20_HOMEWOOD_PBER.shp\")"
   ]
  }
 ],
 "metadata": {
  "kernelspec": {
   "display_name": "Python 3",
   "language": "python",
   "name": "python3"
  },
  "language_info": {
   "codemirror_mode": {
    "name": "ipython",
    "version": 3
   },
   "file_extension": ".py",
   "mimetype": "text/x-python",
   "name": "python",
   "nbconvert_exporter": "python",
   "pygments_lexer": "ipython3",
   "version": "3.8.8"
  }
 },
 "nbformat": 4,
 "nbformat_minor": 5
}
